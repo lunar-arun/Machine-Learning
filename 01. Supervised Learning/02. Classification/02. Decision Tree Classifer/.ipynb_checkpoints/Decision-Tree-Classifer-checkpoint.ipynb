{
 "cells": [
  {
   "cell_type": "markdown",
   "id": "2de4c5ad",
   "metadata": {},
   "source": [
    "    On REAL-TIME project, dont rely on the template rather apply the concept from this."
   ]
  },
  {
   "cell_type": "code",
   "execution_count": null,
   "id": "af3c86c1",
   "metadata": {},
   "outputs": [],
   "source": [
    "# Data Processing\n",
    "import pandas as pd\n",
    "import numpy as np\n",
    "\n",
    "# Modelling\n",
    "from sklearn.tree import DecisionTreeClassifier\n",
    "from sklearn.metrics import accuracy_score, confusion_matrix, precision_score, recall_score, ConfusionMatrixDisplay\n",
    "from sklearn.model_selection import GridSearchCV, train_test_split\n",
    "\n",
    "# Visualisation\n",
    "from sklearn import tree\n",
    "import matplotlib.pyplot as plt\n",
    "import seaborn as sns\n",
    "\n",
    "\n",
    "import warnings\n",
    "warnings.filterwarnings('ignore')"
   ]
  },
  {
   "cell_type": "code",
   "execution_count": null,
   "id": "b077ceeb",
   "metadata": {},
   "outputs": [],
   "source": []
  },
  {
   "cell_type": "code",
   "execution_count": null,
   "id": "292b5462",
   "metadata": {},
   "outputs": [],
   "source": [
    "# Declare feature vector and target variable\n",
    "X = df.drop(['target'], axis = 1)\n",
    "\n",
    "y = df['target']\n",
    "\n",
    "# split data into training and testing sets\n",
    "X_train, X_test, y_train, y_test = train_test_split(X, y, test_size = 0.33, random_state = 42)"
   ]
  },
  {
   "cell_type": "code",
   "execution_count": null,
   "id": "403dac1d",
   "metadata": {},
   "outputs": [],
   "source": []
  },
  {
   "cell_type": "code",
   "execution_count": null,
   "id": "63353157",
   "metadata": {},
   "outputs": [],
   "source": [
    "dfc_model1 = DecisionTreeClassifier().fit(xtrain, ytrain)"
   ]
  },
  {
   "cell_type": "code",
   "execution_count": null,
   "id": "a1345ada",
   "metadata": {},
   "outputs": [],
   "source": []
  },
  {
   "cell_type": "code",
   "execution_count": null,
   "id": "2b881447",
   "metadata": {},
   "outputs": [],
   "source": [
    "# Create a DecisionTreeClassifier\n",
    "dt_classifier = DecisionTreeClassifier()\n",
    "\n",
    "# Define the hyperparameter grid for GridSearchCV\n",
    "params = {\n",
    "    'criterion': ['gini', 'entropy'],\n",
    "    'max_depth': [None, 5, 10, 15, 20],\n",
    "    'min_samples_split': [2, 5, 10],\n",
    "    'min_samples_leaf': [1, 2, 4, 8],\n",
    "    'max_features': ['auto', 'sqrt', 'log2'],\n",
    "    'random_state': [42]\n",
    "}\n",
    "\n",
    "# Create a GridSearchCV object\n",
    "grid_search = GridSearchCV(estimator=dt_classifier, param_grid=params, cv=4, n_jobs=-1, verbose=1, scoring=\"accuracy\")\n",
    "\n",
    "# Fit the grid search to your training data\n",
    "grid_search.fit(X_train, y_train)\n",
    "\n",
    "# Get the best hyperparameters and the corresponding model\n",
    "best_params = grid_search.best_params_\n",
    "best_model = grid_search.best_estimator_\n",
    "\n",
    "# Check the best score\n",
    "best_score = grid_search.best_score_\n",
    "\n",
    "print(\"Best Parameters:\", best_params)\n",
    "print(\"Best Score (Grid Search):\", best_score)"
   ]
  },
  {
   "cell_type": "code",
   "execution_count": null,
   "id": "17a349c4",
   "metadata": {},
   "outputs": [],
   "source": []
  },
  {
   "cell_type": "code",
   "execution_count": null,
   "id": "459bb38c",
   "metadata": {},
   "outputs": [],
   "source": [
    "final_dtc_model.fit(X_train, y_train)\n",
    "\n",
    "dtc_predicted_y_train = final_dtc_model.predict(X_train)\n",
    "dtc_Train_accuracy = accuracy_score(y_train, dtc_predicted_y_train)\n",
    "\n",
    "dtc_predicted_y_test = final_dtc_model.predict(X_test)\n",
    "dtc_Train_accuracy = accuracy_score(y_test, dtc_predicted_y_test)\n",
    "\n",
    "print(f\"Train Accuraccy : {dtc_Train_accuracy}\")\n",
    "print(f\"Train Accuraccy : {dtc_Train_accuracy}\")"
   ]
  },
  {
   "cell_type": "code",
   "execution_count": null,
   "id": "1abd1389",
   "metadata": {},
   "outputs": [],
   "source": []
  },
  {
   "cell_type": "code",
   "execution_count": null,
   "id": "5e46ba8e",
   "metadata": {},
   "outputs": [],
   "source": [
    "alpha_dict  = final_dtc_model.cost_complexity_pruning_path(X_train, y_train)\n",
    "ccp_alphas = alpha_dict[\"ccp_alphas\"]\n",
    "impurities = alpha_dict[\"impurities\"]\n",
    "print(f'ccp_alpha : {ccp_alphas}\\n Impurities : {impurities}')"
   ]
  },
  {
   "cell_type": "code",
   "execution_count": null,
   "id": "e9db429e",
   "metadata": {},
   "outputs": [],
   "source": []
  },
  {
   "cell_type": "code",
   "execution_count": null,
   "id": "23a1f1e0",
   "metadata": {},
   "outputs": [],
   "source": [
    "test_accuracy_1 = []\n",
    "train_accuracy_1 = []\n",
    "for alpha in ccp_alphas:\n",
    "    \n",
    "    Model = DecisionTreeClassifier(ccp_alpha = alpha, criterion = 'entropy', max_depth = 10, max_features = 'auto', min_samples_leaf = 2, min_samples_split = 2, random_state = 42).fit(X_train, y_train)\n",
    "    pred_test = Model.predict(X_test)\n",
    "    test_accuracy = accuracy_score(y_test, pred_test)\n",
    "    \n",
    "    pred_train = Model.predict(X_train)\n",
    "    train_accuracy = accuracy_score(y_train, pred_train)\n",
    "    \n",
    "    train_accuracy_1.append(train_accuracy)\n",
    "    test_accuracy_1.append(test_accuracy)\n",
    "    \n",
    "df_ccp_alpha = pd.DataFrame()\n",
    "df_ccp_alpha['train_accuracy_1'] = train_accuracy_1\n",
    "df_ccp_alpha['test_accuracy_1'] = test_accuracy_1\n",
    "df_ccp_alpha['Alpha'] = ccp_alphas\n",
    "df_ccp_alpha['gap'] = abs(df_ccp_alpha['train_accuracy_1'] - df_ccp_alpha['test_accuracy_1'])\n",
    "df_ccp_alpha.head()"
   ]
  },
  {
   "cell_type": "code",
   "execution_count": null,
   "id": "63ff83b9",
   "metadata": {},
   "outputs": [],
   "source": []
  },
  {
   "cell_type": "code",
   "execution_count": null,
   "id": "770d0911",
   "metadata": {},
   "outputs": [],
   "source": [
    "plt.plot(df_ccp_alpha['test_accuracy_1'], color = 'red', marker = '*')\n",
    "plt.plot(df_ccp_alpha['train_accuracy_1'], color = 'green', marker = '*')"
   ]
  },
  {
   "cell_type": "code",
   "execution_count": null,
   "id": "8f23dd4a",
   "metadata": {},
   "outputs": [],
   "source": []
  },
  {
   "cell_type": "code",
   "execution_count": null,
   "id": "c405ad7c",
   "metadata": {},
   "outputs": [],
   "source": [
    "filtered_df = df_ccp_alpha[(df_ccp_alpha['train_accuracy_1'] > 0.9) & (df_ccp_alpha['test_accuracy_1'] > 0.9)]\n",
    "\n",
    "# If there are no rows matching the condition, you can handle that case\n",
    "if filtered_df.empty:\n",
    "    print(\"No rows meet the criteria.\")\n",
    "else:\n",
    "    # Find the row with the least gap\n",
    "    min_gap_row = filtered_df[filtered_df['gap'] == filtered_df['gap'].min()]\n",
    "    \n",
    "    # Get the corresponding alpha value\n",
    "    corresponding_alpha = min_gap_row['Alpha'].iloc[0]\n",
    "    \n",
    "    print(f\"The least gap is {min_gap_row['gap'].iloc[0]} with Accuracy of which corresponds to  Alpha value {corresponding_alpha}\")\n",
    "min_gap_row"
   ]
  },
  {
   "cell_type": "code",
   "execution_count": null,
   "id": "b2f9bac1",
   "metadata": {},
   "outputs": [],
   "source": []
  },
  {
   "cell_type": "code",
   "execution_count": null,
   "id": "92fd2ff2",
   "metadata": {},
   "outputs": [],
   "source": [
    "model_tree_2 = DecisionTreeClassifier(ccp_alpha = 0.003457216940363008, criterion = 'entropy', max_depth = 10, max_features = 'auto', min_samples_leaf = 2, min_samples_split = 2, random_state = 42).fit(X_train, y_train)\n",
    "\n",
    "# Check whether how this model fits the data\n",
    "predicted_y_train2 = model_tree_2.predict(X_train)\n",
    "train_accuracy_2 = accuracy_score(y_train, predicted_y_train2)\n",
    "\n",
    "predicted_y_test2 = model_tree_2.predict(X_test)\n",
    "test_accuracy_2 = accuracy_score(y_test, predicted_y_test2)\n",
    "\n",
    "print(f\"Train Accuraccy : {train_accuracy_2}\")\n",
    "print(f\"Train Accuraccy : {test_accuracy_2}\")"
   ]
  },
  {
   "cell_type": "code",
   "execution_count": null,
   "id": "9dbad828",
   "metadata": {},
   "outputs": [],
   "source": []
  },
  {
   "cell_type": "code",
   "execution_count": null,
   "id": "83a6711f",
   "metadata": {},
   "outputs": [],
   "source": [
    "plt.figure(figsize = (20,20))\n",
    "tree.plot_tree(model_tree_2, feature_names = X_train.columns)\n",
    "plt.show()"
   ]
  }
 ],
 "metadata": {
  "kernelspec": {
   "display_name": "Python 3 (ipykernel)",
   "language": "python",
   "name": "python3"
  },
  "language_info": {
   "codemirror_mode": {
    "name": "ipython",
    "version": 3
   },
   "file_extension": ".py",
   "mimetype": "text/x-python",
   "name": "python",
   "nbconvert_exporter": "python",
   "pygments_lexer": "ipython3",
   "version": "3.10.9"
  }
 },
 "nbformat": 4,
 "nbformat_minor": 5
}
