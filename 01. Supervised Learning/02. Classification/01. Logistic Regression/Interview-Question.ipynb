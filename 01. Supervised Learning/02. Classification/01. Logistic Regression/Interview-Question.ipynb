{
 "cells": [
  {
   "cell_type": "markdown",
   "id": "3eb68bea",
   "metadata": {},
   "source": [
    "    what is Logistic Regression?\n",
    "        It's a 'Supervised Classification ML Algorithm' which predicts the categorical value from continous or discrete independent variable."
   ]
  },
  {
   "cell_type": "markdown",
   "id": "72461373",
   "metadata": {},
   "source": [
    "    what is odds?\n",
    "        It's the probability of a event happening by not happening"
   ]
  },
  {
   "cell_type": "markdown",
   "id": "87b931e6",
   "metadata": {},
   "source": [
    "    what is log of odds?\n",
    "        It's the natural of odds which is log of ratio of probability of event happening and not happening."
   ]
  },
  {
   "cell_type": "markdown",
   "id": "61d1cbbd",
   "metadata": {},
   "source": [
    "    why it is named as Regression but not classifer?\n",
    "        Due to Logic Function log[p(x)/1 - p(x)] = α + β x.\n",
    "            or \n",
    "        The log of odds is a linear equation"
   ]
  },
  {
   "cell_type": "markdown",
   "id": "a950323f",
   "metadata": {},
   "source": [
    "    How are the Parameters estimated?\n",
    "        α, β is estimated by MLE : Maximum Likelihood Estimation"
   ]
  },
  {
   "cell_type": "markdown",
   "id": "cafad28c",
   "metadata": {},
   "source": [
    "    what is MLE?\n",
    "        Goal : To seek the parameter that make the observe data most probable under the assumed model.\n",
    "        \n",
    "        It calculate the probability value for each data point in the feature and then calculate the likelihood of the data point to classify output."
   ]
  },
  {
   "cell_type": "markdown",
   "id": "20dc3a3b",
   "metadata": {},
   "source": [
    "    Log loss?\n",
    "        It's Binary Cross entropy loss\n",
    "            meaning : Measure of impurity.\n",
    "        Log loss = -y log(ŷ) + (1-y) log(1 - ŷ)"
   ]
  },
  {
   "cell_type": "markdown",
   "id": "e45564a4",
   "metadata": {},
   "source": [
    "    How to measure efficiency | Performance metric Logistic Regression Model?"
   ]
  },
  {
   "cell_type": "markdown",
   "id": "3d6ce713",
   "metadata": {},
   "source": [
    "    R^2 -> Accuracy\n",
    "        Its the number of Corrected Predicted by Total Number of Prediction.\n",
    "\n",
    "    what are the other R^2?\n",
    "        Cox-shell R^2\n",
    "        McFadden R^2\n",
    "        NagelKulu R^2\n",
    "        Pseudo R^2"
   ]
  },
  {
   "cell_type": "markdown",
   "id": "57c8da01",
   "metadata": {},
   "source": [
    "    what is overdispersion?\n",
    "        Its when error are more variable than expected from binomial distribution."
   ]
  },
  {
   "cell_type": "markdown",
   "id": "5f299301",
   "metadata": {},
   "source": [
    "    No Information Criteria"
   ]
  },
  {
   "cell_type": "markdown",
   "id": "fe765a6c",
   "metadata": {},
   "source": [
    "    what is Cohen's Kappa Score?\n",
    "        Used to determine whether the agreement between the two raters is better than what would be expected by chance alone.\n",
    "        \n",
    "        Range from -1 to 1.\n",
    "            value of 1 indicates perfect agreement.\n",
    "            value of 0 indicates agreement equivalent to what would be expected by chance alone.\n",
    "            value less than 0 indicates agreement worse than what would be expected by chance.\n",
    "        \n",
    "        useful evaluation metric when dealing with imbalanced data."
   ]
  },
  {
   "cell_type": "markdown",
   "id": "fb9c4e3d",
   "metadata": {},
   "source": [
    "    Confusion Matrix :\n",
    "        A matrix that is often used in classification tasks to evaluate the performance of a machine learning.\n",
    "        \n",
    "                          Predicted\n",
    "                     Positive    Negative\n",
    "    Actual Positive    TP         FN\n",
    "    Actual Negative    FP         TN\n"
   ]
  },
  {
   "cell_type": "markdown",
   "id": "f09051cd",
   "metadata": {},
   "source": [
    "    (TP) True Positive :\n",
    "        Cases where the model correctly predicted the positive class ."
   ]
  },
  {
   "cell_type": "markdown",
   "id": "c7516952",
   "metadata": {},
   "source": [
    "    (TN) True Negative : \n",
    "        Cases where the model correctly predicted the negative class."
   ]
  },
  {
   "cell_type": "markdown",
   "id": "5babd65e",
   "metadata": {},
   "source": [
    "    (FP) False Positive : \n",
    "        Cases where the model incorrectly predicted the positive class when it should have predicted the negative class."
   ]
  },
  {
   "cell_type": "markdown",
   "id": "38260e0c",
   "metadata": {},
   "source": [
    "    (FN) False Negative : \n",
    "        Cases where the model incorrectly predicted the negative class when it should have predicted the positive class."
   ]
  },
  {
   "cell_type": "markdown",
   "id": "065ab93c",
   "metadata": {},
   "source": [
    "    Accuracy : \n",
    "        Overall correct prediction of model.\n",
    "    \n",
    "        (TP + TN) / (TP + TN + FP + FN)"
   ]
  },
  {
   "cell_type": "markdown",
   "id": "b2a4c63c",
   "metadata": {},
   "source": [
    "    Precision :  (Positive Predictive Value)\n",
    "        Among all predicted Positive, how many are correctled predicted as positive.\n",
    "        \n",
    "        TP / (TP + FP)"
   ]
  },
  {
   "cell_type": "markdown",
   "id": "4643db17",
   "metadata": {},
   "source": [
    "    Recall : (Sensitivity or True Positive Rate)\n",
    "        Among all actual Positve, how many are correctled predicted as postive.\n",
    "    \n",
    "        TP / (TP + FN)"
   ]
  },
  {
   "cell_type": "markdown",
   "id": "27f6722f",
   "metadata": {},
   "source": [
    "    Specificity :  (True Negative Rate)\n",
    "    \n",
    "        TN / (TN + FP)"
   ]
  },
  {
   "cell_type": "markdown",
   "id": "7447a0f5",
   "metadata": {},
   "source": [
    "    (FPR) False Positive Rate \n",
    "    \n",
    "        FP / (TN + FP)"
   ]
  },
  {
   "cell_type": "markdown",
   "id": "38e4a060",
   "metadata": {},
   "source": [
    "    (FNR) False Negative Rate : \n",
    "    \n",
    "        FN / (FN + TP)"
   ]
  },
  {
   "cell_type": "markdown",
   "id": "158d7e8e",
   "metadata": {},
   "source": [
    "    F-1 Score :\n",
    "        It combines the precision and recall of a classifer into a single metric by taking harmonic mean.\n",
    "        2 * (Precision * Recall) / (Precision + Recall) "
   ]
  },
  {
   "cell_type": "markdown",
   "id": "84a97624",
   "metadata": {},
   "source": [
    "    Precision can be seen as a measure of quality, and recall as a measure of quantity. Higher precision means that an algorithm returns more relevant results than irrelevant ones, and high recall means that an algorithm returns most of the relevant results (whether or not irrelevant ones are also returned)."
   ]
  },
  {
   "cell_type": "markdown",
   "id": "1fc4bee2",
   "metadata": {},
   "source": [
    "    How to find best threshold value for the model?\n",
    "        By plotting ROC Curve.\n",
    "        \n",
    "            ROC : Receiver Operating Characteristic"
   ]
  },
  {
   "cell_type": "markdown",
   "id": "f3d8d949",
   "metadata": {},
   "source": [
    "    what is prevalance rate?\n",
    "        Tell how balanced is your data."
   ]
  }
 ],
 "metadata": {
  "kernelspec": {
   "display_name": "Python 3 (ipykernel)",
   "language": "python",
   "name": "python3"
  },
  "language_info": {
   "codemirror_mode": {
    "name": "ipython",
    "version": 3
   },
   "file_extension": ".py",
   "mimetype": "text/x-python",
   "name": "python",
   "nbconvert_exporter": "python",
   "pygments_lexer": "ipython3",
   "version": "3.10.9"
  }
 },
 "nbformat": 4,
 "nbformat_minor": 5
}
