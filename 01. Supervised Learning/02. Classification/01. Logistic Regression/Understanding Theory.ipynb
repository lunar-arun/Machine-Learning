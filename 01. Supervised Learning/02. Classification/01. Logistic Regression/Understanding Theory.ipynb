{
 "cells": [
  {
   "cell_type": "markdown",
   "id": "e6620e55",
   "metadata": {},
   "source": [
    "# Logistic Regression"
   ]
  },
  {
   "cell_type": "markdown",
   "id": "f80568ac",
   "metadata": {},
   "source": [
    "    Logistic regression is designed to predict the probability that a given instance belongs to a particular category. \n",
    "\n",
    "\n",
    "    Model p as a linear function of the predictor variables\n",
    "    \n",
    "$$p(x) = β_0 + β_1x_1 + β_2x_2 + ⋯ + β_qx_q$$\n",
    "\n",
    "    While model building it doesn't ensure p to lie between 0 and 1, as probability must be.\n",
    "    \n",
    "    So we apply inverse logit function\n",
    "    \n",
    "$$ p(x) = \\frac{1}{1 + e^{-(β_0 + β_1x_1 + β_2x_2 + ⋯ + β_qx_q)}} $$\n",
    "\n",
    "    This ensure that p stays between 0 and 1\n",
    "    \n",
    "    On simplification\n",
    "    \n",
    "$$ p(x) = \\frac{e^{(β_0 + β_1x_1 + β_2x_2 + ⋯ + β_qx_q)}}{e^{(β_0 + β_1x_1 + β_2x_2 + ⋯ + β_qx_q)}+1} $$    \n",
    "    \n",
    "$$ e^{(β_0 + β_1x_1 + β_2x_2 + ⋯ + β_qx_q)} = \\frac{p(x)}{1 - p(x)}$$  \n",
    "\n",
    "    This RHS is called odds : ratio of probability of happening(success) by not happening(not succes)\n",
    "    \n",
    "$$ odds = \\frac{p(x)}{1 - p(x)}$$  \n",
    "\n",
    "    Log of odds function is called logit function.\n",
    "\n",
    "$$ log(\\frac{p(x)}{1 - p(x)}) = β_0 + β_1x_1 + β_2x_2 + ⋯ + β_qx_q$$ \n",
    "    \n",
    "    The above function maps the probability p from (0,1) to any value (−∞, +∞)."
   ]
  },
  {
   "cell_type": "markdown",
   "id": "46628654",
   "metadata": {},
   "source": [
    "---"
   ]
  },
  {
   "cell_type": "markdown",
   "id": "a85ab37a",
   "metadata": {},
   "source": [
    "    Parameter of Logistic Regression\n",
    "    \n",
    "$$β_0 , β_1 , β_2 , ⋯ , β_q$$\n",
    "    \n",
    "    Statistical Method : \n",
    "        This is estimated by maximum likelihood estimation (MLE)\n",
    "    \n",
    "        MLE is process that tries to find the model that is most likely to have produced the data.\n",
    "        The MLE finds the solution such that the estimated log odds best describes the observed outcome.\n",
    "        \n",
    "$$X = x_1 , x_2 , ⋯, x_q$$   \n",
    "\n",
    "$$p_β(X) = β_0 + β_1x_1 + β_2x_2 + ⋯ + β_qx_q$$       \n",
    "\n",
    "        The goal of MLE is to find the set of parameters that maximizes the value of p(X) that is, it maximizes the probability of observing X given the model p.\n",
    "        In the fitting process , the model is evaluated using a metric called deviance:\n",
    "   \n",
    "$$ deviance = -2log(β_0 + β_1x_1 + β_2x_2 + ⋯ + β_qx_q)$$       \n",
    "\n",
    "        Lower deviance corresponds to a better fit"
   ]
  },
  {
   "cell_type": "markdown",
   "id": "855f63b6",
   "metadata": {},
   "source": [
    "---"
   ]
  },
  {
   "cell_type": "markdown",
   "id": "7373cc42",
   "metadata": {},
   "source": [
    "    Performance Metrics\n",
    "    \n",
    "        Accuracy : Proportion of cases classified correctly.\n",
    "\n",
    "$$accuracy = \\frac{\\text{Total number of correctly predicted}}{\\text{Total number of Prediction}}$$   \n",
    "\n",
    "$$accuracy = \\frac{(\\sum{True Positive}+{\\sum{True Negative}})}{SampleSize}$$        "
   ]
  },
  {
   "cell_type": "markdown",
   "id": "d610236d",
   "metadata": {},
   "source": [
    "---"
   ]
  },
  {
   "cell_type": "markdown",
   "id": "7b1129d0",
   "metadata": {},
   "source": [
    "        Over Dispersion :\n",
    "            The variance of the response is greater than what's assumed by the model.            "
   ]
  },
  {
   "cell_type": "markdown",
   "id": "66dc787c",
   "metadata": {},
   "source": [
    "---"
   ]
  },
  {
   "cell_type": "markdown",
   "id": "c7b8647b",
   "metadata": {},
   "source": [
    "        Cohen's Kappa Score :\n",
    "            Assess the level of agreement between actual and predicted variable.\n",
    "            \n",
    "$$k = \\frac{2 *\\text{TP * TN - FN * FP}}{\\text{(TP + FP) * (FP + TN) * (TN + FN) * (FN + TP)}}$$   \n",
    "\n",
    "        Interpretation\n",
    "            Kappa          Agreement\n",
    "            <0             Less than chance agreement\n",
    "            <.6            Fair or slight agreement\n",
    "            .61-.80        Substantial agreement\n",
    "            .81-.99        Almost perfect agreement"
   ]
  },
  {
   "cell_type": "markdown",
   "id": "9a3f0165",
   "metadata": {},
   "source": [
    "---"
   ]
  },
  {
   "cell_type": "markdown",
   "id": "a9e70f01",
   "metadata": {},
   "source": [
    "        No Information Criteria"
   ]
  },
  {
   "cell_type": "markdown",
   "id": "09fb0ed7",
   "metadata": {},
   "source": [
    "---"
   ]
  },
  {
   "cell_type": "markdown",
   "id": "22c14505",
   "metadata": {},
   "source": [
    "        Confusion Matrix : \n",
    "            A tabular display of the record counts by their predicted and actual classification status."
   ]
  },
  {
   "cell_type": "markdown",
   "id": "6b85b25c",
   "metadata": {},
   "source": [
    "---"
   ]
  },
  {
   "cell_type": "markdown",
   "id": "6d66e4c4",
   "metadata": {},
   "source": [
    "        True Positive(TP)"
   ]
  },
  {
   "cell_type": "markdown",
   "id": "47f3afd2",
   "metadata": {},
   "source": [
    "---"
   ]
  },
  {
   "cell_type": "markdown",
   "id": "594f5657",
   "metadata": {},
   "source": [
    "        True Negative(TN)"
   ]
  },
  {
   "cell_type": "markdown",
   "id": "acf2bcbc",
   "metadata": {},
   "source": [
    "---"
   ]
  },
  {
   "cell_type": "markdown",
   "id": "25be38db",
   "metadata": {},
   "source": [
    "        False Positive(FP)"
   ]
  },
  {
   "cell_type": "markdown",
   "id": "124b9283",
   "metadata": {},
   "source": [
    "---"
   ]
  },
  {
   "cell_type": "markdown",
   "id": "91d54767",
   "metadata": {},
   "source": [
    "        False Negative(FN)"
   ]
  },
  {
   "cell_type": "markdown",
   "id": "ea82d7f2",
   "metadata": {},
   "source": [
    "---"
   ]
  },
  {
   "cell_type": "markdown",
   "id": "8a8b4f07",
   "metadata": {},
   "source": [
    "        Precision : \n",
    "            Among all predicted +ve how many are correctly predicted a +ve.\n",
    "            \n",
    "$$Precision = \\frac{\\text{TP}}{\\text{TP + FP}}$$            "
   ]
  },
  {
   "cell_type": "markdown",
   "id": "92c96b95",
   "metadata": {},
   "source": [
    "---"
   ]
  },
  {
   "cell_type": "markdown",
   "id": "5d14df9b",
   "metadata": {},
   "source": [
    "        Recall :\n",
    "            Among all actual +ve how many are correctly predicted a +ve.\n",
    "            \n",
    "$$Recall = \\frac{\\text{TN}}{\\text{TP + FN}}$$\n",
    "\n",
    "            Also called Sensitivity"
   ]
  },
  {
   "cell_type": "markdown",
   "id": "36de13b7",
   "metadata": {},
   "source": [
    "---"
   ]
  },
  {
   "cell_type": "markdown",
   "id": "49c1c621",
   "metadata": {},
   "source": [
    "        F1-Score : \n",
    "            Harmonic mean of precision and recall.\n",
    "\n",
    "$$F1-Score = 2 * \\frac{\\text{Precision} + \\text{Recall}}{\\text{Precision}*\\text{Recall}}$$                        "
   ]
  },
  {
   "cell_type": "markdown",
   "id": "01bd2030",
   "metadata": {},
   "source": [
    "---"
   ]
  },
  {
   "cell_type": "markdown",
   "id": "22dc1781",
   "metadata": {},
   "source": [
    "        Specificity : \n",
    "            Among all -ve how many  are correctly classified as -ve."
   ]
  },
  {
   "cell_type": "markdown",
   "id": "6ac958f3",
   "metadata": {},
   "source": [
    "---"
   ]
  },
  {
   "cell_type": "code",
   "execution_count": null,
   "id": "189d7ac7",
   "metadata": {},
   "outputs": [],
   "source": []
  }
 ],
 "metadata": {
  "kernelspec": {
   "display_name": "Python 3 (ipykernel)",
   "language": "python",
   "name": "python3"
  },
  "language_info": {
   "codemirror_mode": {
    "name": "ipython",
    "version": 3
   },
   "file_extension": ".py",
   "mimetype": "text/x-python",
   "name": "python",
   "nbconvert_exporter": "python",
   "pygments_lexer": "ipython3",
   "version": "3.11.5"
  },
  "toc": {
   "base_numbering": 1,
   "nav_menu": {},
   "number_sections": true,
   "sideBar": true,
   "skip_h1_title": false,
   "title_cell": "Table of Contents",
   "title_sidebar": "Contents",
   "toc_cell": false,
   "toc_position": {
    "height": "calc(100% - 180px)",
    "left": "10px",
    "top": "150px",
    "width": "262px"
   },
   "toc_section_display": true,
   "toc_window_display": false
  },
  "varInspector": {
   "cols": {
    "lenName": 16,
    "lenType": 16,
    "lenVar": 40
   },
   "kernels_config": {
    "python": {
     "delete_cmd_postfix": "",
     "delete_cmd_prefix": "del ",
     "library": "var_list.py",
     "varRefreshCmd": "print(var_dic_list())"
    },
    "r": {
     "delete_cmd_postfix": ") ",
     "delete_cmd_prefix": "rm(",
     "library": "var_list.r",
     "varRefreshCmd": "cat(var_dic_list()) "
    }
   },
   "types_to_exclude": [
    "module",
    "function",
    "builtin_function_or_method",
    "instance",
    "_Feature"
   ],
   "window_display": false
  }
 },
 "nbformat": 4,
 "nbformat_minor": 5
}
