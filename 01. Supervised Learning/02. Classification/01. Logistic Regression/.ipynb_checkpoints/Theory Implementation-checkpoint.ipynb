{
 "cells": [
  {
   "cell_type": "code",
   "execution_count": 1,
   "id": "4615d0e4",
   "metadata": {
    "ExecuteTime": {
     "end_time": "2023-11-12T04:45:08.458339Z",
     "start_time": "2023-11-12T04:45:06.297252Z"
    }
   },
   "outputs": [],
   "source": [
    "import pandas as pd\n",
    "import matplotlib.pyplot as plt\n",
    "\n",
    "import seaborn as sns\n",
    "import numpy as np\n",
    "\n",
    "from sklearn.model_selection import  train_test_split\n",
    "from sklearn.linear_model import LogisticRegression\n",
    "from sklearn.preprocessing import StandardScaler\n",
    "import statsmodels.api as sm\n",
    "\n",
    "from sklearn.metrics import confusion_matrix, accuracy_score, classification_report\n",
    "\n",
    "import warnings\n",
    "warnings.filterwarnings('ignore')"
   ]
  },
  {
   "cell_type": "code",
   "execution_count": 2,
   "id": "4f24f7b2",
   "metadata": {
    "ExecuteTime": {
     "end_time": "2023-11-12T04:45:08.480715Z",
     "start_time": "2023-11-12T04:45:08.459345Z"
    },
    "scrolled": true
   },
   "outputs": [
    {
     "data": {
      "text/html": [
       "<div>\n",
       "<style scoped>\n",
       "    .dataframe tbody tr th:only-of-type {\n",
       "        vertical-align: middle;\n",
       "    }\n",
       "\n",
       "    .dataframe tbody tr th {\n",
       "        vertical-align: top;\n",
       "    }\n",
       "\n",
       "    .dataframe thead th {\n",
       "        text-align: right;\n",
       "    }\n",
       "</style>\n",
       "<table border=\"1\" class=\"dataframe\">\n",
       "  <thead>\n",
       "    <tr style=\"text-align: right;\">\n",
       "      <th></th>\n",
       "      <th>gre</th>\n",
       "      <th>toefl</th>\n",
       "      <th>university_rating</th>\n",
       "      <th>sop</th>\n",
       "      <th>lor</th>\n",
       "      <th>cgpa</th>\n",
       "      <th>research</th>\n",
       "      <th>admit</th>\n",
       "    </tr>\n",
       "  </thead>\n",
       "  <tbody>\n",
       "    <tr>\n",
       "      <th>0</th>\n",
       "      <td>337</td>\n",
       "      <td>118</td>\n",
       "      <td>4</td>\n",
       "      <td>4.5</td>\n",
       "      <td>4.5</td>\n",
       "      <td>9.65</td>\n",
       "      <td>1</td>\n",
       "      <td>1</td>\n",
       "    </tr>\n",
       "    <tr>\n",
       "      <th>1</th>\n",
       "      <td>324</td>\n",
       "      <td>107</td>\n",
       "      <td>4</td>\n",
       "      <td>4.0</td>\n",
       "      <td>4.5</td>\n",
       "      <td>8.87</td>\n",
       "      <td>1</td>\n",
       "      <td>1</td>\n",
       "    </tr>\n",
       "    <tr>\n",
       "      <th>2</th>\n",
       "      <td>316</td>\n",
       "      <td>104</td>\n",
       "      <td>3</td>\n",
       "      <td>3.0</td>\n",
       "      <td>3.5</td>\n",
       "      <td>8.00</td>\n",
       "      <td>1</td>\n",
       "      <td>0</td>\n",
       "    </tr>\n",
       "    <tr>\n",
       "      <th>3</th>\n",
       "      <td>322</td>\n",
       "      <td>110</td>\n",
       "      <td>3</td>\n",
       "      <td>3.5</td>\n",
       "      <td>2.5</td>\n",
       "      <td>8.67</td>\n",
       "      <td>1</td>\n",
       "      <td>1</td>\n",
       "    </tr>\n",
       "    <tr>\n",
       "      <th>4</th>\n",
       "      <td>314</td>\n",
       "      <td>103</td>\n",
       "      <td>2</td>\n",
       "      <td>2.0</td>\n",
       "      <td>3.0</td>\n",
       "      <td>8.21</td>\n",
       "      <td>0</td>\n",
       "      <td>0</td>\n",
       "    </tr>\n",
       "  </tbody>\n",
       "</table>\n",
       "</div>"
      ],
      "text/plain": [
       "   gre  toefl  university_rating  sop  lor  cgpa  research  admit\n",
       "0  337    118                  4  4.5  4.5  9.65         1      1\n",
       "1  324    107                  4  4.0  4.5  8.87         1      1\n",
       "2  316    104                  3  3.0  3.5  8.00         1      0\n",
       "3  322    110                  3  3.5  2.5  8.67         1      1\n",
       "4  314    103                  2  2.0  3.0  8.21         0      0"
      ]
     },
     "execution_count": 2,
     "metadata": {},
     "output_type": "execute_result"
    }
   ],
   "source": [
    "df = pd.read_csv('dataset/Admit.csv')\n",
    "df.columns = [j.lower().strip() for j in df.columns]\n",
    "df.head()"
   ]
  },
  {
   "cell_type": "code",
   "execution_count": 3,
   "id": "88c54540",
   "metadata": {
    "ExecuteTime": {
     "end_time": "2023-11-12T04:45:08.488674Z",
     "start_time": "2023-11-12T04:45:08.483710Z"
    }
   },
   "outputs": [
    {
     "data": {
      "text/plain": [
       "(500, 8)"
      ]
     },
     "execution_count": 3,
     "metadata": {},
     "output_type": "execute_result"
    }
   ],
   "source": [
    "df.shape"
   ]
  },
  {
   "cell_type": "code",
   "execution_count": 4,
   "id": "14ddcae3",
   "metadata": {
    "ExecuteTime": {
     "end_time": "2023-11-12T04:45:08.537580Z",
     "start_time": "2023-11-12T04:45:08.489674Z"
    }
   },
   "outputs": [
    {
     "name": "stdout",
     "output_type": "stream",
     "text": [
      "Optimization terminated successfully.\n",
      "         Current function value: 0.320104\n",
      "         Iterations 8\n"
     ]
    },
    {
     "data": {
      "text/html": [
       "<table class=\"simpletable\">\n",
       "<caption>Logit Regression Results</caption>\n",
       "<tr>\n",
       "  <th>Dep. Variable:</th>         <td>admit</td>      <th>  No. Observations:  </th>  <td>   350</td>  \n",
       "</tr>\n",
       "<tr>\n",
       "  <th>Model:</th>                 <td>Logit</td>      <th>  Df Residuals:      </th>  <td>   343</td>  \n",
       "</tr>\n",
       "<tr>\n",
       "  <th>Method:</th>                 <td>MLE</td>       <th>  Df Model:          </th>  <td>     6</td>  \n",
       "</tr>\n",
       "<tr>\n",
       "  <th>Date:</th>            <td>Sun, 12 Nov 2023</td> <th>  Pseudo R-squ.:     </th>  <td>0.5346</td>  \n",
       "</tr>\n",
       "<tr>\n",
       "  <th>Time:</th>                <td>10:15:08</td>     <th>  Log-Likelihood:    </th> <td> -112.04</td> \n",
       "</tr>\n",
       "<tr>\n",
       "  <th>converged:</th>             <td>True</td>       <th>  LL-Null:           </th> <td> -240.75</td> \n",
       "</tr>\n",
       "<tr>\n",
       "  <th>Covariance Type:</th>     <td>nonrobust</td>    <th>  LLR p-value:       </th> <td>1.064e-52</td>\n",
       "</tr>\n",
       "</table>\n",
       "<table class=\"simpletable\">\n",
       "<tr>\n",
       "          <td></td>             <th>coef</th>     <th>std err</th>      <th>z</th>      <th>P>|z|</th>  <th>[0.025</th>    <th>0.975]</th>  \n",
       "</tr>\n",
       "<tr>\n",
       "  <th>gre</th>               <td>   -0.1624</td> <td>    0.023</td> <td>   -7.046</td> <td> 0.000</td> <td>   -0.208</td> <td>   -0.117</td>\n",
       "</tr>\n",
       "<tr>\n",
       "  <th>toefl</th>             <td>    0.1234</td> <td>    0.052</td> <td>    2.362</td> <td> 0.018</td> <td>    0.021</td> <td>    0.226</td>\n",
       "</tr>\n",
       "<tr>\n",
       "  <th>university_rating</th> <td>    0.7605</td> <td>    0.235</td> <td>    3.238</td> <td> 0.001</td> <td>    0.300</td> <td>    1.221</td>\n",
       "</tr>\n",
       "<tr>\n",
       "  <th>sop</th>               <td>    0.7133</td> <td>    0.294</td> <td>    2.428</td> <td> 0.015</td> <td>    0.138</td> <td>    1.289</td>\n",
       "</tr>\n",
       "<tr>\n",
       "  <th>lor</th>               <td>   -0.0863</td> <td>    0.252</td> <td>   -0.343</td> <td> 0.732</td> <td>   -0.580</td> <td>    0.407</td>\n",
       "</tr>\n",
       "<tr>\n",
       "  <th>cgpa</th>              <td>    3.7546</td> <td>    0.728</td> <td>    5.156</td> <td> 0.000</td> <td>    2.327</td> <td>    5.182</td>\n",
       "</tr>\n",
       "<tr>\n",
       "  <th>research</th>          <td>    1.8728</td> <td>    0.367</td> <td>    5.105</td> <td> 0.000</td> <td>    1.154</td> <td>    2.592</td>\n",
       "</tr>\n",
       "</table>"
      ],
      "text/latex": [
       "\\begin{center}\n",
       "\\begin{tabular}{lclc}\n",
       "\\toprule\n",
       "\\textbf{Dep. Variable:}     &      admit       & \\textbf{  No. Observations:  } &      350    \\\\\n",
       "\\textbf{Model:}             &      Logit       & \\textbf{  Df Residuals:      } &      343    \\\\\n",
       "\\textbf{Method:}            &       MLE        & \\textbf{  Df Model:          } &        6    \\\\\n",
       "\\textbf{Date:}              & Sun, 12 Nov 2023 & \\textbf{  Pseudo R-squ.:     } &   0.5346    \\\\\n",
       "\\textbf{Time:}              &     10:15:08     & \\textbf{  Log-Likelihood:    } &   -112.04   \\\\\n",
       "\\textbf{converged:}         &       True       & \\textbf{  LL-Null:           } &   -240.75   \\\\\n",
       "\\textbf{Covariance Type:}   &    nonrobust     & \\textbf{  LLR p-value:       } & 1.064e-52   \\\\\n",
       "\\bottomrule\n",
       "\\end{tabular}\n",
       "\\begin{tabular}{lcccccc}\n",
       "                            & \\textbf{coef} & \\textbf{std err} & \\textbf{z} & \\textbf{P$> |$z$|$} & \\textbf{[0.025} & \\textbf{0.975]}  \\\\\n",
       "\\midrule\n",
       "\\textbf{gre}                &      -0.1624  &        0.023     &    -7.046  &         0.000        &       -0.208    &       -0.117     \\\\\n",
       "\\textbf{toefl}              &       0.1234  &        0.052     &     2.362  &         0.018        &        0.021    &        0.226     \\\\\n",
       "\\textbf{university\\_rating} &       0.7605  &        0.235     &     3.238  &         0.001        &        0.300    &        1.221     \\\\\n",
       "\\textbf{sop}                &       0.7133  &        0.294     &     2.428  &         0.015        &        0.138    &        1.289     \\\\\n",
       "\\textbf{lor}                &      -0.0863  &        0.252     &    -0.343  &         0.732        &       -0.580    &        0.407     \\\\\n",
       "\\textbf{cgpa}               &       3.7546  &        0.728     &     5.156  &         0.000        &        2.327    &        5.182     \\\\\n",
       "\\textbf{research}           &       1.8728  &        0.367     &     5.105  &         0.000        &        1.154    &        2.592     \\\\\n",
       "\\bottomrule\n",
       "\\end{tabular}\n",
       "%\\caption{Logit Regression Results}\n",
       "\\end{center}"
      ],
      "text/plain": [
       "<class 'statsmodels.iolib.summary.Summary'>\n",
       "\"\"\"\n",
       "                           Logit Regression Results                           \n",
       "==============================================================================\n",
       "Dep. Variable:                  admit   No. Observations:                  350\n",
       "Model:                          Logit   Df Residuals:                      343\n",
       "Method:                           MLE   Df Model:                            6\n",
       "Date:                Sun, 12 Nov 2023   Pseudo R-squ.:                  0.5346\n",
       "Time:                        10:15:08   Log-Likelihood:                -112.04\n",
       "converged:                       True   LL-Null:                       -240.75\n",
       "Covariance Type:            nonrobust   LLR p-value:                 1.064e-52\n",
       "=====================================================================================\n",
       "                        coef    std err          z      P>|z|      [0.025      0.975]\n",
       "-------------------------------------------------------------------------------------\n",
       "gre                  -0.1624      0.023     -7.046      0.000      -0.208      -0.117\n",
       "toefl                 0.1234      0.052      2.362      0.018       0.021       0.226\n",
       "university_rating     0.7605      0.235      3.238      0.001       0.300       1.221\n",
       "sop                   0.7133      0.294      2.428      0.015       0.138       1.289\n",
       "lor                  -0.0863      0.252     -0.343      0.732      -0.580       0.407\n",
       "cgpa                  3.7546      0.728      5.156      0.000       2.327       5.182\n",
       "research              1.8728      0.367      5.105      0.000       1.154       2.592\n",
       "=====================================================================================\n",
       "\"\"\""
      ]
     },
     "execution_count": 4,
     "metadata": {},
     "output_type": "execute_result"
    }
   ],
   "source": [
    "X1 = df.drop(['admit'], axis = 1)\n",
    "y1 = df['admit']\n",
    "\n",
    "X_train1, X_test1, y_train1, y_test1 = train_test_split(X1, y1, test_size = 0.3, random_state = 36)\n",
    "\n",
    "logistic_model_1_stats = sm.Logit(y_train1, X_train1).fit() \n",
    "\n",
    "logistic_model_1_stats.summary()"
   ]
  },
  {
   "cell_type": "markdown",
   "id": "eb93e821",
   "metadata": {},
   "source": [
    "    Inference\n",
    "\n",
    "        Log-Likelihood of full model > LL-Null model ==> Data is good fit model\n",
    "\n",
    "        Pseudo R-squ.: 0.5346 < 0.40\n",
    "\n",
    "        LLR p-value: 1.064e-52 < 0.05 ==> Reject Ho-> Model is highly Significant\n",
    "\n",
    "        Feature Selection: lor p_value = 0.732 > 0.05 ==> Accept Ho --> We reject the Feature!"
   ]
  },
  {
   "cell_type": "code",
   "execution_count": 5,
   "id": "7abd48a8",
   "metadata": {
    "ExecuteTime": {
     "end_time": "2023-11-12T04:45:08.570799Z",
     "start_time": "2023-11-12T04:45:08.539578Z"
    }
   },
   "outputs": [
    {
     "name": "stdout",
     "output_type": "stream",
     "text": [
      "Optimization terminated successfully.\n",
      "         Current function value: 0.320273\n",
      "         Iterations 8\n"
     ]
    },
    {
     "data": {
      "text/html": [
       "<table class=\"simpletable\">\n",
       "<caption>Logit Regression Results</caption>\n",
       "<tr>\n",
       "  <th>Dep. Variable:</th>         <td>admit</td>      <th>  No. Observations:  </th>  <td>   350</td>  \n",
       "</tr>\n",
       "<tr>\n",
       "  <th>Model:</th>                 <td>Logit</td>      <th>  Df Residuals:      </th>  <td>   344</td>  \n",
       "</tr>\n",
       "<tr>\n",
       "  <th>Method:</th>                 <td>MLE</td>       <th>  Df Model:          </th>  <td>     5</td>  \n",
       "</tr>\n",
       "<tr>\n",
       "  <th>Date:</th>            <td>Sun, 12 Nov 2023</td> <th>  Pseudo R-squ.:     </th>  <td>0.5344</td>  \n",
       "</tr>\n",
       "<tr>\n",
       "  <th>Time:</th>                <td>10:15:08</td>     <th>  Log-Likelihood:    </th> <td> -112.10</td> \n",
       "</tr>\n",
       "<tr>\n",
       "  <th>converged:</th>             <td>True</td>       <th>  LL-Null:           </th> <td> -240.75</td> \n",
       "</tr>\n",
       "<tr>\n",
       "  <th>Covariance Type:</th>     <td>nonrobust</td>    <th>  LLR p-value:       </th> <td>1.489e-53</td>\n",
       "</tr>\n",
       "</table>\n",
       "<table class=\"simpletable\">\n",
       "<tr>\n",
       "          <td></td>             <th>coef</th>     <th>std err</th>      <th>z</th>      <th>P>|z|</th>  <th>[0.025</th>    <th>0.975]</th>  \n",
       "</tr>\n",
       "<tr>\n",
       "  <th>gre</th>               <td>   -0.1619</td> <td>    0.023</td> <td>   -7.046</td> <td> 0.000</td> <td>   -0.207</td> <td>   -0.117</td>\n",
       "</tr>\n",
       "<tr>\n",
       "  <th>toefl</th>             <td>    0.1255</td> <td>    0.052</td> <td>    2.418</td> <td> 0.016</td> <td>    0.024</td> <td>    0.227</td>\n",
       "</tr>\n",
       "<tr>\n",
       "  <th>university_rating</th> <td>    0.7496</td> <td>    0.232</td> <td>    3.226</td> <td> 0.001</td> <td>    0.294</td> <td>    1.205</td>\n",
       "</tr>\n",
       "<tr>\n",
       "  <th>sop</th>               <td>    0.6764</td> <td>    0.273</td> <td>    2.481</td> <td> 0.013</td> <td>    0.142</td> <td>    1.211</td>\n",
       "</tr>\n",
       "<tr>\n",
       "  <th>cgpa</th>              <td>    3.6895</td> <td>    0.700</td> <td>    5.269</td> <td> 0.000</td> <td>    2.317</td> <td>    5.062</td>\n",
       "</tr>\n",
       "<tr>\n",
       "  <th>research</th>          <td>    1.8788</td> <td>    0.367</td> <td>    5.117</td> <td> 0.000</td> <td>    1.159</td> <td>    2.598</td>\n",
       "</tr>\n",
       "</table>"
      ],
      "text/latex": [
       "\\begin{center}\n",
       "\\begin{tabular}{lclc}\n",
       "\\toprule\n",
       "\\textbf{Dep. Variable:}     &      admit       & \\textbf{  No. Observations:  } &      350    \\\\\n",
       "\\textbf{Model:}             &      Logit       & \\textbf{  Df Residuals:      } &      344    \\\\\n",
       "\\textbf{Method:}            &       MLE        & \\textbf{  Df Model:          } &        5    \\\\\n",
       "\\textbf{Date:}              & Sun, 12 Nov 2023 & \\textbf{  Pseudo R-squ.:     } &   0.5344    \\\\\n",
       "\\textbf{Time:}              &     10:15:08     & \\textbf{  Log-Likelihood:    } &   -112.10   \\\\\n",
       "\\textbf{converged:}         &       True       & \\textbf{  LL-Null:           } &   -240.75   \\\\\n",
       "\\textbf{Covariance Type:}   &    nonrobust     & \\textbf{  LLR p-value:       } & 1.489e-53   \\\\\n",
       "\\bottomrule\n",
       "\\end{tabular}\n",
       "\\begin{tabular}{lcccccc}\n",
       "                            & \\textbf{coef} & \\textbf{std err} & \\textbf{z} & \\textbf{P$> |$z$|$} & \\textbf{[0.025} & \\textbf{0.975]}  \\\\\n",
       "\\midrule\n",
       "\\textbf{gre}                &      -0.1619  &        0.023     &    -7.046  &         0.000        &       -0.207    &       -0.117     \\\\\n",
       "\\textbf{toefl}              &       0.1255  &        0.052     &     2.418  &         0.016        &        0.024    &        0.227     \\\\\n",
       "\\textbf{university\\_rating} &       0.7496  &        0.232     &     3.226  &         0.001        &        0.294    &        1.205     \\\\\n",
       "\\textbf{sop}                &       0.6764  &        0.273     &     2.481  &         0.013        &        0.142    &        1.211     \\\\\n",
       "\\textbf{cgpa}               &       3.6895  &        0.700     &     5.269  &         0.000        &        2.317    &        5.062     \\\\\n",
       "\\textbf{research}           &       1.8788  &        0.367     &     5.117  &         0.000        &        1.159    &        2.598     \\\\\n",
       "\\bottomrule\n",
       "\\end{tabular}\n",
       "%\\caption{Logit Regression Results}\n",
       "\\end{center}"
      ],
      "text/plain": [
       "<class 'statsmodels.iolib.summary.Summary'>\n",
       "\"\"\"\n",
       "                           Logit Regression Results                           \n",
       "==============================================================================\n",
       "Dep. Variable:                  admit   No. Observations:                  350\n",
       "Model:                          Logit   Df Residuals:                      344\n",
       "Method:                           MLE   Df Model:                            5\n",
       "Date:                Sun, 12 Nov 2023   Pseudo R-squ.:                  0.5344\n",
       "Time:                        10:15:08   Log-Likelihood:                -112.10\n",
       "converged:                       True   LL-Null:                       -240.75\n",
       "Covariance Type:            nonrobust   LLR p-value:                 1.489e-53\n",
       "=====================================================================================\n",
       "                        coef    std err          z      P>|z|      [0.025      0.975]\n",
       "-------------------------------------------------------------------------------------\n",
       "gre                  -0.1619      0.023     -7.046      0.000      -0.207      -0.117\n",
       "toefl                 0.1255      0.052      2.418      0.016       0.024       0.227\n",
       "university_rating     0.7496      0.232      3.226      0.001       0.294       1.205\n",
       "sop                   0.6764      0.273      2.481      0.013       0.142       1.211\n",
       "cgpa                  3.6895      0.700      5.269      0.000       2.317       5.062\n",
       "research              1.8788      0.367      5.117      0.000       1.159       2.598\n",
       "=====================================================================================\n",
       "\"\"\""
      ]
     },
     "execution_count": 5,
     "metadata": {},
     "output_type": "execute_result"
    }
   ],
   "source": [
    "X2 = df.drop(['lor','admit'], axis = 1)\n",
    "y2 = df['admit']\n",
    "\n",
    "X_train2, X_test2, y_train2, y_test2 = train_test_split(X2, y2, test_size = 0.3, random_state = 36)\n",
    "\n",
    "logistic_model_2_stats = sm.Logit(y_train2, X_train2).fit() \n",
    "\n",
    "logistic_model_2_stats.summary()"
   ]
  },
  {
   "cell_type": "code",
   "execution_count": 6,
   "id": "51ecc765",
   "metadata": {
    "ExecuteTime": {
     "end_time": "2023-11-12T04:45:08.637442Z",
     "start_time": "2023-11-12T04:45:08.572797Z"
    }
   },
   "outputs": [
    {
     "name": "stdout",
     "output_type": "stream",
     "text": [
      "              precision    recall  f1-score   support\n",
      "\n",
      "           0       0.93      0.88      0.91        92\n",
      "           1       0.83      0.90      0.86        58\n",
      "\n",
      "    accuracy                           0.89       150\n",
      "   macro avg       0.88      0.89      0.88       150\n",
      "weighted avg       0.89      0.89      0.89       150\n",
      "\n"
     ]
    }
   ],
   "source": [
    "X = df.drop(['lor','admit'], axis = 1)\n",
    "y = df['admit']\n",
    "\n",
    "X_train, X_test, y_train, y_test = train_test_split(X, y, test_size = 0.3, random_state = 42)\n",
    "\n",
    "logistic_model = LogisticRegression()\n",
    "logistic_model.fit(X_train, y_train)\n",
    "\n",
    "y_test_predicted = logistic_model.predict(X_test)\n",
    "\n",
    "print(classification_report(y_test, y_test_predicted))"
   ]
  },
  {
   "cell_type": "code",
   "execution_count": 7,
   "id": "ad39003a",
   "metadata": {
    "ExecuteTime": {
     "end_time": "2023-11-12T04:45:13.024060Z",
     "start_time": "2023-11-12T04:45:08.639440Z"
    }
   },
   "outputs": [
    {
     "name": "stdout",
     "output_type": "stream",
     "text": [
      "Fitting 5 folds for each of 54 candidates, totalling 270 fits\n",
      "Best Hyperparameters: {'C': 10, 'penalty': 'l1', 'solver': 'liblinear'}\n",
      "Best Score: 0.8942857142857144\n"
     ]
    }
   ],
   "source": [
    "from sklearn.model_selection import GridSearchCV\n",
    "\n",
    "logistic_model = LogisticRegression().fit(X_train, y_train)\n",
    "\n",
    "# Define the hyperparameter grid to search over\n",
    "param_grid = {\n",
    "    'penalty': ['l1', 'l2'],  # Regularization type\n",
    "    'C': [0.001, 0.01, 0.1, 1, 10, 100,150,200,250],  # Regularization strength\n",
    "    'solver': ['liblinear', 'lbfgs', 'saga']  # Solver options\n",
    "}\n",
    "\n",
    "# Create a GridSearchCV instance with cross-validation\n",
    "grid_search = GridSearchCV(\n",
    "    logistic_model,  # Estimator (Logistic Regression)\n",
    "    param_grid,       # Parameter grid to search\n",
    "    cv=5,             # Number of cross-validation folds\n",
    "    scoring='accuracy',  # Evaluation metric (e.g., accuracy)\n",
    "    verbose=1,        # Verbosity level (1 for progress output)\n",
    "    n_jobs=-1          # Number of CPU cores to use (-1 for all available cores)\n",
    ")\n",
    "\n",
    "# Fit the grid search to your training data\n",
    "grid_search.fit(X_train, y_train)\n",
    "\n",
    "# Print the best hyperparameters and corresponding score\n",
    "print(\"Best Hyperparameters:\", grid_search.best_params_)\n",
    "print(\"Best Score:\", grid_search.best_score_)"
   ]
  },
  {
   "cell_type": "code",
   "execution_count": 8,
   "id": "ae2f9296",
   "metadata": {
    "ExecuteTime": {
     "end_time": "2023-11-12T04:45:13.100183Z",
     "start_time": "2023-11-12T04:45:13.025062Z"
    }
   },
   "outputs": [
    {
     "name": "stdout",
     "output_type": "stream",
     "text": [
      "              precision    recall  f1-score   support\n",
      "\n",
      "           0       0.92      0.89      0.91        92\n",
      "           1       0.84      0.88      0.86        58\n",
      "\n",
      "    accuracy                           0.89       150\n",
      "   macro avg       0.88      0.89      0.88       150\n",
      "weighted avg       0.89      0.89      0.89       150\n",
      "\n"
     ]
    }
   ],
   "source": [
    "# Get the best model with the best hyperparameters\n",
    "best_params = grid_search.best_params_\n",
    "\n",
    "final_logistic_model = LogisticRegression(**best_params)\n",
    "\n",
    "final_logistic_model.fit(X_train, y_train)\n",
    "\n",
    "y_test_predicted = final_logistic_model.predict(X_test)\n",
    "\n",
    "print(classification_report(y_test, y_test_predicted))"
   ]
  },
  {
   "cell_type": "code",
   "execution_count": 9,
   "id": "bd23e993",
   "metadata": {
    "ExecuteTime": {
     "end_time": "2023-11-12T04:45:13.110540Z",
     "start_time": "2023-11-12T04:45:13.104176Z"
    }
   },
   "outputs": [
    {
     "data": {
      "text/plain": [
       "0.9266666666666666"
      ]
     },
     "execution_count": 9,
     "metadata": {},
     "output_type": "execute_result"
    }
   ],
   "source": [
    "probs = final_logistic_model.predict_proba(X_test)\n",
    "\n",
    "# Set custom threshold\n",
    "threshold = 0.79\n",
    "preds = (probs[:, 1] > threshold).astype(int)\n",
    "\n",
    "# Evaluate model performance\n",
    "accuracy = (preds == y_test).mean()\n",
    "accuracy"
   ]
  },
  {
   "cell_type": "code",
   "execution_count": 10,
   "id": "8f17d746",
   "metadata": {
    "ExecuteTime": {
     "end_time": "2023-11-12T04:45:13.310779Z",
     "start_time": "2023-11-12T04:45:13.111541Z"
    }
   },
   "outputs": [
    {
     "data": {
      "image/png": "[encoded data removed]",
      "text/plain": [
       "<Figure size 800x600 with 1 Axes>"
      ]
     },
     "metadata": {},
     "output_type": "display_data"
    }
   ],
   "source": [
    "from sklearn.metrics import roc_curve, roc_auc_score, auc\n",
    "\n",
    "_pred_prob = final_logistic_model.predict_proba(X_test)[:, 1]\n",
    "\n",
    "# Calculate ROC curve\n",
    "fpr, tpr, thresholds = roc_curve(y_test, y_test_predicted)\n",
    "\n",
    "# Calculate the AUC (Area Under the Curve) score\n",
    "roc_auc = auc(fpr, tpr)\n",
    "\n",
    "# Plot ROC curve\n",
    "plt.figure(figsize=(8, 6))\n",
    "plt.plot(fpr, tpr, color='darkorange', lw=2, label=f'ROC curve (AUC = {roc_auc:.2f})')\n",
    "plt.plot([0, 1], [0, 1], color='navy', lw=2, linestyle='--')\n",
    "plt.xlim([0.0, 1.0])\n",
    "plt.ylim([0.0, 1.05])\n",
    "plt.xlabel('False Positive Rate')\n",
    "plt.ylabel('True Positive Rate')\n",
    "plt.title('Receiver Operating Characteristic (ROC) Curve')\n",
    "plt.legend(loc='lower right')\n",
    "plt.show()"
   ]
  },
  {
   "cell_type": "code",
   "execution_count": null,
   "id": "b6be323e",
   "metadata": {},
   "outputs": [],
   "source": []
  }
 ],
 "metadata": {
  "kernelspec": {
   "display_name": "Python 3 (ipykernel)",
   "language": "python",
   "name": "python3"
  },
  "language_info": {
   "codemirror_mode": {
    "name": "ipython",
    "version": 3
   },
   "file_extension": ".py",
   "mimetype": "text/x-python",
   "name": "python",
   "nbconvert_exporter": "python",
   "pygments_lexer": "ipython3",
   "version": "3.11.5"
  },
  "toc": {
   "base_numbering": 1,
   "nav_menu": {},
   "number_sections": true,
   "sideBar": true,
   "skip_h1_title": false,
   "title_cell": "Table of Contents",
   "title_sidebar": "Contents",
   "toc_cell": false,
   "toc_position": {},
   "toc_section_display": true,
   "toc_window_display": false
  },
  "varInspector": {
   "cols": {
    "lenName": 16,
    "lenType": 16,
    "lenVar": 40
   },
   "kernels_config": {
    "python": {
     "delete_cmd_postfix": "",
     "delete_cmd_prefix": "del ",
     "library": "var_list.py",
     "varRefreshCmd": "print(var_dic_list())"
    },
    "r": {
     "delete_cmd_postfix": ") ",
     "delete_cmd_prefix": "rm(",
     "library": "var_list.r",
     "varRefreshCmd": "cat(var_dic_list()) "
    }
   },
   "types_to_exclude": [
    "module",
    "function",
    "builtin_function_or_method",
    "instance",
    "_Feature"
   ],
   "window_display": false
  }
 },
 "nbformat": 4,
 "nbformat_minor": 5
}
