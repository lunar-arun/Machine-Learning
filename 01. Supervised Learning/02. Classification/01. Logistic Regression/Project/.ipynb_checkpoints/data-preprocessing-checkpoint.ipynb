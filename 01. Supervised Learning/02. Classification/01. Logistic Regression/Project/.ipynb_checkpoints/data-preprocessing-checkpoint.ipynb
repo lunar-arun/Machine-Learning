{
 "cells": [
  {
   "cell_type": "markdown",
   "id": "0c84fe73",
   "metadata": {},
   "source": [
    "                                            Vaccine Usage Prediction\n",
    "    \n",
    "    Abstract:\n",
    "        Subjects receiving the same vaccine often show different levels of immune responses and some may even present adverse side effects to the vaccine. Systems vaccinology can combine data and machine learning techniques to obtain highly predictive signatures of vaccine immunogenicity and reactogenicity. Currently, several machine learning methods are already available to researchers with no background in bioinformatics.\n",
    "    \n",
    "    \n",
    "    Problem Statement:\n",
    "        Predict how likely it is that the people will take an H1N1 flu vaccine using Logistic Regression.\n",
    "    \n",
    "    Dataset Information:\n",
    "    \n",
    "    Column\tDescription\n",
    "        unique_id\tUnique identifier for each respondent\n",
    "        h1n1_worry\tWorry about the h1n1 flu(0,1,2,3) \n",
    "                        0=Not worried at all, \n",
    "                        1=Not very worried, \n",
    "                        2=Somewhat worried, \n",
    "                        3=Very worried\n",
    "        h1n1_awareness\tSignifies the amount of knowledge or understanding the respondent has about h1n1 flu - (0,1,2) - \n",
    "                            0=No knowledge, \n",
    "                            1=little knowledge, \n",
    "                            2=good knowledge\n",
    "        antiviral_medication\tHas the respondent taken antiviral vaccination - (0,1)\n",
    "        contact_avoidance\tHas avoided any close contact with people who have flu-like symptoms - (0,1)\n",
    "        bought_face_mask\tHas the respondent bought mask or not - (0,1)\n",
    "        wash_hands_frequently\tWashes hands frequently or uses hand sanitizer - (0,1)\n",
    "        avoid_large_gatherings\tHas the respondent reduced time spent at large gatherings - (0,1)\n",
    "        reduced_outside_home_cont\tHas the respondent reduced contact with people outside their own house - (0,1)\n",
    "        avoid_touch_face\tAvoids touching nose, eyes, mouth - (0,1)\n",
    "        dr_recc_h1n1_vacc\tDoctor has recommended h1n1 vaccine - (0,1)\n",
    "        dr_recc_seasonal_vacc\tThe doctor has recommended seasonal flu vaccine - (0,1)\n",
    "        chronic_medic_condition\tHas any chronic medical condition - (0,1)\n",
    "        cont_child_undr_6_mnth\tHas regular contact with child the age of 6 months - (0,1)\n",
    "        is_health_worker\tIs respondent a health worker - (0,1)\n",
    "        has_health_insur\tDoes respondent have health insurance - (0,1)\n",
    "        is_h1n1_vacc_effective\tDoes respondent think that the h1n1 vaccine is effective - (1,2,3,4,5)- \n",
    "                                    (1=Thinks not effective at all, \n",
    "                                    2=Thinks it is not very effective, \n",
    "                                    3=Doesn't know if it is effective or not, \n",
    "                                    4=Thinks it is somewhat effective, \n",
    "                                    5=Thinks it is highly effective)\n",
    "        is_h1n1_risky\tWhat respondents think about the risk of getting ill \n",
    "                        with h1n1 in the absence of the vaccine- (1,2,3,4,5)- \n",
    "                            (1=Thinks it is not very low risk, \n",
    "                            2=Thinks it is somewhat low risk, \n",
    "                            3=don’t know if it is risky or not, \n",
    "                            4=Thinks it is a somewhat high risk, \n",
    "                            5=Thinks it is very highly risky)\n",
    "        sick_from_h1n1_vacc\tDoes respondent worry about getting sick by taking the h1n1 vaccine - (1,2,3,4,5)- \n",
    "                                (1=Respondent not worried at all, \n",
    "                                2=Respondent is not very worried, \n",
    "                                3=Doesn't know, \n",
    "                                4=Respondent is somewhat worried, \n",
    "                                5=Respondent is very worried) -\n",
    "        is_seas_vacc_effective\tDoes respondent think that the seasonal vaccine is effective- (1,2,3,4,5)- \n",
    "                                    (1=Thinks not effective at all, \n",
    "                                    2=Thinks it is not very effective, \n",
    "                                    3=Doesn't know if it is effective or not, \n",
    "                                    4=Thinks it is somewhat effective, \n",
    "                                    5=Thinks it is highly effective)\n",
    "                            \n",
    "        is_seas_flu_risky\tWhat respondents think about the risk of getting ill with seasonal flu in \n",
    "                            the absence of the vaccine- (1,2,3,4,5)- \n",
    "                                (1=Thinks it is not very low risk, \n",
    "                                2=Thinks it is somewhat low risk, \n",
    "                                3=Doesn't know if it is risky or not, \n",
    "                                4=Thinks it is somewhat high risk, \n",
    "                                5=Thinks it is very highly risky)\n",
    "        sick_from_seas_vacc\tDoes respondent worry about getting sick by taking the seasonal flu vaccine - (1,2,3,4,5)- \n",
    "                            (1=Respondent not worried at all, \n",
    "                            2=Respondent is not very worried, \n",
    "                            3=Doesn't know, \n",
    "                            4=Respondent is somewhat worried, \n",
    "                            5=Respondent is very worried)\n",
    "        age_bracket\tAge bracket of the respondent - \n",
    "                        (18 - 34 Years, \n",
    "                        35 - 44 Years, \n",
    "                        45 - 54 Years, \n",
    "                        55 - 64 Years, \n",
    "                        64+ Years)\n",
    "        qualification\tQualification/education level of the respondent as per their response -\n",
    "                            (<12 Years, \n",
    "                            12 Years, \n",
    "                            College \n",
    "                            Graduate, \n",
    "                            Some College)\n",
    "        race\tRespondent's race - (White, Black, Other or Multiple, Hispanic)\n",
    "        sex\tRespondent's sex - (Female, Male)\n",
    "        income_level\tAnnual income of the respondent as per the 2008 poverty Census - \n",
    "                        (<=75000−AbovePoverty,\n",
    "                        > 75000−AbovePoverty,\n",
    "                        >75000-Below Poverty)\n",
    "        marital_status\tRespondent's marital status - (Not Married, Married)\n",
    "        housing_status\tRespondent's housing status - (Own, Rent)\n",
    "        employment\tRespondent's employment status - (Not in Labor Force, Employed, Unemployed)\n",
    "        census_msa\tResidence of the respondent with the MSA(metropolitan statistical area)\n",
    "                    (Non-MSA, MSA- Not Principle, CityMSA-Principle city) - (Yes, no)\n",
    "        no_of_adults\tNumber of adults in the respondent's house (0,1,2,3) - (Yes, no)\n",
    "        no_of_children\tNumber of children in the respondent's house(0,1,2,3) - (Yes, No)\n",
    "        h1n1_vaccine\tDependent variable)Did the respondent receive the h1n1 vaccine or not(1,0) - (Yes, No)\n",
    "    \n",
    "    Scope:\n",
    "    ●Exploratory data analysis\n",
    "    ●Data Pre-processing\n",
    "    ●Training logistic regression model with MLE for prediction\n",
    "    ●Tuning the model to improve the performance\n",
    "    \n",
    "    \n",
    "    Learning Outcome:\n",
    "        The students will get a better understanding of how the variables are linked to each other and how the EDA approach will help them gain more insights and knowledge about the data that we have and train Logistic Regression using MLE."
   ]
  },
  {
   "cell_type": "code",
   "execution_count": 1,
   "id": "1f200f36",
   "metadata": {},
   "outputs": [],
   "source": [
    "import pandas as pd\n",
    "import numpy as np\n",
    "\n",
    "import matplotlib.pyplot as plt\n",
    "import seaborn as sns\n",
    "\n",
    "import warnings\n",
    "warnings.filterwarnings('ignore')"
   ]
  },
  {
   "cell_type": "code",
   "execution_count": 2,
   "id": "dfed792a",
   "metadata": {},
   "outputs": [],
   "source": [
    "df = pd.read_csv('Dataset/h1n1_vaccine_prediction.csv')"
   ]
  },
  {
   "cell_type": "code",
   "execution_count": 3,
   "id": "d671a77f",
   "metadata": {},
   "outputs": [
    {
     "data": {
      "text/html": [
       "<div>\n",
       "<style scoped>\n",
       "    .dataframe tbody tr th:only-of-type {\n",
       "        vertical-align: middle;\n",
       "    }\n",
       "\n",
       "    .dataframe tbody tr th {\n",
       "        vertical-align: top;\n",
       "    }\n",
       "\n",
       "    .dataframe thead th {\n",
       "        text-align: right;\n",
       "    }\n",
       "</style>\n",
       "<table border=\"1\" class=\"dataframe\">\n",
       "  <thead>\n",
       "    <tr style=\"text-align: right;\">\n",
       "      <th></th>\n",
       "      <th>unique_id</th>\n",
       "      <th>h1n1_worry</th>\n",
       "      <th>h1n1_awareness</th>\n",
       "      <th>antiviral_medication</th>\n",
       "      <th>contact_avoidance</th>\n",
       "      <th>bought_face_mask</th>\n",
       "      <th>wash_hands_frequently</th>\n",
       "      <th>avoid_large_gatherings</th>\n",
       "      <th>reduced_outside_home_cont</th>\n",
       "      <th>avoid_touch_face</th>\n",
       "      <th>...</th>\n",
       "      <th>race</th>\n",
       "      <th>sex</th>\n",
       "      <th>income_level</th>\n",
       "      <th>marital_status</th>\n",
       "      <th>housing_status</th>\n",
       "      <th>employment</th>\n",
       "      <th>census_msa</th>\n",
       "      <th>no_of_adults</th>\n",
       "      <th>no_of_children</th>\n",
       "      <th>h1n1_vaccine</th>\n",
       "    </tr>\n",
       "  </thead>\n",
       "  <tbody>\n",
       "    <tr>\n",
       "      <th>0</th>\n",
       "      <td>0</td>\n",
       "      <td>1.0</td>\n",
       "      <td>0.0</td>\n",
       "      <td>0.0</td>\n",
       "      <td>0.0</td>\n",
       "      <td>0.0</td>\n",
       "      <td>0.0</td>\n",
       "      <td>0.0</td>\n",
       "      <td>1.0</td>\n",
       "      <td>1.0</td>\n",
       "      <td>...</td>\n",
       "      <td>White</td>\n",
       "      <td>Female</td>\n",
       "      <td>Below Poverty</td>\n",
       "      <td>Not Married</td>\n",
       "      <td>Own</td>\n",
       "      <td>Not in Labor Force</td>\n",
       "      <td>Non-MSA</td>\n",
       "      <td>0.0</td>\n",
       "      <td>0.0</td>\n",
       "      <td>0</td>\n",
       "    </tr>\n",
       "    <tr>\n",
       "      <th>1</th>\n",
       "      <td>1</td>\n",
       "      <td>3.0</td>\n",
       "      <td>2.0</td>\n",
       "      <td>0.0</td>\n",
       "      <td>1.0</td>\n",
       "      <td>0.0</td>\n",
       "      <td>1.0</td>\n",
       "      <td>0.0</td>\n",
       "      <td>1.0</td>\n",
       "      <td>1.0</td>\n",
       "      <td>...</td>\n",
       "      <td>White</td>\n",
       "      <td>Male</td>\n",
       "      <td>Below Poverty</td>\n",
       "      <td>Not Married</td>\n",
       "      <td>Rent</td>\n",
       "      <td>Employed</td>\n",
       "      <td>MSA, Not Principle  City</td>\n",
       "      <td>0.0</td>\n",
       "      <td>0.0</td>\n",
       "      <td>0</td>\n",
       "    </tr>\n",
       "    <tr>\n",
       "      <th>2</th>\n",
       "      <td>2</td>\n",
       "      <td>1.0</td>\n",
       "      <td>1.0</td>\n",
       "      <td>0.0</td>\n",
       "      <td>1.0</td>\n",
       "      <td>0.0</td>\n",
       "      <td>0.0</td>\n",
       "      <td>0.0</td>\n",
       "      <td>0.0</td>\n",
       "      <td>0.0</td>\n",
       "      <td>...</td>\n",
       "      <td>White</td>\n",
       "      <td>Male</td>\n",
       "      <td>&lt;= $75,000, Above Poverty</td>\n",
       "      <td>Not Married</td>\n",
       "      <td>Own</td>\n",
       "      <td>Employed</td>\n",
       "      <td>MSA, Not Principle  City</td>\n",
       "      <td>2.0</td>\n",
       "      <td>0.0</td>\n",
       "      <td>0</td>\n",
       "    </tr>\n",
       "    <tr>\n",
       "      <th>3</th>\n",
       "      <td>3</td>\n",
       "      <td>1.0</td>\n",
       "      <td>1.0</td>\n",
       "      <td>0.0</td>\n",
       "      <td>1.0</td>\n",
       "      <td>0.0</td>\n",
       "      <td>1.0</td>\n",
       "      <td>1.0</td>\n",
       "      <td>0.0</td>\n",
       "      <td>0.0</td>\n",
       "      <td>...</td>\n",
       "      <td>White</td>\n",
       "      <td>Female</td>\n",
       "      <td>Below Poverty</td>\n",
       "      <td>Not Married</td>\n",
       "      <td>Rent</td>\n",
       "      <td>Not in Labor Force</td>\n",
       "      <td>MSA, Principle City</td>\n",
       "      <td>0.0</td>\n",
       "      <td>0.0</td>\n",
       "      <td>0</td>\n",
       "    </tr>\n",
       "    <tr>\n",
       "      <th>4</th>\n",
       "      <td>4</td>\n",
       "      <td>2.0</td>\n",
       "      <td>1.0</td>\n",
       "      <td>0.0</td>\n",
       "      <td>1.0</td>\n",
       "      <td>0.0</td>\n",
       "      <td>1.0</td>\n",
       "      <td>1.0</td>\n",
       "      <td>0.0</td>\n",
       "      <td>1.0</td>\n",
       "      <td>...</td>\n",
       "      <td>White</td>\n",
       "      <td>Female</td>\n",
       "      <td>&lt;= $75,000, Above Poverty</td>\n",
       "      <td>Married</td>\n",
       "      <td>Own</td>\n",
       "      <td>Employed</td>\n",
       "      <td>MSA, Not Principle  City</td>\n",
       "      <td>1.0</td>\n",
       "      <td>0.0</td>\n",
       "      <td>0</td>\n",
       "    </tr>\n",
       "    <tr>\n",
       "      <th>...</th>\n",
       "      <td>...</td>\n",
       "      <td>...</td>\n",
       "      <td>...</td>\n",
       "      <td>...</td>\n",
       "      <td>...</td>\n",
       "      <td>...</td>\n",
       "      <td>...</td>\n",
       "      <td>...</td>\n",
       "      <td>...</td>\n",
       "      <td>...</td>\n",
       "      <td>...</td>\n",
       "      <td>...</td>\n",
       "      <td>...</td>\n",
       "      <td>...</td>\n",
       "      <td>...</td>\n",
       "      <td>...</td>\n",
       "      <td>...</td>\n",
       "      <td>...</td>\n",
       "      <td>...</td>\n",
       "      <td>...</td>\n",
       "      <td>...</td>\n",
       "    </tr>\n",
       "    <tr>\n",
       "      <th>26702</th>\n",
       "      <td>26702</td>\n",
       "      <td>2.0</td>\n",
       "      <td>0.0</td>\n",
       "      <td>0.0</td>\n",
       "      <td>1.0</td>\n",
       "      <td>0.0</td>\n",
       "      <td>0.0</td>\n",
       "      <td>0.0</td>\n",
       "      <td>1.0</td>\n",
       "      <td>0.0</td>\n",
       "      <td>...</td>\n",
       "      <td>White</td>\n",
       "      <td>Female</td>\n",
       "      <td>&lt;= $75,000, Above Poverty</td>\n",
       "      <td>Not Married</td>\n",
       "      <td>Own</td>\n",
       "      <td>Not in Labor Force</td>\n",
       "      <td>Non-MSA</td>\n",
       "      <td>0.0</td>\n",
       "      <td>0.0</td>\n",
       "      <td>0</td>\n",
       "    </tr>\n",
       "    <tr>\n",
       "      <th>26703</th>\n",
       "      <td>26703</td>\n",
       "      <td>1.0</td>\n",
       "      <td>2.0</td>\n",
       "      <td>0.0</td>\n",
       "      <td>1.0</td>\n",
       "      <td>0.0</td>\n",
       "      <td>1.0</td>\n",
       "      <td>0.0</td>\n",
       "      <td>0.0</td>\n",
       "      <td>0.0</td>\n",
       "      <td>...</td>\n",
       "      <td>White</td>\n",
       "      <td>Male</td>\n",
       "      <td>&lt;= $75,000, Above Poverty</td>\n",
       "      <td>Not Married</td>\n",
       "      <td>Rent</td>\n",
       "      <td>Employed</td>\n",
       "      <td>MSA, Principle City</td>\n",
       "      <td>1.0</td>\n",
       "      <td>0.0</td>\n",
       "      <td>0</td>\n",
       "    </tr>\n",
       "    <tr>\n",
       "      <th>26704</th>\n",
       "      <td>26704</td>\n",
       "      <td>2.0</td>\n",
       "      <td>2.0</td>\n",
       "      <td>0.0</td>\n",
       "      <td>1.0</td>\n",
       "      <td>1.0</td>\n",
       "      <td>1.0</td>\n",
       "      <td>1.0</td>\n",
       "      <td>0.0</td>\n",
       "      <td>1.0</td>\n",
       "      <td>...</td>\n",
       "      <td>White</td>\n",
       "      <td>Female</td>\n",
       "      <td>NaN</td>\n",
       "      <td>Not Married</td>\n",
       "      <td>Own</td>\n",
       "      <td>NaN</td>\n",
       "      <td>MSA, Not Principle  City</td>\n",
       "      <td>0.0</td>\n",
       "      <td>0.0</td>\n",
       "      <td>0</td>\n",
       "    </tr>\n",
       "    <tr>\n",
       "      <th>26705</th>\n",
       "      <td>26705</td>\n",
       "      <td>1.0</td>\n",
       "      <td>1.0</td>\n",
       "      <td>0.0</td>\n",
       "      <td>0.0</td>\n",
       "      <td>0.0</td>\n",
       "      <td>0.0</td>\n",
       "      <td>0.0</td>\n",
       "      <td>0.0</td>\n",
       "      <td>NaN</td>\n",
       "      <td>...</td>\n",
       "      <td>Hispanic</td>\n",
       "      <td>Female</td>\n",
       "      <td>&lt;= $75,000, Above Poverty</td>\n",
       "      <td>Married</td>\n",
       "      <td>Rent</td>\n",
       "      <td>Employed</td>\n",
       "      <td>Non-MSA</td>\n",
       "      <td>1.0</td>\n",
       "      <td>0.0</td>\n",
       "      <td>0</td>\n",
       "    </tr>\n",
       "    <tr>\n",
       "      <th>26706</th>\n",
       "      <td>26706</td>\n",
       "      <td>0.0</td>\n",
       "      <td>0.0</td>\n",
       "      <td>0.0</td>\n",
       "      <td>1.0</td>\n",
       "      <td>0.0</td>\n",
       "      <td>0.0</td>\n",
       "      <td>0.0</td>\n",
       "      <td>0.0</td>\n",
       "      <td>0.0</td>\n",
       "      <td>...</td>\n",
       "      <td>White</td>\n",
       "      <td>Male</td>\n",
       "      <td>&lt;= $75,000, Above Poverty</td>\n",
       "      <td>Married</td>\n",
       "      <td>Own</td>\n",
       "      <td>Not in Labor Force</td>\n",
       "      <td>MSA, Principle City</td>\n",
       "      <td>1.0</td>\n",
       "      <td>0.0</td>\n",
       "      <td>0</td>\n",
       "    </tr>\n",
       "  </tbody>\n",
       "</table>\n",
       "<p>26707 rows × 34 columns</p>\n",
       "</div>"
      ],
      "text/plain": [
       "       unique_id  h1n1_worry  h1n1_awareness  antiviral_medication  \\\n",
       "0              0         1.0             0.0                   0.0   \n",
       "1              1         3.0             2.0                   0.0   \n",
       "2              2         1.0             1.0                   0.0   \n",
       "3              3         1.0             1.0                   0.0   \n",
       "4              4         2.0             1.0                   0.0   \n",
       "...          ...         ...             ...                   ...   \n",
       "26702      26702         2.0             0.0                   0.0   \n",
       "26703      26703         1.0             2.0                   0.0   \n",
       "26704      26704         2.0             2.0                   0.0   \n",
       "26705      26705         1.0             1.0                   0.0   \n",
       "26706      26706         0.0             0.0                   0.0   \n",
       "\n",
       "       contact_avoidance  bought_face_mask  wash_hands_frequently  \\\n",
       "0                    0.0               0.0                    0.0   \n",
       "1                    1.0               0.0                    1.0   \n",
       "2                    1.0               0.0                    0.0   \n",
       "3                    1.0               0.0                    1.0   \n",
       "4                    1.0               0.0                    1.0   \n",
       "...                  ...               ...                    ...   \n",
       "26702                1.0               0.0                    0.0   \n",
       "26703                1.0               0.0                    1.0   \n",
       "26704                1.0               1.0                    1.0   \n",
       "26705                0.0               0.0                    0.0   \n",
       "26706                1.0               0.0                    0.0   \n",
       "\n",
       "       avoid_large_gatherings  reduced_outside_home_cont  avoid_touch_face  \\\n",
       "0                         0.0                        1.0               1.0   \n",
       "1                         0.0                        1.0               1.0   \n",
       "2                         0.0                        0.0               0.0   \n",
       "3                         1.0                        0.0               0.0   \n",
       "4                         1.0                        0.0               1.0   \n",
       "...                       ...                        ...               ...   \n",
       "26702                     0.0                        1.0               0.0   \n",
       "26703                     0.0                        0.0               0.0   \n",
       "26704                     1.0                        0.0               1.0   \n",
       "26705                     0.0                        0.0               NaN   \n",
       "26706                     0.0                        0.0               0.0   \n",
       "\n",
       "       ...      race     sex               income_level  marital_status  \\\n",
       "0      ...     White  Female              Below Poverty     Not Married   \n",
       "1      ...     White    Male              Below Poverty     Not Married   \n",
       "2      ...     White    Male  <= $75,000, Above Poverty     Not Married   \n",
       "3      ...     White  Female              Below Poverty     Not Married   \n",
       "4      ...     White  Female  <= $75,000, Above Poverty         Married   \n",
       "...    ...       ...     ...                        ...             ...   \n",
       "26702  ...     White  Female  <= $75,000, Above Poverty     Not Married   \n",
       "26703  ...     White    Male  <= $75,000, Above Poverty     Not Married   \n",
       "26704  ...     White  Female                        NaN     Not Married   \n",
       "26705  ...  Hispanic  Female  <= $75,000, Above Poverty         Married   \n",
       "26706  ...     White    Male  <= $75,000, Above Poverty         Married   \n",
       "\n",
       "       housing_status          employment                census_msa  \\\n",
       "0                 Own  Not in Labor Force                   Non-MSA   \n",
       "1                Rent            Employed  MSA, Not Principle  City   \n",
       "2                 Own            Employed  MSA, Not Principle  City   \n",
       "3                Rent  Not in Labor Force       MSA, Principle City   \n",
       "4                 Own            Employed  MSA, Not Principle  City   \n",
       "...               ...                 ...                       ...   \n",
       "26702             Own  Not in Labor Force                   Non-MSA   \n",
       "26703            Rent            Employed       MSA, Principle City   \n",
       "26704             Own                 NaN  MSA, Not Principle  City   \n",
       "26705            Rent            Employed                   Non-MSA   \n",
       "26706             Own  Not in Labor Force       MSA, Principle City   \n",
       "\n",
       "       no_of_adults  no_of_children  h1n1_vaccine  \n",
       "0               0.0             0.0             0  \n",
       "1               0.0             0.0             0  \n",
       "2               2.0             0.0             0  \n",
       "3               0.0             0.0             0  \n",
       "4               1.0             0.0             0  \n",
       "...             ...             ...           ...  \n",
       "26702           0.0             0.0             0  \n",
       "26703           1.0             0.0             0  \n",
       "26704           0.0             0.0             0  \n",
       "26705           1.0             0.0             0  \n",
       "26706           1.0             0.0             0  \n",
       "\n",
       "[26707 rows x 34 columns]"
      ]
     },
     "execution_count": 3,
     "metadata": {},
     "output_type": "execute_result"
    }
   ],
   "source": [
    "df"
   ]
  },
  {
   "cell_type": "code",
   "execution_count": 5,
   "id": "275a3794",
   "metadata": {},
   "outputs": [
    {
     "data": {
      "text/plain": [
       "(26707, 34)"
      ]
     },
     "execution_count": 5,
     "metadata": {},
     "output_type": "execute_result"
    }
   ],
   "source": [
    "df.shape"
   ]
  },
  {
   "cell_type": "code",
   "execution_count": 7,
   "id": "c9fc9aaa",
   "metadata": {},
   "outputs": [
    {
     "name": "stdout",
     "output_type": "stream",
     "text": [
      "<class 'pandas.core.frame.DataFrame'>\n",
      "RangeIndex: 26707 entries, 0 to 26706\n",
      "Data columns (total 34 columns):\n",
      " #   Column                     Non-Null Count  Dtype  \n",
      "---  ------                     --------------  -----  \n",
      " 0   unique_id                  26707 non-null  int64  \n",
      " 1   h1n1_worry                 26615 non-null  float64\n",
      " 2   h1n1_awareness             26591 non-null  float64\n",
      " 3   antiviral_medication       26636 non-null  float64\n",
      " 4   contact_avoidance          26499 non-null  float64\n",
      " 5   bought_face_mask           26688 non-null  float64\n",
      " 6   wash_hands_frequently      26665 non-null  float64\n",
      " 7   avoid_large_gatherings     26620 non-null  float64\n",
      " 8   reduced_outside_home_cont  26625 non-null  float64\n",
      " 9   avoid_touch_face           26579 non-null  float64\n",
      " 10  dr_recc_h1n1_vacc          24547 non-null  float64\n",
      " 11  dr_recc_seasonal_vacc      24547 non-null  float64\n",
      " 12  chronic_medic_condition    25736 non-null  float64\n",
      " 13  cont_child_undr_6_mnths    25887 non-null  float64\n",
      " 14  is_health_worker           25903 non-null  float64\n",
      " 15  has_health_insur           14433 non-null  float64\n",
      " 16  is_h1n1_vacc_effective     26316 non-null  float64\n",
      " 17  is_h1n1_risky              26319 non-null  float64\n",
      " 18  sick_from_h1n1_vacc        26312 non-null  float64\n",
      " 19  is_seas_vacc_effective     26245 non-null  float64\n",
      " 20  is_seas_risky              26193 non-null  float64\n",
      " 21  sick_from_seas_vacc        26170 non-null  float64\n",
      " 22  age_bracket                26707 non-null  object \n",
      " 23  qualification              25300 non-null  object \n",
      " 24  race                       26707 non-null  object \n",
      " 25  sex                        26707 non-null  object \n",
      " 26  income_level               22284 non-null  object \n",
      " 27  marital_status             25299 non-null  object \n",
      " 28  housing_status             24665 non-null  object \n",
      " 29  employment                 25244 non-null  object \n",
      " 30  census_msa                 26707 non-null  object \n",
      " 31  no_of_adults               26458 non-null  float64\n",
      " 32  no_of_children             26458 non-null  float64\n",
      " 33  h1n1_vaccine               26707 non-null  int64  \n",
      "dtypes: float64(23), int64(2), object(9)\n",
      "memory usage: 6.9+ MB\n"
     ]
    }
   ],
   "source": [
    "df.info()"
   ]
  },
  {
   "cell_type": "code",
   "execution_count": 9,
   "id": "6a3772b6",
   "metadata": {},
   "outputs": [
    {
     "data": {
      "text/plain": [
       "unique_id                        0\n",
       "h1n1_worry                      92\n",
       "h1n1_awareness                 116\n",
       "antiviral_medication            71\n",
       "contact_avoidance              208\n",
       "bought_face_mask                19\n",
       "wash_hands_frequently           42\n",
       "avoid_large_gatherings          87\n",
       "reduced_outside_home_cont       82\n",
       "avoid_touch_face               128\n",
       "dr_recc_h1n1_vacc             2160\n",
       "dr_recc_seasonal_vacc         2160\n",
       "chronic_medic_condition        971\n",
       "cont_child_undr_6_mnths        820\n",
       "is_health_worker               804\n",
       "has_health_insur             12274\n",
       "is_h1n1_vacc_effective         391\n",
       "is_h1n1_risky                  388\n",
       "sick_from_h1n1_vacc            395\n",
       "is_seas_vacc_effective         462\n",
       "is_seas_risky                  514\n",
       "sick_from_seas_vacc            537\n",
       "age_bracket                      0\n",
       "qualification                 1407\n",
       "race                             0\n",
       "sex                              0\n",
       "income_level                  4423\n",
       "marital_status                1408\n",
       "housing_status                2042\n",
       "employment                    1463\n",
       "census_msa                       0\n",
       "no_of_adults                   249\n",
       "no_of_children                 249\n",
       "h1n1_vaccine                     0\n",
       "dtype: int64"
      ]
     },
     "execution_count": 9,
     "metadata": {},
     "output_type": "execute_result"
    }
   ],
   "source": [
    "df.isna().sum()"
   ]
  },
  {
   "cell_type": "code",
   "execution_count": 77,
   "id": "2e3bc9cd",
   "metadata": {},
   "outputs": [],
   "source": [
    "dff = df.copy()"
   ]
  },
  {
   "cell_type": "code",
   "execution_count": 78,
   "id": "187d68c2",
   "metadata": {},
   "outputs": [],
   "source": [
    "dff.drop('unique_id', axis = 1, inplace = True)"
   ]
  },
  {
   "cell_type": "code",
   "execution_count": 79,
   "id": "33ff7389",
   "metadata": {},
   "outputs": [
    {
     "data": {
      "text/plain": [
       "Index(['h1n1_worry', 'h1n1_awareness', 'antiviral_medication',\n",
       "       'contact_avoidance', 'bought_face_mask', 'wash_hands_frequently',\n",
       "       'avoid_large_gatherings', 'reduced_outside_home_cont',\n",
       "       'avoid_touch_face', 'dr_recc_h1n1_vacc', 'dr_recc_seasonal_vacc',\n",
       "       'chronic_medic_condition', 'cont_child_undr_6_mnths',\n",
       "       'is_health_worker', 'has_health_insur', 'is_h1n1_vacc_effective',\n",
       "       'is_h1n1_risky', 'sick_from_h1n1_vacc', 'is_seas_vacc_effective',\n",
       "       'is_seas_risky', 'sick_from_seas_vacc', 'age_bracket', 'qualification',\n",
       "       'race', 'sex', 'income_level', 'marital_status', 'housing_status',\n",
       "       'employment', 'census_msa', 'no_of_adults', 'no_of_children',\n",
       "       'h1n1_vaccine'],\n",
       "      dtype='object')"
      ]
     },
     "execution_count": 79,
     "metadata": {},
     "output_type": "execute_result"
    }
   ],
   "source": [
    "dff.columns"
   ]
  },
  {
   "cell_type": "code",
   "execution_count": 55,
   "id": "75a8efb9",
   "metadata": {},
   "outputs": [
    {
     "name": "stdout",
     "output_type": "stream",
     "text": [
      "numerical col : ['unique_id', 'h1n1_worry', 'h1n1_awareness', 'antiviral_medication', 'contact_avoidance', 'bought_face_mask', 'wash_hands_frequently', 'avoid_large_gatherings', 'reduced_outside_home_cont', 'avoid_touch_face', 'dr_recc_h1n1_vacc', 'dr_recc_seasonal_vacc', 'chronic_medic_condition', 'cont_child_undr_6_mnths', 'is_health_worker', 'has_health_insur', 'is_h1n1_vacc_effective', 'is_h1n1_risky', 'sick_from_h1n1_vacc', 'is_seas_vacc_effective', 'is_seas_risky', 'sick_from_seas_vacc', 'no_of_adults', 'no_of_children', 'h1n1_vaccine']\n",
      "categorical col : ['age_bracket', 'qualification', 'race', 'sex', 'income_level', 'marital_status', 'housing_status', 'employment', 'census_msa']\n"
     ]
    }
   ],
   "source": [
    "num_col = []\n",
    "cat_col = []\n",
    "\n",
    "for i in df.columns:\n",
    "    if df[i].dtypes == 'O':\n",
    "        cat_col.append(i)\n",
    "    else :\n",
    "        num_col.append(i)\n",
    "        \n",
    "print(f'numerical col : {num_col}')\n",
    "print(f'categorical col : {cat_col}')"
   ]
  },
  {
   "cell_type": "code",
   "execution_count": 17,
   "id": "f98b41b7",
   "metadata": {},
   "outputs": [
    {
     "data": {
      "text/plain": [
       "0    21033\n",
       "1     5674\n",
       "Name: h1n1_vaccine, dtype: int64"
      ]
     },
     "execution_count": 17,
     "metadata": {},
     "output_type": "execute_result"
    }
   ],
   "source": [
    "dff.h1n1_vaccine.value_counts()"
   ]
  },
  {
   "cell_type": "code",
   "execution_count": 21,
   "id": "3e2d1826",
   "metadata": {},
   "outputs": [
    {
     "data": {
      "text/plain": [
       "MSA, Not Principle  City    11645\n",
       "MSA, Principle City          7864\n",
       "Non-MSA                      7198\n",
       "Name: census_msa, dtype: int64"
      ]
     },
     "execution_count": 21,
     "metadata": {},
     "output_type": "execute_result"
    }
   ],
   "source": [
    "dff.census_msa.value_counts()"
   ]
  },
  {
   "cell_type": "code",
   "execution_count": 24,
   "id": "1eac4db3",
   "metadata": {},
   "outputs": [
    {
     "name": "stdout",
     "output_type": "stream",
     "text": [
      "\n",
      "age_bracket\n",
      "\n",
      "65+ Years        6843\n",
      "55 - 64 Years    5563\n",
      "45 - 54 Years    5238\n",
      "18 - 34 Years    5215\n",
      "35 - 44 Years    3848\n",
      "Name: age_bracket, dtype: int64\n",
      "\n",
      "qualification\n",
      "\n",
      "College Graduate    10097\n",
      "Some College         7043\n",
      "12 Years             5797\n",
      "< 12 Years           2363\n",
      "Name: qualification, dtype: int64\n",
      "\n",
      "race\n",
      "\n",
      "White                21222\n",
      "Black                 2118\n",
      "Hispanic              1755\n",
      "Other or Multiple     1612\n",
      "Name: race, dtype: int64\n",
      "\n",
      "sex\n",
      "\n",
      "Female    15858\n",
      "Male      10849\n",
      "Name: sex, dtype: int64\n",
      "\n",
      "income_level\n",
      "\n",
      "<= $75,000, Above Poverty    12777\n",
      "> $75,000                     6810\n",
      "Below Poverty                 2697\n",
      "Name: income_level, dtype: int64\n",
      "\n",
      "marital_status\n",
      "\n",
      "Married        13555\n",
      "Not Married    11744\n",
      "Name: marital_status, dtype: int64\n",
      "\n",
      "housing_status\n",
      "\n",
      "Own     18736\n",
      "Rent     5929\n",
      "Name: housing_status, dtype: int64\n",
      "\n",
      "employment\n",
      "\n",
      "Employed              13560\n",
      "Not in Labor Force    10231\n",
      "Unemployed             1453\n",
      "Name: employment, dtype: int64\n",
      "\n",
      "census_msa\n",
      "\n",
      "MSA, Not Principle  City    11645\n",
      "MSA, Principle City          7864\n",
      "Non-MSA                      7198\n",
      "Name: census_msa, dtype: int64\n"
     ]
    }
   ],
   "source": [
    "for i in cat_col:\n",
    "    print(f'\\n{i}\\n')\n",
    "    print(dff[i].value_counts())"
   ]
  },
  {
   "cell_type": "code",
   "execution_count": 32,
   "id": "63cb7229",
   "metadata": {},
   "outputs": [
    {
     "data": {
      "text/plain": [
       "age_bracket    h1n1_vaccine\n",
       "18 - 34 Years  0               4224\n",
       "               1                991\n",
       "35 - 44 Years  0               3087\n",
       "               1                761\n",
       "45 - 54 Years  0               4218\n",
       "               1               1020\n",
       "55 - 64 Years  0               4212\n",
       "               1               1351\n",
       "65+ Years      0               5292\n",
       "               1               1551\n",
       "Name: h1n1_vaccine, dtype: int64"
      ]
     },
     "execution_count": 32,
     "metadata": {},
     "output_type": "execute_result"
    }
   ],
   "source": [
    "dff.groupby('age_bracket').h1n1_vaccine.value_counts()"
   ]
  },
  {
   "cell_type": "code",
   "execution_count": 33,
   "id": "4b4b4e0b",
   "metadata": {},
   "outputs": [],
   "source": [
    "fixed_df = pd.DataFrame()"
   ]
  },
  {
   "cell_type": "markdown",
   "id": "3f33ab28",
   "metadata": {},
   "source": [
    "# h1n1_worry"
   ]
  },
  {
   "cell_type": "code",
   "execution_count": 34,
   "id": "6f0630c1",
   "metadata": {},
   "outputs": [
    {
     "data": {
      "text/plain": [
       "92"
      ]
     },
     "execution_count": 34,
     "metadata": {},
     "output_type": "execute_result"
    }
   ],
   "source": [
    "dff.h1n1_worry.isna().sum()"
   ]
  },
  {
   "cell_type": "code",
   "execution_count": 35,
   "id": "c3e4576f",
   "metadata": {},
   "outputs": [
    {
     "data": {
      "text/plain": [
       "2.0    10575\n",
       "1.0     8153\n",
       "3.0     4591\n",
       "0.0     3296\n",
       "Name: h1n1_worry, dtype: int64"
      ]
     },
     "execution_count": 35,
     "metadata": {},
     "output_type": "execute_result"
    }
   ],
   "source": [
    "dff.h1n1_worry.value_counts()"
   ]
  },
  {
   "cell_type": "code",
   "execution_count": 76,
   "id": "c445363d",
   "metadata": {},
   "outputs": [
    {
     "data": {
      "text/plain": [
       "0    2.0\n",
       "Name: h1n1_worry, dtype: float64"
      ]
     },
     "execution_count": 76,
     "metadata": {},
     "output_type": "execute_result"
    }
   ],
   "source": [
    "dff.h1n1_worry.mode()"
   ]
  },
  {
   "cell_type": "code",
   "execution_count": 68,
   "id": "2c8cbe7e",
   "metadata": {},
   "outputs": [
    {
     "data": {
      "text/plain": [
       "Int64Index([   44,    96,   150,   411,   758,  1231,  1838,  2101,  2301,\n",
       "             2327,  3354,  3547,  3573,  3619,  3900,  4365,  4530,  4765,\n",
       "             4871,  5107,  5216,  5616,  5750,  6064,  6270,  6279,  7422,\n",
       "             7622,  7710,  8708,  9458, 10426, 10517, 11032, 11455, 11750,\n",
       "            11897, 12629, 12661, 12751, 12827, 13001, 13140, 13459, 13843,\n",
       "            14133, 14147, 14254, 14415, 14833, 15277, 15468, 15718, 15823,\n",
       "            16205, 16408, 17210, 17862, 18052, 18386, 18478, 18488, 18714,\n",
       "            19440, 19687, 19780, 21169, 21213, 21269, 21332, 21505, 21701,\n",
       "            22344, 22698, 23118, 23289, 23319, 23877, 24544, 24759, 24967,\n",
       "            25075, 25148, 25154, 25244, 25302, 25419, 25788, 25883, 25948,\n",
       "            26358, 26471],\n",
       "           dtype='int64')"
      ]
     },
     "execution_count": 68,
     "metadata": {},
     "output_type": "execute_result"
    }
   ],
   "source": [
    "dff[dff.h1n1_worry.isnull()].h1n1_worry.index"
   ]
  },
  {
   "cell_type": "code",
   "execution_count": 81,
   "id": "1b43b655",
   "metadata": {},
   "outputs": [],
   "source": [
    "from sklearn.preprocessing import LabelEncoder\n",
    "from sklearn.impute import KNNImputer\n",
    "\n",
    "# Categorical columns to encode\n",
    "categorical_columns = cat_col\n",
    "\n",
    "# Initialize LabelEncoder and encode categorical columns\n",
    "label_encoder = LabelEncoder()\n",
    "\n",
    "for col in categorical_columns:\n",
    "    df[col] = label_encoder.fit_transform(df[col])\n",
    "\n",
    "# Initialize the KNNImputer\n",
    "knn_imputer = KNNImputer(n_neighbors=5)\n",
    "\n",
    "# Select columns with missing values\n",
    "columns_with_missing_values = df.columns[df.isna().any()].tolist()\n",
    "df_to_impute = df[columns_with_missing_values]\n",
    "\n",
    "# Fit the imputer and transform the data\n",
    "knn_imputer.fit(df_to_impute)\n",
    "imputed_data = knn_imputer.transform(df_to_impute)\n",
    "\n",
    "# Replace missing values in the original DataFrame\n",
    "df[columns_with_missing_values] = imputed_data\n",
    "\n",
    "# Now, your DataFrame 'df' contains encoded categorical values and imputed missing values\n"
   ]
  },
  {
   "cell_type": "code",
   "execution_count": 82,
   "id": "48c7b032",
   "metadata": {},
   "outputs": [
    {
     "data": {
      "text/plain": [
       "unique_id                    0\n",
       "h1n1_worry                   0\n",
       "h1n1_awareness               0\n",
       "antiviral_medication         0\n",
       "contact_avoidance            0\n",
       "bought_face_mask             0\n",
       "wash_hands_frequently        0\n",
       "avoid_large_gatherings       0\n",
       "reduced_outside_home_cont    0\n",
       "avoid_touch_face             0\n",
       "dr_recc_h1n1_vacc            0\n",
       "dr_recc_seasonal_vacc        0\n",
       "chronic_medic_condition      0\n",
       "cont_child_undr_6_mnths      0\n",
       "is_health_worker             0\n",
       "has_health_insur             0\n",
       "is_h1n1_vacc_effective       0\n",
       "is_h1n1_risky                0\n",
       "sick_from_h1n1_vacc          0\n",
       "is_seas_vacc_effective       0\n",
       "is_seas_risky                0\n",
       "sick_from_seas_vacc          0\n",
       "age_bracket                  0\n",
       "qualification                0\n",
       "race                         0\n",
       "sex                          0\n",
       "income_level                 0\n",
       "marital_status               0\n",
       "housing_status               0\n",
       "employment                   0\n",
       "census_msa                   0\n",
       "no_of_adults                 0\n",
       "no_of_children               0\n",
       "h1n1_vaccine                 0\n",
       "dtype: int64"
      ]
     },
     "execution_count": 82,
     "metadata": {},
     "output_type": "execute_result"
    }
   ],
   "source": [
    "df.isna().sum()"
   ]
  },
  {
   "cell_type": "code",
   "execution_count": 83,
   "id": "d2df19ba",
   "metadata": {},
   "outputs": [
    {
     "data": {
      "text/plain": [
       "(26707, 34)"
      ]
     },
     "execution_count": 83,
     "metadata": {},
     "output_type": "execute_result"
    }
   ],
   "source": [
    "\n",
    "df.shape"
   ]
  },
  {
   "cell_type": "code",
   "execution_count": 87,
   "id": "6c476863",
   "metadata": {},
   "outputs": [],
   "source": [
    "# Modelling\n",
    "from sklearn.model_selection import  train_test_split\n",
    "from sklearn.linear_model import LogisticRegression\n",
    "import statsmodels.api as sm\n",
    "\n",
    "from sklearn.metrics import confusion_matrix, accuracy_score, classification_report"
   ]
  },
  {
   "cell_type": "code",
   "execution_count": 88,
   "id": "263b9f32",
   "metadata": {},
   "outputs": [
    {
     "name": "stdout",
     "output_type": "stream",
     "text": [
      "              precision    recall  f1-score   support\n",
      "\n",
      "           0       0.83      0.95      0.89      6319\n",
      "           1       0.60      0.30      0.40      1694\n",
      "\n",
      "    accuracy                           0.81      8013\n",
      "   macro avg       0.72      0.62      0.64      8013\n",
      "weighted avg       0.78      0.81      0.78      8013\n",
      "\n"
     ]
    }
   ],
   "source": [
    "X = df.drop('h1n1_vaccine', axis = 1)\n",
    "y = df['h1n1_vaccine']\n",
    "\n",
    "X_train, X_test, y_train, y_test = train_test_split(X, y, test_size = 0.3, random_state = 42)\n",
    "\n",
    "logistic_model = LogisticRegression().fit(X_train, y_train)\n",
    "\n",
    "y_test_predicted = logistic_model.predict(X_test)\n",
    "\n",
    "print(classification_report(y_test, y_test_predicted))"
   ]
  },
  {
   "cell_type": "code",
   "execution_count": 91,
   "id": "fe398206",
   "metadata": {},
   "outputs": [
    {
     "name": "stdout",
     "output_type": "stream",
     "text": [
      "Fitting 5 folds for each of 54 candidates, totalling 270 fits\n",
      "Best Hyperparameters: {'C': 250, 'penalty': 'l1', 'solver': 'liblinear'}\n",
      "Best Score: 0.8319246712060389\n"
     ]
    }
   ],
   "source": [
    "from sklearn.model_selection import GridSearchCV\n",
    "logistic_model = LogisticRegression().fit(X_train, y_train)\n",
    "\n",
    "# Define the hyperparameter grid to search over\n",
    "param_grid = {\n",
    "    'penalty': ['l1', 'l2'],  # Regularization type\n",
    "    'C': [0.001, 0.01, 0.1, 1, 10, 100,150,200,250],  # Regularization strength\n",
    "    'solver': ['liblinear', 'lbfgs', 'saga']  # Solver options\n",
    "}\n",
    "\n",
    "# Create a GridSearchCV instance with cross-validation\n",
    "grid_search = GridSearchCV(\n",
    "    logistic_model,  # Estimator (Logistic Regression)\n",
    "    param_grid,       # Parameter grid to search\n",
    "    cv=5,             # Number of cross-validation folds\n",
    "    scoring='accuracy',  # Evaluation metric (e.g., accuracy)\n",
    "    verbose=1,        # Verbosity level (1 for progress output)\n",
    "    n_jobs=-1          # Number of CPU cores to use (-1 for all available cores)\n",
    ")\n",
    "\n",
    "# Fit the grid search to your training data\n",
    "grid_search.fit(X_train, y_train)\n",
    "\n",
    "# Print the best hyperparameters and corresponding score\n",
    "print(\"Best Hyperparameters:\", grid_search.best_params_)\n",
    "print(\"Best Score:\", grid_search.best_score_)\n",
    "\n",
    "# Get the best model with the best hyperparameters\n",
    "best_model = grid_search.best_estimator_\n",
    "\n",
    "# Make predictions using the best model\n",
    "y_pred = best_model.predict(X_test)"
   ]
  },
  {
   "cell_type": "code",
   "execution_count": 93,
   "id": "7787ce01",
   "metadata": {},
   "outputs": [
    {
     "name": "stdout",
     "output_type": "stream",
     "text": [
      "              precision    recall  f1-score   support\n",
      "\n",
      "           0       0.86      0.95      0.90      6319\n",
      "           1       0.68      0.41      0.51      1694\n",
      "\n",
      "    accuracy                           0.84      8013\n",
      "   macro avg       0.77      0.68      0.71      8013\n",
      "weighted avg       0.82      0.84      0.82      8013\n",
      "\n"
     ]
    }
   ],
   "source": [
    "final_logistic_model = LogisticRegression(C= 250, penalty= 'l1', solver='liblinear').fit(X_train, y_train)\n",
    "\n",
    "y_test_predicted = final_logistic_model.predict(X_test)\n",
    "\n",
    "print(classification_report(y_test, y_test_predicted))"
   ]
  },
  {
   "cell_type": "code",
   "execution_count": 94,
   "id": "a12dc689",
   "metadata": {},
   "outputs": [
    {
     "data": {
      "image/png": "[encoded data removed]",
      "text/plain": [
       "<Figure size 800x600 with 1 Axes>"
      ]
     },
     "metadata": {},
     "output_type": "display_data"
    }
   ],
   "source": [
    "from sklearn.metrics import roc_curve, roc_auc_score, auc\n",
    "\n",
    "_pred_prob = final_logistic_model.predict_proba(X_test)[:, 1]\n",
    "\n",
    "# Calculate ROC curve\n",
    "fpr, tpr, thresholds = roc_curve(y_test, y_test_predicted)\n",
    "\n",
    "# Calculate the AUC (Area Under the Curve) score\n",
    "roc_auc = auc(fpr, tpr)\n",
    "\n",
    "# Plot ROC curve\n",
    "plt.figure(figsize=(8, 6))\n",
    "plt.plot(fpr, tpr, color='darkorange', lw=2, label=f'ROC curve (AUC = {roc_auc:.2f})')\n",
    "plt.plot([0, 1], [0, 1], color='navy', lw=2, linestyle='--')\n",
    "plt.xlim([0.0, 1.0])\n",
    "plt.ylim([0.0, 1.05])\n",
    "plt.xlabel('False Positive Rate')\n",
    "plt.ylabel('True Positive Rate')\n",
    "plt.title('Receiver Operating Characteristic (ROC) Curve')\n",
    "plt.legend(loc='lower right')\n",
    "plt.show()"
   ]
  },
  {
   "cell_type": "code",
   "execution_count": 95,
   "id": "e0a263cf",
   "metadata": {},
   "outputs": [
    {
     "data": {
      "text/plain": [
       "0.8190440534132035"
      ]
     },
     "execution_count": 95,
     "metadata": {},
     "output_type": "execute_result"
    }
   ],
   "source": [
    "probs = final_logistic_model.predict_proba(X_test)\n",
    "\n",
    "# Set custom threshold\n",
    "threshold = 0.68\n",
    "preds = (probs[:, 1] > threshold).astype(int)\n",
    "\n",
    "# Evaluate model performance\n",
    "accuracy = (preds == y_test).mean()\n",
    "accuracy"
   ]
  },
  {
   "cell_type": "code",
   "execution_count": 96,
   "id": "6804f0de",
   "metadata": {},
   "outputs": [
    {
     "name": "stdout",
     "output_type": "stream",
     "text": [
      "Cohen's Kappa Score: 0.422329237854026\n"
     ]
    }
   ],
   "source": [
    "from sklearn.metrics import cohen_kappa_score\n",
    "\n",
    "# True labels (ground truth)\n",
    "true_labels = y_test\n",
    "\n",
    "# Predicted labels (model's predictions)\n",
    "predicted_labels = y_test_predicted\n",
    "\n",
    "# Calculate Cohen's Kappa score\n",
    "kappa_score = cohen_kappa_score(true_labels, predicted_labels)\n",
    "\n",
    "print(\"Cohen's Kappa Score:\", kappa_score)"
   ]
  },
  {
   "cell_type": "code",
   "execution_count": 97,
   "id": "0141a120",
   "metadata": {},
   "outputs": [
    {
     "name": "stdout",
     "output_type": "stream",
     "text": [
      "     Threshold  Accuracy\n",
      "0         0.00  0.211406\n",
      "1         0.01  0.226507\n",
      "2         0.02  0.261325\n",
      "3         0.03  0.304505\n",
      "4         0.04  0.348184\n",
      "..         ...       ...\n",
      "96        0.96  0.788718\n",
      "97        0.97  0.788594\n",
      "98        0.98  0.788594\n",
      "99        0.99  0.788594\n",
      "100       1.00  0.788594\n",
      "\n",
      "[101 rows x 2 columns]\n"
     ]
    }
   ],
   "source": [
    "acc_df = pd.DataFrame(columns=['Threshold', 'Accuracy'])\n",
    "\n",
    "# Generate threshold values from 0.00 to 1.00 with a step of 0.01\n",
    "thresholds = np.arange(0, 1.01, 0.01)\n",
    "\n",
    "# Assuming you have your predicted probabilities in the 'probs' array\n",
    "# Assuming you have the true labels in the 'y_test' array\n",
    "\n",
    "for threshold in thresholds:\n",
    "    preds = (probs[:, 1] > threshold).astype(int)\n",
    "    accuracy = (preds == y_test).mean()\n",
    "    acc_df = acc_df.append({'Threshold': threshold, 'Accuracy': accuracy}, ignore_index=True)\n",
    "\n",
    "# Print the DataFrame with accuracy values for each threshold\n",
    "print(acc_df)"
   ]
  },
  {
   "cell_type": "code",
   "execution_count": 98,
   "id": "f7909a37",
   "metadata": {},
   "outputs": [
    {
     "data": {
      "text/plain": [
       "0.8363908648446274"
      ]
     },
     "execution_count": 98,
     "metadata": {},
     "output_type": "execute_result"
    }
   ],
   "source": [
    "acc_df.Accuracy.max()"
   ]
  },
  {
   "cell_type": "code",
   "execution_count": null,
   "id": "5886001c",
   "metadata": {},
   "outputs": [],
   "source": []
  }
 ],
 "metadata": {
  "kernelspec": {
   "display_name": "Python 3 (ipykernel)",
   "language": "python",
   "name": "python3"
  },
  "language_info": {
   "codemirror_mode": {
    "name": "ipython",
    "version": 3
   },
   "file_extension": ".py",
   "mimetype": "text/x-python",
   "name": "python",
   "nbconvert_exporter": "python",
   "pygments_lexer": "ipython3",
   "version": "3.10.9"
  }
 },
 "nbformat": 4,
 "nbformat_minor": 5
}
