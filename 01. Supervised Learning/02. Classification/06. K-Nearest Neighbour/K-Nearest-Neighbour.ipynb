{
 "cells": [
  {
   "cell_type": "markdown",
   "id": "8699c816",
   "metadata": {},
   "source": [
    "    On REAL-TIME project, dont rely on the template rather apply the concept from this."
   ]
  },
  {
   "cell_type": "code",
   "execution_count": null,
   "id": "4224a472",
   "metadata": {},
   "outputs": [],
   "source": [
    "# Data Processing\n",
    "import pandas as pd\n",
    "import numpy as np\n",
    "\n",
    "# Modelling\n",
    "from sklearn.neighbors import KNeighborsClassifier\n",
    "from sklearn.metrics import accuracy_score, confusion_matrix, precision_score, recall_score, ConfusionMatrixDisplay\n",
    "from sklearn.model_selection import train_test_split\n",
    "\n",
    "# Visualisation\n",
    "import matplotlib.pyplot as plt\n",
    "import seaborn as sns\n",
    "\n",
    "import warnings\n",
    "warnings.filterwarnings('ignore')"
   ]
  },
  {
   "cell_type": "code",
   "execution_count": null,
   "id": "4728b56f",
   "metadata": {},
   "outputs": [],
   "source": []
  },
  {
   "cell_type": "code",
   "execution_count": null,
   "id": "4b71c73c",
   "metadata": {},
   "outputs": [],
   "source": [
    "X = df.drop(['Class'], axis=1)\n",
    "\n",
    "y = df['Class']\n",
    "\n",
    "X_train, X_test, y_train, y_test = train_test_split(X, y, test_size = 0.2, random_state = 0)"
   ]
  },
  {
   "cell_type": "code",
   "execution_count": null,
   "id": "45cfb15e",
   "metadata": {},
   "outputs": [],
   "source": []
  },
  {
   "cell_type": "code",
   "execution_count": null,
   "id": "010c189b",
   "metadata": {},
   "outputs": [],
   "source": [
    "knn = KNeighborsClassifier(n_neighbors=3)\n",
    "\n",
    "\n",
    "# fit the model to the training set\n",
    "knn.fit(X_train, y_train)\n",
    "\n",
    "y_pred = knn.predict(X_test)\n",
    "y_pred"
   ]
  },
  {
   "cell_type": "code",
   "execution_count": null,
   "id": "206a879f",
   "metadata": {},
   "outputs": [],
   "source": []
  },
  {
   "cell_type": "code",
   "execution_count": null,
   "id": "2bee6df7",
   "metadata": {},
   "outputs": [],
   "source": [
    "knn.predict_proba(X_test)[:,0]"
   ]
  },
  {
   "cell_type": "code",
   "execution_count": null,
   "id": "7311977c",
   "metadata": {},
   "outputs": [],
   "source": []
  },
  {
   "cell_type": "code",
   "execution_count": null,
   "id": "b6a973c6",
   "metadata": {},
   "outputs": [],
   "source": [
    "knn_5 = KNeighborsClassifier(n_neighbors=5)\n",
    "\n",
    "\n",
    "# fit the model to the training set\n",
    "knn_5.fit(X_train, y_train)\n",
    "\n",
    "\n",
    "# predict on the test-set\n",
    "y_pred_5 = knn_5.predict(X_test)\n",
    "\n",
    "\n",
    "print('Model accuracy score with k=5 : {0:0.4f}'. format(accuracy_score(y_test, y_pred_5)))"
   ]
  },
  {
   "cell_type": "code",
   "execution_count": null,
   "id": "b54c96c8",
   "metadata": {},
   "outputs": [],
   "source": []
  },
  {
   "cell_type": "code",
   "execution_count": null,
   "id": "e57b3f7b",
   "metadata": {},
   "outputs": [],
   "source": [
    "Train_acc_ = []\n",
    "Test_acc_ = []\n",
    "\n",
    "for i in range(3,30):\n",
    "    knn_model = KNeighborsClassifier(n_neighbors=i).fit(X_train, y_train)\n",
    "    knn_model_train_pred = knn_model.predict(X_train)\n",
    "    knn_model_test_pred = knn_model.predict(X_test)\n",
    "    train_acc = accuracy_score(knn_model_train_pred, y_train)\n",
    "    test_acc = accuracy_score(knn_model_test_pred, y_test)\n",
    "    #print(f\"{algo}\\nTrain : {train_acc}\\nTest : {test_acc}\\n\\n\")\n",
    "    \n",
    "    Train_acc_.append(train_acc)\n",
    "    Test_acc_.append(test_acc)\n",
    "    \n",
    "accuracy2 = pd.DataFrame()\n",
    "accuracy2['Train_acc'] = Train_acc_\n",
    "accuracy2['Test_acc'] = Test_acc_\n",
    "accuracy2['gap'] = accuracy2['Train_acc'] - accuracy2['Test_acc']"
   ]
  },
  {
   "cell_type": "code",
   "execution_count": null,
   "id": "2ae84102",
   "metadata": {},
   "outputs": [],
   "source": []
  },
  {
   "cell_type": "code",
   "execution_count": null,
   "id": "d54b75b7",
   "metadata": {},
   "outputs": [],
   "source": [
    "k = range(3,30)\n",
    "#%matplotlib qt\n",
    "\n",
    "plt.plot(k, Test_acc_, color = 'red', marker = '*')\n",
    "plt.plot(k, Train_acc_, color = 'green', marker = '*')\n",
    "plt.xlabel('Number of k')\n",
    "plt.xlabel('Accuracy')"
   ]
  },
  {
   "cell_type": "code",
   "execution_count": null,
   "id": "8aab5bc5",
   "metadata": {},
   "outputs": [],
   "source": []
  },
  {
   "cell_type": "code",
   "execution_count": null,
   "id": "19408884",
   "metadata": {},
   "outputs": [],
   "source": [
    "from sklearn.neighbors import KNeighborsClassifier\n",
    "from sklearn.model_selection import GridSearchCV\n",
    "\n",
    "# Create a KNeighborsClassifier\n",
    "knn_classifier = KNeighborsClassifier()\n",
    "\n",
    "# Define the hyperparameter grid for GridSearchCV\n",
    "params = {\n",
    "    'n_neighbors': [3, 5, 7, 9, 11],  # Number of neighbors to consider\n",
    "    'weights': ['uniform', 'distance'],  # Weighting of neighbors ('uniform' or 'distance')\n",
    "    'p': [1, 2],  # Minkowski distance metric (1 for Manhattan, 2 for Euclidean)\n",
    "    'algorithm': ['auto', 'ball_tree', 'kd_tree', 'brute']  # Algorithm for nearest neighbors\n",
    "}\n",
    "\n",
    "# Create a GridSearchCV object\n",
    "grid_search = GridSearchCV(estimator=knn_classifier, param_grid=params, cv=4, n_jobs=-1, verbose=1, scoring=\"accuracy\")\n",
    "\n",
    "# Fit the grid search to your training data\n",
    "grid_search.fit(X_train, y_train)\n",
    "\n",
    "# Get the best hyperparameters and the corresponding model\n",
    "best_params = grid_search.best_params_\n",
    "best_model = grid_search.best_estimator_\n",
    "\n",
    "# Check the best score\n",
    "best_score = grid_search.best_score_\n",
    "\n",
    "print(\"Best Parameters:\", best_params)\n",
    "print(\"Best Score (Grid Search):\", best_score)"
   ]
  },
  {
   "cell_type": "code",
   "execution_count": null,
   "id": "ecf25188",
   "metadata": {},
   "outputs": [],
   "source": []
  }
 ],
 "metadata": {
  "kernelspec": {
   "display_name": "Python 3 (ipykernel)",
   "language": "python",
   "name": "python3"
  },
  "language_info": {
   "codemirror_mode": {
    "name": "ipython",
    "version": 3
   },
   "file_extension": ".py",
   "mimetype": "text/x-python",
   "name": "python",
   "nbconvert_exporter": "python",
   "pygments_lexer": "ipython3",
   "version": "3.10.9"
  }
 },
 "nbformat": 4,
 "nbformat_minor": 5
}
