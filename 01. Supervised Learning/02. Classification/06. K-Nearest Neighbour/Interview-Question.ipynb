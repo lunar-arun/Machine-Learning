{
 "cells": [
  {
   "cell_type": "markdown",
   "id": "1e2fc6c2",
   "metadata": {},
   "source": [
    "    what is K-Nearest Neighbor(KNN) Algorithm?\n",
    "        It's a non-parametric, supervised learning classifier, which uses proximity to make classifications or predictions about the grouping of an individual data point."
   ]
  },
  {
   "cell_type": "markdown",
   "id": "5d8e3df7",
   "metadata": {},
   "source": []
  },
  {
   "cell_type": "markdown",
   "id": "f32990d6",
   "metadata": {},
   "source": []
  },
  {
   "cell_type": "markdown",
   "id": "19adc3b4",
   "metadata": {},
   "source": []
  },
  {
   "cell_type": "markdown",
   "id": "6c0191c0",
   "metadata": {},
   "source": []
  },
  {
   "cell_type": "markdown",
   "id": "0b0a1162",
   "metadata": {},
   "source": []
  },
  {
   "cell_type": "markdown",
   "id": "e22379d3",
   "metadata": {},
   "source": []
  },
  {
   "cell_type": "markdown",
   "id": "138c4955",
   "metadata": {},
   "source": []
  },
  {
   "cell_type": "markdown",
   "id": "022f4c5c",
   "metadata": {},
   "source": []
  },
  {
   "cell_type": "markdown",
   "id": "4f13c3db",
   "metadata": {},
   "source": []
  },
  {
   "cell_type": "markdown",
   "id": "9d7cf976",
   "metadata": {},
   "source": []
  },
  {
   "cell_type": "markdown",
   "id": "fa99465e",
   "metadata": {},
   "source": []
  },
  {
   "cell_type": "markdown",
   "id": "a30cd040",
   "metadata": {},
   "source": []
  },
  {
   "cell_type": "markdown",
   "id": "bd6ac0a1",
   "metadata": {},
   "source": []
  },
  {
   "cell_type": "markdown",
   "id": "8b61c511",
   "metadata": {},
   "source": []
  }
 ],
 "metadata": {
  "kernelspec": {
   "display_name": "Python 3 (ipykernel)",
   "language": "python",
   "name": "python3"
  },
  "language_info": {
   "codemirror_mode": {
    "name": "ipython",
    "version": 3
   },
   "file_extension": ".py",
   "mimetype": "text/x-python",
   "name": "python",
   "nbconvert_exporter": "python",
   "pygments_lexer": "ipython3",
   "version": "3.10.9"
  }
 },
 "nbformat": 4,
 "nbformat_minor": 5
}
