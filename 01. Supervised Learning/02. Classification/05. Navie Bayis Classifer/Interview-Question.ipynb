{
 "cells": [
  {
   "cell_type": "markdown",
   "id": "346a9a15",
   "metadata": {},
   "source": [
    "    Why naive bayes is called naive?\n",
    "        The \"naive\" aspect of Naive Bayes lies in its assumption of feature independence, which is often unrealistic but serves as a useful simplification for classification tasks.\n",
    "        \n",
    "        Naive Bayes is called naive because it assumes that each input variable is independent.\n",
    "        \n",
    "        Naive Bayes assumes conditional independence where Bayes theorem does not. This means the relationship between all input features are independent . Maybe not a great assumption, but this is is why the algorithm is called “naive”"
   ]
  },
  {
   "cell_type": "markdown",
   "id": "2440d0be",
   "metadata": {},
   "source": []
  }
 ],
 "metadata": {
  "kernelspec": {
   "display_name": "Python 3 (ipykernel)",
   "language": "python",
   "name": "python3"
  },
  "language_info": {
   "codemirror_mode": {
    "name": "ipython",
    "version": 3
   },
   "file_extension": ".py",
   "mimetype": "text/x-python",
   "name": "python",
   "nbconvert_exporter": "python",
   "pygments_lexer": "ipython3",
   "version": "3.10.9"
  }
 },
 "nbformat": 4,
 "nbformat_minor": 5
}
