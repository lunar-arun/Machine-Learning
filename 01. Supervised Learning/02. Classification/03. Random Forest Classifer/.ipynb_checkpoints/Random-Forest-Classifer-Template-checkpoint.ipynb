{
 "cells": [
  {
   "cell_type": "markdown",
   "id": "2a916f20",
   "metadata": {},
   "source": [
    "    On REAL-TIME project, dont rely on the template rather apply the concept from this."
   ]
  },
  {
   "cell_type": "code",
   "execution_count": null,
   "id": "33d6ac78",
   "metadata": {},
   "outputs": [],
   "source": [
    "# Data Processing\n",
    "import pandas as pd\n",
    "import numpy as np\n",
    "\n",
    "# Modelling\n",
    "from sklearn.ensemble import RandomForestClassifier\n",
    "from sklearn.metrics import accuracy_score, confusion_matrix, precision_score, recall_score, ConfusionMatrixDisplay\n",
    "from sklearn.model_selection import RandomizedSearchCV, train_test_split\n",
    "\n",
    "# Visualisation\n",
    "import matplotlib.pyplot as plt\n",
    "import seaborn as sns\n",
    "\n",
    "import warnings\n",
    "warnings.filterwarnings('ignore')"
   ]
  },
  {
   "cell_type": "code",
   "execution_count": null,
   "id": "87eac845",
   "metadata": {},
   "outputs": [],
   "source": []
  },
  {
   "cell_type": "code",
   "execution_count": null,
   "id": "b4cc0945",
   "metadata": {},
   "outputs": [],
   "source": [
    "# Declare feature vector and target variable \n",
    "X = df.drop(['target'], axis = 1)\n",
    "y = df['target']\n",
    "\n",
    "# split data into training and testing sets\n",
    "X_train, X_test, y_train, y_test = train_test_split(X, y, test_size = 0.33, random_state = 42)"
   ]
  },
  {
   "cell_type": "code",
   "execution_count": null,
   "id": "f7913b96",
   "metadata": {},
   "outputs": [],
   "source": []
  },
  {
   "cell_type": "code",
   "execution_count": null,
   "id": "c20cafc1",
   "metadata": {},
   "outputs": [],
   "source": [
    "rfc_model1 = RandomForestClassifier(random_state=0)\n",
    "\n",
    "rfc_model1.fit(X_train, y_train)\n",
    "\n",
    "y_pred = rfc_model1.predict(X_test)\n",
    "\n",
    "print('Model accuracy score with 100 decision-trees : {0:0.4f}'. format(accuracy_score(y_test, y_pred)))"
   ]
  },
  {
   "cell_type": "code",
   "execution_count": null,
   "id": "6de9b79f",
   "metadata": {},
   "outputs": [],
   "source": []
  },
  {
   "cell_type": "code",
   "execution_count": null,
   "id": "677c0931",
   "metadata": {},
   "outputs": [],
   "source": [
    "rfc_model2 = RandomForestClassifier(random_state=42, n_jobs=-1)\n",
    "\n",
    "# Define the parameter distributions for randomized search\n",
    "param_dist = {\n",
    "    'max_depth': [2, 3, 5, 10, 20],\n",
    "    'min_samples_leaf': [5, 10, 20, 50, 100, 200],\n",
    "    'n_estimators': [10, 25, 30, 50, 100, 200]\n",
    "}\n",
    "\n",
    "# Create a RandomizedSearchCV object\n",
    "random_search = RandomizedSearchCV(estimator=rfc_model2, param_distributions=param_dist, n_iter=100,\n",
    "                                   cv=4, n_jobs=-1, verbose=1, scoring=\"accuracy\", random_state=42)\n",
    "\n",
    "# Fit the randomized search to your training data\n",
    "random_search.fit(X_train, y_train)\n",
    "\n",
    "print(f\"The best Hyperparameters : \\n{random_search.best_estimator_}\")\n",
    "print(f\"The Accuracy after Tuning : {random_search.best_score_ * 100}\")"
   ]
  },
  {
   "cell_type": "code",
   "execution_count": null,
   "id": "a172ab36",
   "metadata": {},
   "outputs": [],
   "source": []
  },
  {
   "cell_type": "code",
   "execution_count": null,
   "id": "f64102b1",
   "metadata": {},
   "outputs": [],
   "source": [
    "final_rfc_model = RandomForestClassifier(max_depth=10, min_samples_leaf=5, n_estimators=200,\n",
    "                       n_jobs=-1, random_state=42)\n",
    "\n",
    "# fit the model to the training set\n",
    "final_rfc_model.fit(X_train, y_train)"
   ]
  },
  {
   "cell_type": "code",
   "execution_count": null,
   "id": "fe7d6aaa",
   "metadata": {},
   "outputs": [],
   "source": []
  },
  {
   "cell_type": "code",
   "execution_count": null,
   "id": "d17374fd",
   "metadata": {},
   "outputs": [],
   "source": [
    "feature_scores = pd.Series(final_rfc_model.feature_importances_, index=X_train.columns).sort_values(ascending=False)\n",
    "\n",
    "feature_scores"
   ]
  },
  {
   "cell_type": "code",
   "execution_count": null,
   "id": "cbfd820b",
   "metadata": {},
   "outputs": [],
   "source": []
  },
  {
   "cell_type": "code",
   "execution_count": null,
   "id": "7d5e7fbf",
   "metadata": {},
   "outputs": [],
   "source": [
    "# Visualize how feature scores in a graph\n",
    "sns.barplot(x=feature_scores, y=feature_scores.index)\n",
    "\n",
    "# Add labels to the graph\n",
    "plt.xlabel('Feature Importance Score')\n",
    "plt.ylabel('Features')\n",
    "\n",
    "# Add title to the graph\n",
    "plt.title(\"Visualizing Important Features\")\n",
    "\n",
    "# Visualize the graph\n",
    "plt.show()"
   ]
  },
  {
   "cell_type": "code",
   "execution_count": null,
   "id": "7340dfa4",
   "metadata": {},
   "outputs": [],
   "source": []
  }
 ],
 "metadata": {
  "kernelspec": {
   "display_name": "Python 3 (ipykernel)",
   "language": "python",
   "name": "python3"
  },
  "language_info": {
   "codemirror_mode": {
    "name": "ipython",
    "version": 3
   },
   "file_extension": ".py",
   "mimetype": "text/x-python",
   "name": "python",
   "nbconvert_exporter": "python",
   "pygments_lexer": "ipython3",
   "version": "3.10.9"
  }
 },
 "nbformat": 4,
 "nbformat_minor": 5
}
