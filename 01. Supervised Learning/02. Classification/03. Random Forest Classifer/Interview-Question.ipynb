{
 "cells": [
  {
   "cell_type": "markdown",
   "id": "7b22f379",
   "metadata": {},
   "source": [
    "    What is random in Random Forest?\n",
    "        Refers to random sampling of data and random feature selection to create an ensemble of decision trees that work together to improve predictive performance while reducing overfitting."
   ]
  },
  {
   "cell_type": "markdown",
   "id": "7c463fd3",
   "metadata": {},
   "source": [
    "    How to Control overfitting in RF?\n",
    "        It's is robust to overfitting compared to individual decision trees.\n",
    "        control :\n",
    "        \n",
    "        \n",
    "        Limit the Depth of Trees (max_depth)\n",
    "        Minimum Samples per Leaf (min_samples_leaf)\n",
    "        Minimum Samples per Split (min_samples_split)\n",
    "        Maximum Number of Features (max_features)\n",
    "        Increase the Number of Trees (n_estimators)"
   ]
  },
  {
   "cell_type": "markdown",
   "id": "f7ad8ce2",
   "metadata": {},
   "source": []
  }
 ],
 "metadata": {
  "kernelspec": {
   "display_name": "Python 3 (ipykernel)",
   "language": "python",
   "name": "python3"
  },
  "language_info": {
   "codemirror_mode": {
    "name": "ipython",
    "version": 3
   },
   "file_extension": ".py",
   "mimetype": "text/x-python",
   "name": "python",
   "nbconvert_exporter": "python",
   "pygments_lexer": "ipython3",
   "version": "3.10.9"
  }
 },
 "nbformat": 4,
 "nbformat_minor": 5
}
