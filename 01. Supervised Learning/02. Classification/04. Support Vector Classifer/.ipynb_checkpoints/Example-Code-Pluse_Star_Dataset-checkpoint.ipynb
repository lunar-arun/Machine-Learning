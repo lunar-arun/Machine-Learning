{
 "cells": [
  {
   "cell_type": "code",
   "execution_count": 1,
   "id": "88dfb848",
   "metadata": {},
   "outputs": [],
   "source": [
    "# Data Processing\n",
    "import pandas as pd\n",
    "import numpy as np\n",
    "\n",
    "# Visualization\n",
    "import matplotlib.pyplot as plt\n",
    "import seaborn as sns"
   ]
  },
  {
   "cell_type": "code",
   "execution_count": 2,
   "id": "b6fb0109",
   "metadata": {},
   "outputs": [],
   "source": [
    "df = pd.read_csv('dataset/pulsar_data_train.csv')"
   ]
  },
  {
   "cell_type": "code",
   "execution_count": 3,
   "id": "517d17d3",
   "metadata": {},
   "outputs": [
    {
     "data": {
      "text/html": [
       "<div>\n",
       "<style scoped>\n",
       "    .dataframe tbody tr th:only-of-type {\n",
       "        vertical-align: middle;\n",
       "    }\n",
       "\n",
       "    .dataframe tbody tr th {\n",
       "        vertical-align: top;\n",
       "    }\n",
       "\n",
       "    .dataframe thead th {\n",
       "        text-align: right;\n",
       "    }\n",
       "</style>\n",
       "<table border=\"1\" class=\"dataframe\">\n",
       "  <thead>\n",
       "    <tr style=\"text-align: right;\">\n",
       "      <th></th>\n",
       "      <th>Mean of the integrated profile</th>\n",
       "      <th>Standard deviation of the integrated profile</th>\n",
       "      <th>Excess kurtosis of the integrated profile</th>\n",
       "      <th>Skewness of the integrated profile</th>\n",
       "      <th>Mean of the DM-SNR curve</th>\n",
       "      <th>Standard deviation of the DM-SNR curve</th>\n",
       "      <th>Excess kurtosis of the DM-SNR curve</th>\n",
       "      <th>Skewness of the DM-SNR curve</th>\n",
       "      <th>target_class</th>\n",
       "    </tr>\n",
       "  </thead>\n",
       "  <tbody>\n",
       "    <tr>\n",
       "      <th>0</th>\n",
       "      <td>121.156250</td>\n",
       "      <td>48.372971</td>\n",
       "      <td>0.375485</td>\n",
       "      <td>-0.013165</td>\n",
       "      <td>3.168896</td>\n",
       "      <td>18.399367</td>\n",
       "      <td>7.449874</td>\n",
       "      <td>65.159298</td>\n",
       "      <td>0.0</td>\n",
       "    </tr>\n",
       "    <tr>\n",
       "      <th>1</th>\n",
       "      <td>76.968750</td>\n",
       "      <td>36.175557</td>\n",
       "      <td>0.712898</td>\n",
       "      <td>3.388719</td>\n",
       "      <td>2.399666</td>\n",
       "      <td>17.570997</td>\n",
       "      <td>9.414652</td>\n",
       "      <td>102.722975</td>\n",
       "      <td>0.0</td>\n",
       "    </tr>\n",
       "    <tr>\n",
       "      <th>2</th>\n",
       "      <td>130.585938</td>\n",
       "      <td>53.229534</td>\n",
       "      <td>0.133408</td>\n",
       "      <td>-0.297242</td>\n",
       "      <td>2.743311</td>\n",
       "      <td>22.362553</td>\n",
       "      <td>8.508364</td>\n",
       "      <td>74.031324</td>\n",
       "      <td>0.0</td>\n",
       "    </tr>\n",
       "    <tr>\n",
       "      <th>3</th>\n",
       "      <td>156.398438</td>\n",
       "      <td>48.865942</td>\n",
       "      <td>-0.215989</td>\n",
       "      <td>-0.171294</td>\n",
       "      <td>17.471572</td>\n",
       "      <td>NaN</td>\n",
       "      <td>2.958066</td>\n",
       "      <td>7.197842</td>\n",
       "      <td>0.0</td>\n",
       "    </tr>\n",
       "    <tr>\n",
       "      <th>4</th>\n",
       "      <td>84.804688</td>\n",
       "      <td>36.117659</td>\n",
       "      <td>0.825013</td>\n",
       "      <td>3.274125</td>\n",
       "      <td>2.790134</td>\n",
       "      <td>20.618009</td>\n",
       "      <td>8.405008</td>\n",
       "      <td>76.291128</td>\n",
       "      <td>0.0</td>\n",
       "    </tr>\n",
       "  </tbody>\n",
       "</table>\n",
       "</div>"
      ],
      "text/plain": [
       "    Mean of the integrated profile  \\\n",
       "0                       121.156250   \n",
       "1                        76.968750   \n",
       "2                       130.585938   \n",
       "3                       156.398438   \n",
       "4                        84.804688   \n",
       "\n",
       "    Standard deviation of the integrated profile  \\\n",
       "0                                      48.372971   \n",
       "1                                      36.175557   \n",
       "2                                      53.229534   \n",
       "3                                      48.865942   \n",
       "4                                      36.117659   \n",
       "\n",
       "    Excess kurtosis of the integrated profile  \\\n",
       "0                                    0.375485   \n",
       "1                                    0.712898   \n",
       "2                                    0.133408   \n",
       "3                                   -0.215989   \n",
       "4                                    0.825013   \n",
       "\n",
       "    Skewness of the integrated profile   Mean of the DM-SNR curve  \\\n",
       "0                            -0.013165                   3.168896   \n",
       "1                             3.388719                   2.399666   \n",
       "2                            -0.297242                   2.743311   \n",
       "3                            -0.171294                  17.471572   \n",
       "4                             3.274125                   2.790134   \n",
       "\n",
       "    Standard deviation of the DM-SNR curve  \\\n",
       "0                                18.399367   \n",
       "1                                17.570997   \n",
       "2                                22.362553   \n",
       "3                                      NaN   \n",
       "4                                20.618009   \n",
       "\n",
       "    Excess kurtosis of the DM-SNR curve   Skewness of the DM-SNR curve  \\\n",
       "0                              7.449874                      65.159298   \n",
       "1                              9.414652                     102.722975   \n",
       "2                              8.508364                      74.031324   \n",
       "3                              2.958066                       7.197842   \n",
       "4                              8.405008                      76.291128   \n",
       "\n",
       "   target_class  \n",
       "0           0.0  \n",
       "1           0.0  \n",
       "2           0.0  \n",
       "3           0.0  \n",
       "4           0.0  "
      ]
     },
     "execution_count": 3,
     "metadata": {},
     "output_type": "execute_result"
    }
   ],
   "source": [
    "df.head()"
   ]
  },
  {
   "cell_type": "code",
   "execution_count": 4,
   "id": "fd2144d8",
   "metadata": {},
   "outputs": [
    {
     "data": {
      "text/plain": [
       "(12528, 9)"
      ]
     },
     "execution_count": 4,
     "metadata": {},
     "output_type": "execute_result"
    }
   ],
   "source": [
    "df.shape"
   ]
  },
  {
   "cell_type": "code",
   "execution_count": 5,
   "id": "49ddd1db",
   "metadata": {},
   "outputs": [
    {
     "data": {
      "text/plain": [
       " Mean of the integrated profile                  float64\n",
       " Standard deviation of the integrated profile    float64\n",
       " Excess kurtosis of the integrated profile       float64\n",
       " Skewness of the integrated profile              float64\n",
       " Mean of the DM-SNR curve                        float64\n",
       " Standard deviation of the DM-SNR curve          float64\n",
       " Excess kurtosis of the DM-SNR curve             float64\n",
       " Skewness of the DM-SNR curve                    float64\n",
       "target_class                                     float64\n",
       "dtype: object"
      ]
     },
     "execution_count": 5,
     "metadata": {},
     "output_type": "execute_result"
    }
   ],
   "source": [
    "df.dtypes"
   ]
  },
  {
   "cell_type": "code",
   "execution_count": 6,
   "id": "e53ffbb0",
   "metadata": {},
   "outputs": [
    {
     "data": {
      "text/plain": [
       "Index([' Mean of the integrated profile',\n",
       "       ' Standard deviation of the integrated profile',\n",
       "       ' Excess kurtosis of the integrated profile',\n",
       "       ' Skewness of the integrated profile', ' Mean of the DM-SNR curve',\n",
       "       ' Standard deviation of the DM-SNR curve',\n",
       "       ' Excess kurtosis of the DM-SNR curve', ' Skewness of the DM-SNR curve',\n",
       "       'target_class'],\n",
       "      dtype='object')"
      ]
     },
     "execution_count": 6,
     "metadata": {},
     "output_type": "execute_result"
    }
   ],
   "source": [
    "df.columns"
   ]
  },
  {
   "cell_type": "code",
   "execution_count": 7,
   "id": "9e0929ee",
   "metadata": {},
   "outputs": [],
   "source": [
    "df.columns = df.columns.str.strip()"
   ]
  },
  {
   "cell_type": "code",
   "execution_count": 8,
   "id": "84ec740c",
   "metadata": {},
   "outputs": [
    {
     "data": {
      "text/html": [
       "<div>\n",
       "<style scoped>\n",
       "    .dataframe tbody tr th:only-of-type {\n",
       "        vertical-align: middle;\n",
       "    }\n",
       "\n",
       "    .dataframe tbody tr th {\n",
       "        vertical-align: top;\n",
       "    }\n",
       "\n",
       "    .dataframe thead th {\n",
       "        text-align: right;\n",
       "    }\n",
       "</style>\n",
       "<table border=\"1\" class=\"dataframe\">\n",
       "  <thead>\n",
       "    <tr style=\"text-align: right;\">\n",
       "      <th></th>\n",
       "      <th>μ_IP</th>\n",
       "      <th>σ_IP</th>\n",
       "      <th>β2_IP</th>\n",
       "      <th>Skp_IP</th>\n",
       "      <th>μ_DM-SNR</th>\n",
       "      <th>σ_DM-SNR</th>\n",
       "      <th>β2_DM-SNR</th>\n",
       "      <th>Skp_DM-SNR</th>\n",
       "      <th>target_class</th>\n",
       "    </tr>\n",
       "  </thead>\n",
       "  <tbody>\n",
       "    <tr>\n",
       "      <th>count</th>\n",
       "      <td>12528.00</td>\n",
       "      <td>12528.00</td>\n",
       "      <td>10793.00</td>\n",
       "      <td>12528.00</td>\n",
       "      <td>12528.00</td>\n",
       "      <td>11350.00</td>\n",
       "      <td>12528.00</td>\n",
       "      <td>11903.00</td>\n",
       "      <td>12528.00</td>\n",
       "    </tr>\n",
       "    <tr>\n",
       "      <th>mean</th>\n",
       "      <td>111.04</td>\n",
       "      <td>46.52</td>\n",
       "      <td>0.48</td>\n",
       "      <td>1.78</td>\n",
       "      <td>12.67</td>\n",
       "      <td>26.35</td>\n",
       "      <td>8.33</td>\n",
       "      <td>105.53</td>\n",
       "      <td>0.09</td>\n",
       "    </tr>\n",
       "    <tr>\n",
       "      <th>std</th>\n",
       "      <td>25.67</td>\n",
       "      <td>6.80</td>\n",
       "      <td>1.06</td>\n",
       "      <td>6.21</td>\n",
       "      <td>29.61</td>\n",
       "      <td>19.61</td>\n",
       "      <td>4.54</td>\n",
       "      <td>107.40</td>\n",
       "      <td>0.29</td>\n",
       "    </tr>\n",
       "    <tr>\n",
       "      <th>min</th>\n",
       "      <td>5.81</td>\n",
       "      <td>24.77</td>\n",
       "      <td>-1.74</td>\n",
       "      <td>-1.79</td>\n",
       "      <td>0.21</td>\n",
       "      <td>7.37</td>\n",
       "      <td>-3.14</td>\n",
       "      <td>-1.98</td>\n",
       "      <td>0.00</td>\n",
       "    </tr>\n",
       "    <tr>\n",
       "      <th>25%</th>\n",
       "      <td>100.87</td>\n",
       "      <td>42.36</td>\n",
       "      <td>0.02</td>\n",
       "      <td>-0.19</td>\n",
       "      <td>1.91</td>\n",
       "      <td>14.40</td>\n",
       "      <td>5.80</td>\n",
       "      <td>35.20</td>\n",
       "      <td>0.00</td>\n",
       "    </tr>\n",
       "    <tr>\n",
       "      <th>50%</th>\n",
       "      <td>115.18</td>\n",
       "      <td>46.93</td>\n",
       "      <td>0.22</td>\n",
       "      <td>0.20</td>\n",
       "      <td>2.79</td>\n",
       "      <td>18.41</td>\n",
       "      <td>8.45</td>\n",
       "      <td>83.13</td>\n",
       "      <td>0.00</td>\n",
       "    </tr>\n",
       "    <tr>\n",
       "      <th>75%</th>\n",
       "      <td>127.11</td>\n",
       "      <td>50.98</td>\n",
       "      <td>0.47</td>\n",
       "      <td>0.93</td>\n",
       "      <td>5.41</td>\n",
       "      <td>28.34</td>\n",
       "      <td>10.73</td>\n",
       "      <td>140.00</td>\n",
       "      <td>0.00</td>\n",
       "    </tr>\n",
       "    <tr>\n",
       "      <th>max</th>\n",
       "      <td>189.73</td>\n",
       "      <td>91.81</td>\n",
       "      <td>8.07</td>\n",
       "      <td>68.10</td>\n",
       "      <td>222.42</td>\n",
       "      <td>110.64</td>\n",
       "      <td>34.54</td>\n",
       "      <td>1191.00</td>\n",
       "      <td>1.00</td>\n",
       "    </tr>\n",
       "  </tbody>\n",
       "</table>\n",
       "</div>"
      ],
      "text/plain": [
       "           μ_IP      σ_IP     β2_IP    Skp_IP  μ_DM-SNR  σ_DM-SNR  β2_DM-SNR  \\\n",
       "count  12528.00  12528.00  10793.00  12528.00  12528.00  11350.00   12528.00   \n",
       "mean     111.04     46.52      0.48      1.78     12.67     26.35       8.33   \n",
       "std       25.67      6.80      1.06      6.21     29.61     19.61       4.54   \n",
       "min        5.81     24.77     -1.74     -1.79      0.21      7.37      -3.14   \n",
       "25%      100.87     42.36      0.02     -0.19      1.91     14.40       5.80   \n",
       "50%      115.18     46.93      0.22      0.20      2.79     18.41       8.45   \n",
       "75%      127.11     50.98      0.47      0.93      5.41     28.34      10.73   \n",
       "max      189.73     91.81      8.07     68.10    222.42    110.64      34.54   \n",
       "\n",
       "       Skp_DM-SNR  target_class  \n",
       "count    11903.00      12528.00  \n",
       "mean       105.53          0.09  \n",
       "std        107.40          0.29  \n",
       "min         -1.98          0.00  \n",
       "25%         35.20          0.00  \n",
       "50%         83.13          0.00  \n",
       "75%        140.00          0.00  \n",
       "max       1191.00          1.00  "
      ]
     },
     "execution_count": 8,
     "metadata": {},
     "output_type": "execute_result"
    }
   ],
   "source": [
    "rename_cols = [\n",
    "    'μ_IP',\n",
    "    'σ_IP',\n",
    "    'β2_IP',\n",
    "    'Skp_IP',\n",
    "    'μ_DM-SNR',\n",
    "    'σ_DM-SNR',\n",
    "    'β2_DM-SNR',\n",
    "    'Skp_DM-SNR',\n",
    "    'target_class'\n",
    "]\n",
    "\n",
    "df.columns = rename_cols\n",
    "\n",
    "round(df.describe(),2)"
   ]
  },
  {
   "cell_type": "code",
   "execution_count": 9,
   "id": "ce81b5fe",
   "metadata": {},
   "outputs": [
    {
     "data": {
      "text/plain": [
       "0.0    11375\n",
       "1.0     1153\n",
       "Name: target_class, dtype: int64"
      ]
     },
     "execution_count": 9,
     "metadata": {},
     "output_type": "execute_result"
    }
   ],
   "source": [
    "df['target_class'].value_counts()"
   ]
  },
  {
   "cell_type": "code",
   "execution_count": 10,
   "id": "0c3f392b",
   "metadata": {},
   "outputs": [
    {
     "data": {
      "text/plain": [
       "μ_IP               0\n",
       "σ_IP               0\n",
       "β2_IP           1735\n",
       "Skp_IP             0\n",
       "μ_DM-SNR           0\n",
       "σ_DM-SNR        1178\n",
       "β2_DM-SNR          0\n",
       "Skp_DM-SNR       625\n",
       "target_class       0\n",
       "dtype: int64"
      ]
     },
     "execution_count": 10,
     "metadata": {},
     "output_type": "execute_result"
    }
   ],
   "source": [
    "df.isna().sum()"
   ]
  },
  {
   "cell_type": "code",
   "execution_count": 11,
   "id": "75a1ad2a",
   "metadata": {},
   "outputs": [
    {
     "data": {
      "text/plain": [
       "μ_IP            0\n",
       "σ_IP            0\n",
       "β2_IP           0\n",
       "Skp_IP          0\n",
       "μ_DM-SNR        0\n",
       "σ_DM-SNR        0\n",
       "β2_DM-SNR       0\n",
       "Skp_DM-SNR      0\n",
       "target_class    0\n",
       "dtype: int64"
      ]
     },
     "execution_count": 11,
     "metadata": {},
     "output_type": "execute_result"
    }
   ],
   "source": [
    "df.dropna(inplace=True)\n",
    "df.isna().sum()"
   ]
  },
  {
   "cell_type": "code",
   "execution_count": 12,
   "id": "6ac85027",
   "metadata": {},
   "outputs": [],
   "source": [
    "X = df.drop(['target_class'], axis=1)\n",
    "\n",
    "y = df['target_class']\n",
    "\n",
    "from sklearn.model_selection import train_test_split\n",
    "\n",
    "X_train, X_test, y_train, y_test = train_test_split(X, y, test_size = 0.2, random_state = 0)"
   ]
  },
  {
   "cell_type": "code",
   "execution_count": 13,
   "id": "3ebd6cef",
   "metadata": {},
   "outputs": [],
   "source": [
    "from sklearn.preprocessing import StandardScaler\n",
    "\n",
    "cols = X.columns\n",
    "\n",
    "scaler = StandardScaler()\n",
    "\n",
    "X_train = scaler.fit_transform(X_train)\n",
    "\n",
    "X_test = scaler.transform(X_test)\n",
    "\n",
    "X_train = pd.DataFrame(X_train, columns=[cols])\n",
    "X_test = pd.DataFrame(X_test, columns=[cols])"
   ]
  },
  {
   "cell_type": "code",
   "execution_count": 14,
   "id": "b8cdfa92",
   "metadata": {},
   "outputs": [
    {
     "name": "stdout",
     "output_type": "stream",
     "text": [
      "Model accuracy score with default hyperparameters: 0.9730\n"
     ]
    }
   ],
   "source": [
    "from sklearn.svm import SVC\n",
    "from sklearn.metrics import accuracy_score\n",
    "\n",
    "\n",
    "# instantiate classifier with default hyperparameters\n",
    "svc=SVC() \n",
    "\n",
    "\n",
    "# fit classifier to training set\n",
    "svc.fit(X_train,y_train)\n",
    "\n",
    "\n",
    "# make predictions on test set\n",
    "y_pred=svc.predict(X_test)\n",
    "\n",
    "\n",
    "# compute and print accuracy score\n",
    "print('Model accuracy score with default hyperparameters: {0:0.4f}'. format(accuracy_score(y_test, y_pred)))"
   ]
  },
  {
   "cell_type": "code",
   "execution_count": 17,
   "id": "c2a2186c",
   "metadata": {},
   "outputs": [],
   "source": [
    "from sklearn.model_selection import GridSearchCV"
   ]
  },
  {
   "cell_type": "code",
   "execution_count": 18,
   "id": "e49c7458",
   "metadata": {},
   "outputs": [
    {
     "name": "stdout",
     "output_type": "stream",
     "text": [
      "Best Parameters: {'C': 10, 'decision_function_shape': 'ovo', 'gamma': 'scale', 'kernel': 'linear'}\n",
      "Best Accuracy: 0.9795088269025596\n"
     ]
    }
   ],
   "source": [
    "params = {\n",
    "    'C': [0.001, 0.02, 0.01, 0.1, 0.101, 1.0, 10],\n",
    "    'kernel': ['linear', 'poly', 'rbf', 'sigmoid'],\n",
    "    'gamma' : ['scale', 'auto'],\n",
    "    'decision_function_shape' : ['ovo', 'ovr']\n",
    "}\n",
    "\n",
    "svc = SVC()\n",
    "\n",
    "\n",
    "grid_search = GridSearchCV(estimator=svc, param_grid=params, cv=5, scoring='accuracy')\n",
    "\n",
    "\n",
    "grid_search.fit(X_train, y_train)\n",
    "\n",
    "\n",
    "print(\"Best Parameters:\", grid_search.best_params_)\n",
    "print(\"Best Accuracy:\", grid_search.best_score_)"
   ]
  },
  {
   "cell_type": "code",
   "execution_count": null,
   "id": "c0eaa157",
   "metadata": {},
   "outputs": [],
   "source": []
  }
 ],
 "metadata": {
  "kernelspec": {
   "display_name": "Python 3 (ipykernel)",
   "language": "python",
   "name": "python3"
  },
  "language_info": {
   "codemirror_mode": {
    "name": "ipython",
    "version": 3
   },
   "file_extension": ".py",
   "mimetype": "text/x-python",
   "name": "python",
   "nbconvert_exporter": "python",
   "pygments_lexer": "ipython3",
   "version": "3.10.9"
  }
 },
 "nbformat": 4,
 "nbformat_minor": 5
}
