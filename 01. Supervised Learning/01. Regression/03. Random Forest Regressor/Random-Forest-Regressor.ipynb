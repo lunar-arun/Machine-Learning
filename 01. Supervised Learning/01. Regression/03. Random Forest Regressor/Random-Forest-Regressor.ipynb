{
 "cells": [
  {
   "cell_type": "code",
   "execution_count": 1,
   "id": "56b16f75",
   "metadata": {
    "ExecuteTime": {
     "end_time": "2024-03-02T06:43:35.045676Z",
     "start_time": "2024-03-02T06:43:33.333945Z"
    }
   },
   "outputs": [],
   "source": [
    "# data manuipulation\n",
    "import numpy as np\n",
    "import pandas as pd\n",
    "\n",
    "# modeling utilities\n",
    "from sklearn import metrics\n",
    "from sklearn import preprocessing\n",
    "from sklearn.ensemble import RandomForestRegressor\n",
    "from sklearn.model_selection import GridSearchCV, cross_val_score, cross_val_predict, train_test_split\n",
    "\n",
    "\n",
    "# plotting libraries\n",
    "import matplotlib.pyplot as plt\n",
    "import seaborn as sns"
   ]
  },
  {
   "cell_type": "code",
   "execution_count": 2,
   "id": "8201ad64",
   "metadata": {
    "ExecuteTime": {
     "end_time": "2024-03-02T06:43:35.050117Z",
     "start_time": "2024-03-02T06:43:35.046684Z"
    }
   },
   "outputs": [],
   "source": [
    "import warnings\n",
    "warnings.filterwarnings('ignore')"
   ]
  },
  {
   "cell_type": "code",
   "execution_count": 3,
   "id": "5376a308",
   "metadata": {
    "ExecuteTime": {
     "end_time": "2024-03-02T06:43:35.095455Z",
     "start_time": "2024-03-02T06:43:35.052110Z"
    }
   },
   "outputs": [],
   "source": [
    "train_df = pd.read_csv('train_df.csv')\n",
    "test_df = pd.read_csv('test_df.csv')\n",
    "validate = pd.read_csv('validate.csv')"
   ]
  },
  {
   "cell_type": "code",
   "execution_count": 4,
   "id": "55712a98",
   "metadata": {
    "ExecuteTime": {
     "end_time": "2024-03-02T06:43:35.103404Z",
     "start_time": "2024-03-02T06:43:35.097435Z"
    }
   },
   "outputs": [
    {
     "data": {
      "text/plain": [
       "Index(['temp', 'humidity', 'windspeed', 'hour', 'weekday', 'month', 'year',\n",
       "       'season_1', 'season_2', 'season_3', 'season_4', 'is_holiday_0',\n",
       "       'is_holiday_1', 'weather_condition_1', 'weather_condition_2',\n",
       "       'weather_condition_3', 'weather_condition_4', 'is_workingday_0',\n",
       "       'is_workingday_1', 'total_count'],\n",
       "      dtype='object')"
      ]
     },
     "execution_count": 4,
     "metadata": {},
     "output_type": "execute_result"
    }
   ],
   "source": [
    "train_df.columns"
   ]
  },
  {
   "cell_type": "code",
   "execution_count": 5,
   "id": "d733538a",
   "metadata": {
    "ExecuteTime": {
     "end_time": "2024-03-02T06:43:35.116349Z",
     "start_time": "2024-03-02T06:43:35.104431Z"
    }
   },
   "outputs": [
    {
     "data": {
      "text/plain": [
       "Index(['temp', 'humidity', 'windspeed', 'hour', 'weekday', 'month', 'year',\n",
       "       'season_1', 'season_2', 'season_3', 'season_4', 'is_holiday_0',\n",
       "       'is_holiday_1', 'weather_condition_1', 'weather_condition_2',\n",
       "       'weather_condition_3', 'weather_condition_4', 'is_workingday_0',\n",
       "       'is_workingday_1'],\n",
       "      dtype='object')"
      ]
     },
     "execution_count": 5,
     "metadata": {},
     "output_type": "execute_result"
    }
   ],
   "source": [
    "test_df.columns"
   ]
  },
  {
   "cell_type": "code",
   "execution_count": 6,
   "id": "407b99c8",
   "metadata": {
    "ExecuteTime": {
     "end_time": "2024-03-02T06:43:35.125048Z",
     "start_time": "2024-03-02T06:43:35.117345Z"
    }
   },
   "outputs": [
    {
     "data": {
      "text/plain": [
       "Index(['total_count'], dtype='object')"
      ]
     },
     "execution_count": 6,
     "metadata": {},
     "output_type": "execute_result"
    }
   ],
   "source": [
    "validate.columns"
   ]
  },
  {
   "cell_type": "code",
   "execution_count": 7,
   "id": "1a5b52e0",
   "metadata": {
    "ExecuteTime": {
     "end_time": "2024-03-02T06:43:35.136935Z",
     "start_time": "2024-03-02T06:43:35.127037Z"
    }
   },
   "outputs": [],
   "source": [
    "X = train_df.drop('total_count', axis=1)\n",
    "y = train_df['total_count']\n",
    "\n",
    "# Split the data into training and testing sets\n",
    "X_train, X_test, y_train, y_test = train_test_split(X, y, test_size=0.2, random_state=42)"
   ]
  },
  {
   "cell_type": "code",
   "execution_count": 8,
   "id": "5104f8af",
   "metadata": {
    "ExecuteTime": {
     "end_time": "2024-03-02T06:43:38.842794Z",
     "start_time": "2024-03-02T06:43:35.137959Z"
    }
   },
   "outputs": [],
   "source": [
    "# Create a Decision Tree Regressor\n",
    "regressor = RandomForestRegressor()\n",
    "\n",
    "# Train the model\n",
    "regressor.fit(X_train, y_train)\n",
    "\n",
    "# Make predictions on the test set\n",
    "y_pred = regressor.predict(X_test)"
   ]
  },
  {
   "cell_type": "code",
   "execution_count": 9,
   "id": "d6164aec",
   "metadata": {
    "ExecuteTime": {
     "end_time": "2024-03-02T06:43:38.857279Z",
     "start_time": "2024-03-02T06:43:38.845808Z"
    }
   },
   "outputs": [
    {
     "name": "stdout",
     "output_type": "stream",
     "text": [
      "Mean Absolute Error: 26.56550830113067\n",
      "Mean Squared Error: 1942.2325326203309\n",
      "Root Mean Squared Error: 44.070767325068566\n",
      "r2_score: 0.9391124092352057\n"
     ]
    }
   ],
   "source": [
    "print('Mean Absolute Error:', metrics.mean_absolute_error(y_test,y_pred))\n",
    "print('Mean Squared Error:', metrics.mean_squared_error(y_test,y_pred))\n",
    "print('Root Mean Squared Error:', np.sqrt(metrics.mean_squared_error(y_test,y_pred)))\n",
    "print('r2_score:', metrics.r2_score(y_test,y_pred))"
   ]
  },
  {
   "cell_type": "code",
   "execution_count": 10,
   "id": "56966942",
   "metadata": {
    "ExecuteTime": {
     "end_time": "2024-03-02T06:43:38.989209Z",
     "start_time": "2024-03-02T06:43:38.859745Z"
    }
   },
   "outputs": [
    {
     "name": "stdout",
     "output_type": "stream",
     "text": [
      "Mean Absolute Error: 26.31660486401674\n",
      "Mean Squared Error: 1869.3119741155808\n",
      "Root Mean Squared Error: 43.235540636328125\n",
      "r2_score: 0.941403542592679\n"
     ]
    }
   ],
   "source": [
    "validate_test = regressor.predict(test_df)\n",
    "\n",
    "print('Mean Absolute Error:', metrics.mean_absolute_error(validate,validate_test))\n",
    "print('Mean Squared Error:', metrics.mean_squared_error(validate,validate_test))\n",
    "print('Root Mean Squared Error:', np.sqrt(metrics.mean_squared_error(validate,validate_test)))\n",
    "print('r2_score:', metrics.r2_score(validate,validate_test))"
   ]
  }
 ],
 "metadata": {
  "kernelspec": {
   "display_name": "Python 3 (ipykernel)",
   "language": "python",
   "name": "python3"
  },
  "language_info": {
   "codemirror_mode": {
    "name": "ipython",
    "version": 3
   },
   "file_extension": ".py",
   "mimetype": "text/x-python",
   "name": "python",
   "nbconvert_exporter": "python",
   "pygments_lexer": "ipython3",
   "version": "3.11.5"
  },
  "toc": {
   "base_numbering": 1,
   "nav_menu": {},
   "number_sections": true,
   "sideBar": true,
   "skip_h1_title": false,
   "title_cell": "Table of Contents",
   "title_sidebar": "Contents",
   "toc_cell": false,
   "toc_position": {},
   "toc_section_display": true,
   "toc_window_display": false
  }
 },
 "nbformat": 4,
 "nbformat_minor": 5
}
