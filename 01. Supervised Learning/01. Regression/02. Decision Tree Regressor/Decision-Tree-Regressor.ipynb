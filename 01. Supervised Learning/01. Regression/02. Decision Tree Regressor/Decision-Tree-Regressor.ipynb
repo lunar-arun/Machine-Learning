{
 "cells": [
  {
   "cell_type": "code",
   "execution_count": 1,
   "id": "d4ee7ee0",
   "metadata": {
    "ExecuteTime": {
     "end_time": "2024-03-02T06:39:35.141778Z",
     "start_time": "2024-03-02T06:39:33.436836Z"
    }
   },
   "outputs": [],
   "source": [
    "# data manuipulation\n",
    "import numpy as np\n",
    "import pandas as pd\n",
    "\n",
    "# modeling utilities\n",
    "from sklearn import metrics\n",
    "from sklearn import preprocessing\n",
    "from sklearn.tree import DecisionTreeRegressor\n",
    "from sklearn.model_selection import GridSearchCV, cross_val_score, cross_val_predict, train_test_split\n",
    "\n",
    "\n",
    "# plotting libraries\n",
    "import matplotlib.pyplot as plt\n",
    "import seaborn as sns"
   ]
  },
  {
   "cell_type": "code",
   "execution_count": 2,
   "id": "a600a9a1",
   "metadata": {
    "ExecuteTime": {
     "end_time": "2024-03-02T06:39:35.146869Z",
     "start_time": "2024-03-02T06:39:35.142777Z"
    }
   },
   "outputs": [],
   "source": [
    "import warnings\n",
    "warnings.filterwarnings('ignore')"
   ]
  },
  {
   "cell_type": "code",
   "execution_count": 3,
   "id": "51b41120",
   "metadata": {
    "ExecuteTime": {
     "end_time": "2024-03-02T06:39:35.192601Z",
     "start_time": "2024-03-02T06:39:35.150856Z"
    }
   },
   "outputs": [],
   "source": [
    "train_df = pd.read_csv('train_df.csv')\n",
    "test_df = pd.read_csv('test_df.csv')\n",
    "validate = pd.read_csv('validate.csv')"
   ]
  },
  {
   "cell_type": "code",
   "execution_count": 4,
   "id": "193cf8c8",
   "metadata": {
    "ExecuteTime": {
     "end_time": "2024-03-02T06:39:35.201861Z",
     "start_time": "2024-03-02T06:39:35.193585Z"
    }
   },
   "outputs": [
    {
     "data": {
      "text/plain": [
       "Index(['temp', 'humidity', 'windspeed', 'hour', 'weekday', 'month', 'year',\n",
       "       'season_1', 'season_2', 'season_3', 'season_4', 'is_holiday_0',\n",
       "       'is_holiday_1', 'weather_condition_1', 'weather_condition_2',\n",
       "       'weather_condition_3', 'weather_condition_4', 'is_workingday_0',\n",
       "       'is_workingday_1', 'total_count'],\n",
       "      dtype='object')"
      ]
     },
     "execution_count": 4,
     "metadata": {},
     "output_type": "execute_result"
    }
   ],
   "source": [
    "train_df.columns"
   ]
  },
  {
   "cell_type": "code",
   "execution_count": 5,
   "id": "503b0c68",
   "metadata": {
    "ExecuteTime": {
     "end_time": "2024-03-02T06:39:35.210612Z",
     "start_time": "2024-03-02T06:39:35.202854Z"
    }
   },
   "outputs": [
    {
     "data": {
      "text/plain": [
       "Index(['temp', 'humidity', 'windspeed', 'hour', 'weekday', 'month', 'year',\n",
       "       'season_1', 'season_2', 'season_3', 'season_4', 'is_holiday_0',\n",
       "       'is_holiday_1', 'weather_condition_1', 'weather_condition_2',\n",
       "       'weather_condition_3', 'weather_condition_4', 'is_workingday_0',\n",
       "       'is_workingday_1'],\n",
       "      dtype='object')"
      ]
     },
     "execution_count": 5,
     "metadata": {},
     "output_type": "execute_result"
    }
   ],
   "source": [
    "test_df.columns"
   ]
  },
  {
   "cell_type": "code",
   "execution_count": 6,
   "id": "77da42d0",
   "metadata": {
    "ExecuteTime": {
     "end_time": "2024-03-02T06:39:35.219300Z",
     "start_time": "2024-03-02T06:39:35.211609Z"
    },
    "scrolled": true
   },
   "outputs": [
    {
     "data": {
      "text/plain": [
       "Index(['total_count'], dtype='object')"
      ]
     },
     "execution_count": 6,
     "metadata": {},
     "output_type": "execute_result"
    }
   ],
   "source": [
    "validate.columns"
   ]
  },
  {
   "cell_type": "code",
   "execution_count": 7,
   "id": "9b6c1282",
   "metadata": {
    "ExecuteTime": {
     "end_time": "2024-03-02T06:39:35.231265Z",
     "start_time": "2024-03-02T06:39:35.221292Z"
    }
   },
   "outputs": [],
   "source": [
    "X = train_df.drop('total_count', axis=1)\n",
    "y = train_df['total_count']\n",
    "\n",
    "# Split the data into training and testing sets\n",
    "X_train, X_test, y_train, y_test = train_test_split(X, y, test_size=0.2, random_state=42)"
   ]
  },
  {
   "cell_type": "code",
   "execution_count": 8,
   "id": "c63a4958",
   "metadata": {
    "ExecuteTime": {
     "end_time": "2024-03-02T06:39:35.289547Z",
     "start_time": "2024-03-02T06:39:35.233260Z"
    }
   },
   "outputs": [],
   "source": [
    "# Create a Decision Tree Regressor\n",
    "regressor = DecisionTreeRegressor()\n",
    "\n",
    "# Train the model\n",
    "regressor.fit(X_train, y_train)\n",
    "\n",
    "# Make predictions on the test set\n",
    "y_pred = regressor.predict(X_test)"
   ]
  },
  {
   "cell_type": "code",
   "execution_count": 9,
   "id": "14f08ab2",
   "metadata": {
    "ExecuteTime": {
     "end_time": "2024-03-02T06:39:35.300282Z",
     "start_time": "2024-03-02T06:39:35.291532Z"
    }
   },
   "outputs": [
    {
     "name": "stdout",
     "output_type": "stream",
     "text": [
      "Mean Absolute Error: 36.9162730785745\n",
      "Mean Squared Error: 3967.4040360669815\n",
      "Root Mean Squared Error: 62.987332346012096\n",
      "r2_score: 0.8756247414820431\n"
     ]
    }
   ],
   "source": [
    "print('Mean Absolute Error:', metrics.mean_absolute_error(y_test,y_pred))\n",
    "print('Mean Squared Error:', metrics.mean_squared_error(y_test,y_pred))\n",
    "print('Root Mean Squared Error:', np.sqrt(metrics.mean_squared_error(y_test,y_pred)))\n",
    "print('r2_score:', metrics.r2_score(y_test,y_pred))"
   ]
  },
  {
   "cell_type": "code",
   "execution_count": 10,
   "id": "07002a92",
   "metadata": {
    "ExecuteTime": {
     "end_time": "2024-03-02T06:39:35.312970Z",
     "start_time": "2024-03-02T06:39:35.301277Z"
    }
   },
   "outputs": [
    {
     "name": "stdout",
     "output_type": "stream",
     "text": [
      "Mean Absolute Error: 35.863929567642955\n",
      "Mean Squared Error: 3698.9445170850768\n",
      "Root Mean Squared Error: 60.818948668035006\n",
      "r2_score: 0.8840508979513882\n"
     ]
    }
   ],
   "source": [
    "validate_test = regressor.predict(test_df)\n",
    "\n",
    "print('Mean Absolute Error:', metrics.mean_absolute_error(validate,validate_test))\n",
    "print('Mean Squared Error:', metrics.mean_squared_error(validate,validate_test))\n",
    "print('Root Mean Squared Error:', np.sqrt(metrics.mean_squared_error(validate,validate_test)))\n",
    "print('r2_score:', metrics.r2_score(validate,validate_test))"
   ]
  }
 ],
 "metadata": {
  "kernelspec": {
   "display_name": "Python 3 (ipykernel)",
   "language": "python",
   "name": "python3"
  },
  "language_info": {
   "codemirror_mode": {
    "name": "ipython",
    "version": 3
   },
   "file_extension": ".py",
   "mimetype": "text/x-python",
   "name": "python",
   "nbconvert_exporter": "python",
   "pygments_lexer": "ipython3",
   "version": "3.11.5"
  },
  "toc": {
   "base_numbering": 1,
   "nav_menu": {},
   "number_sections": true,
   "sideBar": true,
   "skip_h1_title": false,
   "title_cell": "Table of Contents",
   "title_sidebar": "Contents",
   "toc_cell": false,
   "toc_position": {},
   "toc_section_display": true,
   "toc_window_display": false
  }
 },
 "nbformat": 4,
 "nbformat_minor": 5
}
