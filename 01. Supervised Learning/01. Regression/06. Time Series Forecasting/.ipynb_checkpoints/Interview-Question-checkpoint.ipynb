{
 "cells": [
  {
   "cell_type": "markdown",
   "id": "b451c739",
   "metadata": {},
   "source": [
    "    What is Time Series?\n",
    "        A sequence of data points or observations that are recorded or collected at specific time intervals, typically at regular intervals."
   ]
  },
  {
   "cell_type": "markdown",
   "id": "0c036a69",
   "metadata": {},
   "source": [
    "    what are the process or task done in Time Series Analysis?\n",
    "        Trend Analysis: \n",
    "            Identifying long-term trends or patterns in the data.\n",
    "        Seasonal Decomposition: \n",
    "            Separating the data into trend, seasonal, and residual components to better understand underlying patterns.\n",
    "        Forecasting: \n",
    "            Predicting future values or trends based on historical data.\n",
    "        Anomaly Detection: \n",
    "            Identifying unusual or unexpected patterns or outliers in the data.\n",
    "        Correlation Analysis: \n",
    "            Exploring relationships between different time series variables."
   ]
  },
  {
   "cell_type": "markdown",
   "id": "2a2f5d7a",
   "metadata": {},
   "source": [
    "    what is decomposition in Time Series?\n",
    "        A technique used to separate a time series dataset into its individual components.\n",
    "        Components : \n",
    "            Trend (long-term movement)\n",
    "                The underlying growth or decline in the data over time.\n",
    "            Seasonal (repeating patterns)\n",
    "                The recurring patterns or seasonal fluctuations within the time series data.\n",
    "            Residual (random fluctuations | noise)\n",
    "                The random or irregular fluctuations in the time series data that cannot be explained by the trend or seasonality."
   ]
  },
  {
   "cell_type": "markdown",
   "id": "e05bcb8c",
   "metadata": {},
   "source": [
    "    what makes the data as time series data?\n",
    "        Autocorrelation, referred to as serial correlation or lagged correlation."
   ]
  },
  {
   "cell_type": "markdown",
   "id": "91beff1e",
   "metadata": {},
   "source": [
    "    Difference between univariate and multivariate model?\n",
    "        Univariate time series involves a single variable measured over time.\n",
    "        Multivariate time series involves multiple variables measured simultaneously over time."
   ]
  },
  {
   "cell_type": "markdown",
   "id": "aa94abc8",
   "metadata": {},
   "source": [
    "    What is stationarity in time series data?\n",
    "        Stationarity means statistical properties, such as mean and variance, do not change over time.\n",
    "        \n",
    "        Why?\n",
    "            It's important to make accurate prediction."
   ]
  },
  {
   "cell_type": "markdown",
   "id": "d97cae54",
   "metadata": {},
   "source": [
    "    How do you check for stationarity in a time series?\n",
    "        statistical tests like the Augmented Dickey-Fuller (ADF) test or \n",
    "        by visual inspection of time series plots."
   ]
  },
  {
   "cell_type": "markdown",
   "id": "4a7569d9",
   "metadata": {},
   "source": [
    "    what is differencing?\n",
    "        technique used to make a time series data stationary.\n",
    "        \n",
    "        Purpose?\n",
    "            Remove trend and seasonality."
   ]
  },
  {
   "cell_type": "markdown",
   "id": "1deb8519",
   "metadata": {},
   "source": [
    "    what is the concept of autoregressive (AR) models?\n",
    "        A time series model that use Linear Regression to Predict future values based on a linear combination of past observations.\n",
    "        \n",
    "        Denoted as AR(p)"
   ]
  },
  {
   "cell_type": "markdown",
   "id": "3f274ab4",
   "metadata": {},
   "source": [
    "    what is moving average (MA) model?\n",
    "        A time series model that uses a weighted average of past white noise (random) error terms to predict future values.\n",
    "        \n",
    "        Denoted as MA(q)"
   ]
  },
  {
   "cell_type": "markdown",
   "id": "b9a5a34e",
   "metadata": {},
   "source": [
    "    Difference between an ARMA and an ARIMA model?\n",
    "        ARMA (AutoRegressive Moving Average) models\n",
    "        ARIMA (AutoRegressive Integrated Moving Average) models\n",
    "             Combines autoregressive (AR), differencing (I), and moving average (MA) components to model and predict time series data."
   ]
  },
  {
   "cell_type": "markdown",
   "id": "2f2b773e",
   "metadata": {},
   "source": [
    "    What is the purpose of the ACF and PACF?\n",
    "        ACF (Autocorrelation Function) :\n",
    "            measures the correlation between a time series and its lagged values.\n",
    "            helping to find order in MA component.\n",
    "        PACF (Partial Autocorrelation Function) : \n",
    "            measures the direct association between a data point and a lagged values.\n",
    "            helps identify the order of the AR component."
   ]
  },
  {
   "cell_type": "markdown",
   "id": "26a80f6b",
   "metadata": {},
   "source": [
    "    (p, d, q) parameters for ARIMA model?\n",
    "        p is determined by the number of significant lags in the PACF\n",
    "        \n",
    "        q is determined by the number of significant lags in the ACF\n",
    "        \n",
    "        d represents the differencing required to achieve stationarity."
   ]
  },
  {
   "cell_type": "markdown",
   "id": "775bc1b0",
   "metadata": {},
   "source": [
    "    How do you handle missing values in time series data?\n",
    "         Imputing techniques, such as forward filling, backward filling, interpolation, or using predictive models like linear regression."
   ]
  },
  {
   "cell_type": "markdown",
   "id": "d2e7fcb5",
   "metadata": {},
   "source": [
    "    Role of cross-validation in time series forecasting?\n",
    "        Cross-validation in time series forecasting involves splitting the data into training and validation sets while preserving the temporal order. Traditional cross-validation methods that randomly shuffle data points are not suitable for time series data due to the temporal dependencies."
   ]
  },
  {
   "cell_type": "markdown",
   "id": "f6bd17f5",
   "metadata": {},
   "source": [
    "    what is forecasting horizon?\n",
    "         Refers to the number of future time points for which predictions are made.\n",
    "         \n",
    "         It determines how far into the future a model can forecast."
   ]
  },
  {
   "cell_type": "markdown",
   "id": "ca4be607",
   "metadata": {},
   "source": [
    "    What is the Box-Jenkins methodology?\n",
    "        A systematic approach for identifying, fitting, and diagnosing ARIMA models for time series forecasting."
   ]
  },
  {
   "cell_type": "code",
   "execution_count": null,
   "id": "1715b8a4",
   "metadata": {},
   "outputs": [],
   "source": []
  }
 ],
 "metadata": {
  "kernelspec": {
   "display_name": "Python 3 (ipykernel)",
   "language": "python",
   "name": "python3"
  },
  "language_info": {
   "codemirror_mode": {
    "name": "ipython",
    "version": 3
   },
   "file_extension": ".py",
   "mimetype": "text/x-python",
   "name": "python",
   "nbconvert_exporter": "python",
   "pygments_lexer": "ipython3",
   "version": "3.10.9"
  }
 },
 "nbformat": 4,
 "nbformat_minor": 5
}
