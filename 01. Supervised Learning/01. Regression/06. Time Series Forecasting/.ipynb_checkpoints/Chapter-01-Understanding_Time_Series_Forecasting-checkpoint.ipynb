{
 "cells": [
  {
   "cell_type": "markdown",
   "id": "1d3b5f00",
   "metadata": {},
   "source": [
    "    Time series\n",
    "        A time series is a set of data points ordered in time.\n",
    "        \n",
    "    Time series decomposition\n",
    "        Time series decomposition is a process by which we separate a time series into its components: trend, seasonality, and residuals.\n",
    "        \n",
    "        The trend represents the slow-moving changes in a time series. It is responsible for making the series gradually increase or decrease over time.\n",
    "        \n",
    "        The seasonality component represents the seasonal pattern in the series. The cycles occur repeatedly over a fixed period of time.\n",
    "        \n",
    "        The residuals represent the behavior that cannot be explained by the trend and seasonality components. They correspond to random errors, also termed white noise.\n",
    "        \n",
    "    Forecasting is predicting the future using historical data and knowledge of future events that might affect our forecasts."
   ]
  },
  {
   "cell_type": "markdown",
   "id": "6749f12d",
   "metadata": {},
   "source": [
    "    How much data do you actually need for Time Series Model?\n",
    "        \n",
    "        It depends on the frequency of the forecasts.\n",
    "        \n",
    "        Like daily forecast, you would need a year's data.\n",
    "        \n",
    "        For hourly forecast, a few months of data is enough.\n",
    "        \n",
    "        For monthly or yearly forecast, a huge data like historical data is needed."
   ]
  },
  {
   "cell_type": "markdown",
   "id": "454a4355",
   "metadata": {},
   "source": [
    "    Never change the order of a time series when modeling. Shuffling the data is not allowed."
   ]
  },
  {
   "cell_type": "code",
   "execution_count": null,
   "id": "a6cb5f85",
   "metadata": {},
   "outputs": [],
   "source": []
  }
 ],
 "metadata": {
  "kernelspec": {
   "display_name": "Python 3 (ipykernel)",
   "language": "python",
   "name": "python3"
  },
  "language_info": {
   "codemirror_mode": {
    "name": "ipython",
    "version": 3
   },
   "file_extension": ".py",
   "mimetype": "text/x-python",
   "name": "python",
   "nbconvert_exporter": "python",
   "pygments_lexer": "ipython3",
   "version": "3.10.9"
  }
 },
 "nbformat": 4,
 "nbformat_minor": 5
}
