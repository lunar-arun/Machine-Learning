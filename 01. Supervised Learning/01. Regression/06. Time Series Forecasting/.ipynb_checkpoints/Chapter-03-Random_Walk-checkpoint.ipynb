{
 "cells": [
  {
   "cell_type": "markdown",
   "id": "71b634d9",
   "metadata": {},
   "source": [
    "    A random walk is a process in which there is an equal chance of going up or down by a random number.\n",
    "    \n",
    "    General Equation : yt = C + yt–1 + ϵt\n",
    "        yt - present value\n",
    "        yt –1 - previous timestep\n",
    "        ϵt - white noise (random number)\n",
    "        C - constant (nonzero)\n",
    "        \n",
    "    yt is the value of the random walk process at time t, and ϵt is a random number at time t.\n",
    "    \n",
    "    If C = 0, then\n",
    "        yt = yt –1 + ϵt\n",
    "            At t = 0, y0 is 0 (white noise)\n",
    "    the value at t = 1,\n",
    "        y1 = y0 + ϵ1 \n",
    "        y1 = 0 + ϵ1 => y1 = ϵ1\n",
    "    the value at t = 2,\n",
    "        y2 = y1 + ϵ2 \n",
    "        y2 = ϵ1 + ϵ2"
   ]
  },
  {
   "cell_type": "markdown",
   "id": "bc2a1b14",
   "metadata": {},
   "source": [
    "    A random walk is not-stationary.\n",
    "        Meaning : Its mean and variance is not constant over time.\n",
    "        \n",
    "    To identify a random walk : \n",
    "        A series whose first difference is stationary and uncorrelated.\n",
    "        \n",
    "    A stationary process is one whose statistical properties do not change over time.\n",
    "    \n",
    "    For a stationary series, its mean, variance, and autocorrelation do not change over time.\n",
    "    \n",
    "    To achieve stationary series, we use transformation:\n",
    "        A transformation is a mathematical operation applied to a time series in order to make it stationary.\n",
    "    Differencing is a transformation technique that calculates the change from one timestep to another. This transformation is useful for stabilizing the mean.\n",
    "    sApplying a log function to the series can stabilize its variance.\n",
    "    \n",
    "    Here is the first order differencing given below."
   ]
  },
  {
   "attachments": {
    "image.png": {
     "image/png": "[encoded data removed]"
    }
   },
   "cell_type": "markdown",
   "id": "5885b312",
   "metadata": {},
   "source": [
    "![image.png](attachment:image.png)"
   ]
  },
  {
   "cell_type": "markdown",
   "id": "e8f8336f",
   "metadata": {},
   "source": [
    "    Mostly we attain stationary series by applying first-order differencing.\n",
    "    \n",
    "    A time series that has been transformed, we must untransform it to return the results of the model to the original units of measurement. \n",
    "    The formal term for undoing a transformation is inverse transform."
   ]
  },
  {
   "cell_type": "markdown",
   "id": "9c8f5030",
   "metadata": {},
   "source": [
    "    Testing for stationarity\n",
    "        Augmented Dickey-Fuller (ADF) test\n",
    "            Determine if a time series is stationary by testing for the presence of a unit root. \n",
    "            If a unit root is present, the time series is not stationary.\n",
    "            \n",
    "            Hypothesis : \n",
    "                        Ho : Series is not stationary\n",
    "                        Ha : Series is Stationary\n",
    "                We need \"Reject Ho\" for series to be stationary."
   ]
  },
  {
   "cell_type": "markdown",
   "id": "7d9b8c93",
   "metadata": {},
   "source": [
    "    Autocorrelation function (ACF)\n",
    "        It's measures the linear relationship between lagged values of a time series.\n",
    "        or measures the correlation of the time series with itself."
   ]
  }
 ],
 "metadata": {
  "kernelspec": {
   "display_name": "Python 3 (ipykernel)",
   "language": "python",
   "name": "python3"
  },
  "language_info": {
   "codemirror_mode": {
    "name": "ipython",
    "version": 3
   },
   "file_extension": ".py",
   "mimetype": "text/x-python",
   "name": "python",
   "nbconvert_exporter": "python",
   "pygments_lexer": "ipython3",
   "version": "3.10.9"
  }
 },
 "nbformat": 4,
 "nbformat_minor": 5
}
