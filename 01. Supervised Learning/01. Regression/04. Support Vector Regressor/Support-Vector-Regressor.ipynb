{
 "cells": [
  {
   "cell_type": "code",
   "execution_count": 1,
   "id": "38ca2964",
   "metadata": {
    "ExecuteTime": {
     "end_time": "2024-03-02T06:45:26.409752Z",
     "start_time": "2024-03-02T06:45:24.655061Z"
    }
   },
   "outputs": [],
   "source": [
    "# data manuipulation\n",
    "import numpy as np\n",
    "import pandas as pd\n",
    "\n",
    "# modeling utilities\n",
    "from sklearn import metrics\n",
    "from sklearn import preprocessing\n",
    "from sklearn.svm import SVR\n",
    "from sklearn.model_selection import GridSearchCV, cross_val_score, cross_val_predict, train_test_split\n",
    "\n",
    "\n",
    "# plotting libraries\n",
    "import matplotlib.pyplot as plt\n",
    "import seaborn as sns"
   ]
  },
  {
   "cell_type": "code",
   "execution_count": 2,
   "id": "6ee16162",
   "metadata": {
    "ExecuteTime": {
     "end_time": "2024-03-02T06:45:27.840358Z",
     "start_time": "2024-03-02T06:45:27.837496Z"
    }
   },
   "outputs": [],
   "source": [
    "import warnings\n",
    "warnings.filterwarnings('ignore')"
   ]
  },
  {
   "cell_type": "code",
   "execution_count": 3,
   "id": "cd957bcb",
   "metadata": {
    "ExecuteTime": {
     "end_time": "2024-03-02T06:45:31.934802Z",
     "start_time": "2024-03-02T06:45:31.471768Z"
    }
   },
   "outputs": [],
   "source": [
    "train_df = pd.read_csv('train_df.csv')\n",
    "test_df = pd.read_csv('test_df.csv')\n",
    "validate = pd.read_csv('validate.csv')"
   ]
  },
  {
   "cell_type": "code",
   "execution_count": 4,
   "id": "3b62b8ec",
   "metadata": {
    "ExecuteTime": {
     "end_time": "2024-03-02T06:45:46.718426Z",
     "start_time": "2024-03-02T06:45:46.710464Z"
    }
   },
   "outputs": [
    {
     "data": {
      "text/plain": [
       "Index(['temp', 'humidity', 'windspeed', 'hour', 'weekday', 'month', 'year',\n",
       "       'season_1', 'season_2', 'season_3', 'season_4', 'is_holiday_0',\n",
       "       'is_holiday_1', 'weather_condition_1', 'weather_condition_2',\n",
       "       'weather_condition_3', 'weather_condition_4', 'is_workingday_0',\n",
       "       'is_workingday_1', 'total_count'],\n",
       "      dtype='object')"
      ]
     },
     "execution_count": 4,
     "metadata": {},
     "output_type": "execute_result"
    }
   ],
   "source": [
    "train_df.columns"
   ]
  },
  {
   "cell_type": "code",
   "execution_count": 5,
   "id": "fa559eff",
   "metadata": {
    "ExecuteTime": {
     "end_time": "2024-03-02T06:45:48.006348Z",
     "start_time": "2024-03-02T06:45:47.999007Z"
    }
   },
   "outputs": [
    {
     "data": {
      "text/plain": [
       "Index(['temp', 'humidity', 'windspeed', 'hour', 'weekday', 'month', 'year',\n",
       "       'season_1', 'season_2', 'season_3', 'season_4', 'is_holiday_0',\n",
       "       'is_holiday_1', 'weather_condition_1', 'weather_condition_2',\n",
       "       'weather_condition_3', 'weather_condition_4', 'is_workingday_0',\n",
       "       'is_workingday_1'],\n",
       "      dtype='object')"
      ]
     },
     "execution_count": 5,
     "metadata": {},
     "output_type": "execute_result"
    }
   ],
   "source": [
    "test_df.columns"
   ]
  },
  {
   "cell_type": "code",
   "execution_count": 6,
   "id": "cb1ce121",
   "metadata": {
    "ExecuteTime": {
     "end_time": "2024-03-02T06:45:52.716262Z",
     "start_time": "2024-03-02T06:45:52.709853Z"
    }
   },
   "outputs": [
    {
     "data": {
      "text/plain": [
       "Index(['total_count'], dtype='object')"
      ]
     },
     "execution_count": 6,
     "metadata": {},
     "output_type": "execute_result"
    }
   ],
   "source": [
    "validate.columns"
   ]
  },
  {
   "cell_type": "code",
   "execution_count": 7,
   "id": "7bb2ba62",
   "metadata": {
    "ExecuteTime": {
     "end_time": "2024-03-02T06:45:56.424567Z",
     "start_time": "2024-03-02T06:45:56.416677Z"
    }
   },
   "outputs": [],
   "source": [
    "X = train_df.drop('total_count', axis=1)\n",
    "y = train_df['total_count']\n",
    "\n",
    "# Split the data into training and testing sets\n",
    "X_train, X_test, y_train, y_test = train_test_split(X, y, test_size=0.2, random_state=42)"
   ]
  },
  {
   "cell_type": "code",
   "execution_count": 10,
   "id": "41fe3dc0",
   "metadata": {
    "ExecuteTime": {
     "end_time": "2024-03-02T06:46:44.105948Z",
     "start_time": "2024-03-02T06:46:39.622896Z"
    }
   },
   "outputs": [],
   "source": [
    "# Create a Support Vector Regressor\n",
    "svr_regressor = SVR(kernel='linear')  \n",
    "\n",
    "# Train the model\n",
    "svr_regressor.fit(X_train, y_train)\n",
    "\n",
    "# Make predictions on the test set\n",
    "y_pred = svr_regressor.predict(X_test)"
   ]
  },
  {
   "cell_type": "code",
   "execution_count": 11,
   "id": "a9662371",
   "metadata": {
    "ExecuteTime": {
     "end_time": "2024-03-02T06:46:44.119164Z",
     "start_time": "2024-03-02T06:46:44.108349Z"
    }
   },
   "outputs": [
    {
     "name": "stdout",
     "output_type": "stream",
     "text": [
      "Mean Absolute Error: 100.03804149419221\n",
      "Mean Squared Error: 20772.070619157093\n",
      "Root Mean Squared Error: 144.12519078619496\n",
      "r2_score: 0.34881054973869974\n"
     ]
    }
   ],
   "source": [
    "print('Mean Absolute Error:', metrics.mean_absolute_error(y_test,y_pred))\n",
    "print('Mean Squared Error:', metrics.mean_squared_error(y_test,y_pred))\n",
    "print('Root Mean Squared Error:', np.sqrt(metrics.mean_squared_error(y_test,y_pred)))\n",
    "print('r2_score:', metrics.r2_score(y_test,y_pred))"
   ]
  },
  {
   "cell_type": "code",
   "execution_count": 13,
   "id": "8ab7ba82",
   "metadata": {
    "ExecuteTime": {
     "end_time": "2024-03-02T06:46:54.723817Z",
     "start_time": "2024-03-02T06:46:53.502761Z"
    }
   },
   "outputs": [
    {
     "name": "stdout",
     "output_type": "stream",
     "text": [
      "Mean Absolute Error: 99.82540952737729\n",
      "Mean Squared Error: 21088.284096716667\n",
      "Root Mean Squared Error: 145.2180570614986\n",
      "r2_score: 0.3389553172624469\n"
     ]
    }
   ],
   "source": [
    "validate_test = svr_regressor.predict(test_df)\n",
    "\n",
    "print('Mean Absolute Error:', metrics.mean_absolute_error(validate,validate_test))\n",
    "print('Mean Squared Error:', metrics.mean_squared_error(validate,validate_test))\n",
    "print('Root Mean Squared Error:', np.sqrt(metrics.mean_squared_error(validate,validate_test)))\n",
    "print('r2_score:', metrics.r2_score(validate,validate_test))"
   ]
  }
 ],
 "metadata": {
  "kernelspec": {
   "display_name": "Python 3 (ipykernel)",
   "language": "python",
   "name": "python3"
  },
  "language_info": {
   "codemirror_mode": {
    "name": "ipython",
    "version": 3
   },
   "file_extension": ".py",
   "mimetype": "text/x-python",
   "name": "python",
   "nbconvert_exporter": "python",
   "pygments_lexer": "ipython3",
   "version": "3.11.5"
  },
  "toc": {
   "base_numbering": 1,
   "nav_menu": {},
   "number_sections": true,
   "sideBar": true,
   "skip_h1_title": false,
   "title_cell": "Table of Contents",
   "title_sidebar": "Contents",
   "toc_cell": false,
   "toc_position": {},
   "toc_section_display": true,
   "toc_window_display": false
  }
 },
 "nbformat": 4,
 "nbformat_minor": 5
}
