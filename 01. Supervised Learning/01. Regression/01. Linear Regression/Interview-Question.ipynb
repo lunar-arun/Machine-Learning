{
 "cells": [
  {
   "cell_type": "markdown",
   "id": "965692e2",
   "metadata": {},
   "source": [
    "    What is Linear Regression?\n",
    "        It's a 'Supervised Regression ML Algorithm' which predicts the continous value by understanding the linear relationship between dependent and independent variable."
   ]
  },
  {
   "cell_type": "markdown",
   "id": "a8955cc1",
   "metadata": {},
   "source": [
    "    What are the types?\n",
    "        Univariate Linear Regression\n",
    "        Multivariate Linear Regression"
   ]
  },
  {
   "cell_type": "markdown",
   "id": "d757c5d5",
   "metadata": {},
   "source": [
    "     Parameters and how to estimate?\n",
    "         General Linear Regression equation : y = α + Σ (β x), here  α : intercept | β : Coefficent of Regression\n",
    "         \n",
    "         α, β is estimate OLS : Ordinary Least Square"
   ]
  },
  {
   "cell_type": "markdown",
   "id": "4cad844a",
   "metadata": {},
   "source": [
    "    what is OLS?\n",
    "        A method for estimating the parameters of a linear regression model.\n",
    "        \n",
    "        Aim : minimize the sum of the squared residuals."
   ]
  },
  {
   "cell_type": "markdown",
   "id": "d96918a4",
   "metadata": {},
   "source": [
    "    Assumption of OLS?\n",
    "        Errors are normally distributed with zero mean and constant variance\n",
    "        \n",
    "        There is no multicollinearity (high correlation) among the independent variables."
   ]
  },
  {
   "cell_type": "markdown",
   "id": "10bdf3c3",
   "metadata": {},
   "source": [
    "     what is residual error?\n",
    "         It is the difference between predicted and actual value."
   ]
  },
  {
   "cell_type": "markdown",
   "id": "f85f5700",
   "metadata": {},
   "source": [
    "    what are the assumption of Linear Regression?\n",
    "        Linearity\n",
    "            Independent and Dependent variables must follow a linear relationship.\n",
    "        Normality\n",
    "            Residual should be normally distributed by mean  μ and variance σ2.\n",
    "        No Multicollinearity\n",
    "            Multicollinearity means there is a correlation between the independent variables.\n",
    "        Homoscedasticity\n",
    "            Variance of error | residual should be statistically equal to zero.\n",
    "        No AutoCorrelation\n",
    "            No correlation on observation of Dependent Variable."
   ]
  },
  {
   "cell_type": "markdown",
   "id": "2ba0a7b7",
   "metadata": {},
   "source": [
    "    what is VIF?\n",
    "        Variance Inflation Factor : tells us the amount of multicollinearity between multiple independent variables in a multiple regression model.\n",
    "        \n",
    "        1 < VIF < 5 Moderate correlation\n",
    "        VIF > 5  High correlation"
   ]
  },
  {
   "cell_type": "markdown",
   "id": "5cb39247",
   "metadata": {},
   "source": [
    "    what is coefficient of alienation?\n",
    "        It is a measure of the lack of relationship between the two variables. : (1- R²)\n",
    "        \n",
    "        In Linear Regression: \n",
    "            It's a measure of the variability in the outcome Y that remains unexplained by the linear regression model."
   ]
  },
  {
   "cell_type": "markdown",
   "id": "d8e6d3ef",
   "metadata": {},
   "source": [
    "    what is difference between r squared and adj r squared?\n",
    "        Both are used to evaluate the goodness of fit for regression model.\n",
    "        \n",
    "        R-squared (R²): can be interpreted as the percentage of the variation in the dependent variable that can be predicted or accounted for by the independent variables.\n",
    "        \n",
    "        Adjusted R-squared (adjusted R²): extension of R-squared and takes into account the number of independent variables in the model.\n",
    "        \n",
    "        Adjusted R² = 1 - [(1 - R²) * (n - 1) / (n - p - 1)]\n",
    "        \n",
    "     Adjusted R² will always be less than or equal to R²,\n",
    "     \n",
    "     \n",
    "      R-squared measures the overall goodness of fit, while \n",
    "      adjusted R-squared accounts for the number of predictors and \n",
    "      adjusts the goodness of fit accordingly. "
   ]
  },
  {
   "cell_type": "markdown",
   "id": "2b44b894",
   "metadata": {},
   "source": []
  },
  {
   "cell_type": "markdown",
   "id": "f25fa9ac",
   "metadata": {},
   "source": []
  },
  {
   "cell_type": "markdown",
   "id": "b13621f8",
   "metadata": {},
   "source": []
  },
  {
   "cell_type": "markdown",
   "id": "c1527d6a",
   "metadata": {},
   "source": []
  },
  {
   "cell_type": "markdown",
   "id": "6d4b04cf",
   "metadata": {},
   "source": []
  },
  {
   "cell_type": "markdown",
   "id": "6eab0720",
   "metadata": {},
   "source": []
  }
 ],
 "metadata": {
  "kernelspec": {
   "display_name": "Python 3 (ipykernel)",
   "language": "python",
   "name": "python3"
  },
  "language_info": {
   "codemirror_mode": {
    "name": "ipython",
    "version": 3
   },
   "file_extension": ".py",
   "mimetype": "text/x-python",
   "name": "python",
   "nbconvert_exporter": "python",
   "pygments_lexer": "ipython3",
   "version": "3.10.9"
  }
 },
 "nbformat": 4,
 "nbformat_minor": 5
}
