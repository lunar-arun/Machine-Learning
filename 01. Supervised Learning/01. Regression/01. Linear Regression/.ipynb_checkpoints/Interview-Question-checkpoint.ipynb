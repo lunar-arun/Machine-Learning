{
 "cells": [
  {
   "cell_type": "markdown",
   "id": "965692e2",
   "metadata": {},
   "source": [
    "    What is Linear Regression?\n",
    "        It's a 'Supervised ML Algorithm' which predicts the continous value by understanding the linear relationship between dependent and independent variable."
   ]
  },
  {
   "cell_type": "markdown",
   "id": "a8955cc1",
   "metadata": {},
   "source": [
    "    What are the types?\n",
    "        Univariate Linear Regression\n",
    "        Multivariate Linear Regression"
   ]
  },
  {
   "cell_type": "markdown",
   "id": "d757c5d5",
   "metadata": {},
   "source": [
    "     Parameters and how to estimate?\n",
    "         General Linear Regression equation : y = α + Σ (β x), here  α : intercept | β : Coefficent of Regression\n",
    "         \n",
    "         α, β is estimate OLS : Ordinary Least Square"
   ]
  },
  {
   "cell_type": "markdown",
   "id": "4cad844a",
   "metadata": {},
   "source": [
    "    what is OLS?"
   ]
  },
  {
   "cell_type": "markdown",
   "id": "10bdf3c3",
   "metadata": {},
   "source": [
    "     what is residual error?\n",
    "         It is the difference between predicted and actual value."
   ]
  },
  {
   "cell_type": "markdown",
   "id": "f85f5700",
   "metadata": {},
   "source": [
    "    what are the assumption of Linear Regression?\n",
    "        Linearity\n",
    "            Independent and Dependent variables must follow a linear relationship.\n",
    "        Normality\n",
    "            Residual should be normally distributed by mean  μ and variance σ2.\n",
    "        No Multicollinearity\n",
    "            Multicollinearity means there is a correlation between the independent variables.\n",
    "        Homoscedasticity\n",
    "            Variance of error | residual should be statistically equal to zero.\n",
    "        No AutoCorrelation\n",
    "            No correlation on observation of Dependent Variable."
   ]
  },
  {
   "cell_type": "markdown",
   "id": "2ba0a7b7",
   "metadata": {},
   "source": [
    "    what is VIF?\n",
    "        Variance Inflation Factor : tells us the amount of multicollinearity between multiple independent variables in a multiple regression model.\n",
    "        \n",
    "        1 < VIF < 5 Moderate correlation\n",
    "        VIF > 5  High correlation"
   ]
  },
  {
   "cell_type": "markdown",
   "id": "5cb39247",
   "metadata": {},
   "source": [
    "    what is coefficient of alienation?\n",
    "        It is a measure of the lack of relationship between the two variables. : (1- r^2)"
   ]
  },
  {
   "cell_type": "markdown",
   "id": "1ea88299",
   "metadata": {},
   "source": []
  },
  {
   "cell_type": "markdown",
   "id": "e5d18b60",
   "metadata": {},
   "source": []
  },
  {
   "cell_type": "markdown",
   "id": "888fd2fb",
   "metadata": {},
   "source": []
  },
  {
   "cell_type": "markdown",
   "id": "070bcbfa",
   "metadata": {},
   "source": []
  },
  {
   "cell_type": "markdown",
   "id": "31ed9885",
   "metadata": {},
   "source": []
  },
  {
   "cell_type": "markdown",
   "id": "7acd07dc",
   "metadata": {},
   "source": []
  },
  {
   "cell_type": "markdown",
   "id": "ea574f16",
   "metadata": {},
   "source": []
  },
  {
   "cell_type": "markdown",
   "id": "93b41a22",
   "metadata": {},
   "source": []
  },
  {
   "cell_type": "markdown",
   "id": "289ebcf3",
   "metadata": {},
   "source": []
  },
  {
   "cell_type": "markdown",
   "id": "7e4f2666",
   "metadata": {},
   "source": []
  },
  {
   "cell_type": "markdown",
   "id": "e7c9a2eb",
   "metadata": {},
   "source": []
  },
  {
   "cell_type": "markdown",
   "id": "4b11f3c0",
   "metadata": {},
   "source": []
  },
  {
   "cell_type": "markdown",
   "id": "a0206877",
   "metadata": {},
   "source": []
  },
  {
   "cell_type": "markdown",
   "id": "3b30f395",
   "metadata": {},
   "source": []
  },
  {
   "cell_type": "markdown",
   "id": "7a95107e",
   "metadata": {},
   "source": []
  },
  {
   "cell_type": "markdown",
   "id": "c264d7e2",
   "metadata": {},
   "source": []
  },
  {
   "cell_type": "markdown",
   "id": "b42a5006",
   "metadata": {},
   "source": []
  },
  {
   "cell_type": "markdown",
   "id": "b89ad1f3",
   "metadata": {},
   "source": []
  },
  {
   "cell_type": "markdown",
   "id": "1fd72d45",
   "metadata": {},
   "source": []
  },
  {
   "cell_type": "markdown",
   "id": "e2a124ce",
   "metadata": {},
   "source": []
  },
  {
   "cell_type": "markdown",
   "id": "48193d27",
   "metadata": {},
   "source": []
  },
  {
   "cell_type": "markdown",
   "id": "dff0b397",
   "metadata": {},
   "source": []
  },
  {
   "cell_type": "markdown",
   "id": "1e74812f",
   "metadata": {},
   "source": []
  },
  {
   "cell_type": "markdown",
   "id": "40b032fd",
   "metadata": {},
   "source": []
  },
  {
   "cell_type": "markdown",
   "id": "f30870c7",
   "metadata": {},
   "source": []
  },
  {
   "cell_type": "markdown",
   "id": "30d67c98",
   "metadata": {},
   "source": []
  },
  {
   "cell_type": "markdown",
   "id": "cf96cebf",
   "metadata": {},
   "source": []
  },
  {
   "cell_type": "markdown",
   "id": "15d18b4b",
   "metadata": {},
   "source": []
  },
  {
   "cell_type": "markdown",
   "id": "adbcf077",
   "metadata": {},
   "source": []
  },
  {
   "cell_type": "markdown",
   "id": "395b815d",
   "metadata": {},
   "source": []
  },
  {
   "cell_type": "markdown",
   "id": "fc3c9ac1",
   "metadata": {},
   "source": []
  },
  {
   "cell_type": "markdown",
   "id": "073f13a2",
   "metadata": {},
   "source": []
  },
  {
   "cell_type": "markdown",
   "id": "44023ec9",
   "metadata": {},
   "source": []
  },
  {
   "cell_type": "markdown",
   "id": "c7da600b",
   "metadata": {},
   "source": []
  },
  {
   "cell_type": "markdown",
   "id": "6acaedd4",
   "metadata": {},
   "source": []
  },
  {
   "cell_type": "markdown",
   "id": "cc7e4e6a",
   "metadata": {},
   "source": []
  },
  {
   "cell_type": "markdown",
   "id": "52d20f4c",
   "metadata": {},
   "source": []
  },
  {
   "cell_type": "markdown",
   "id": "02b037e2",
   "metadata": {},
   "source": []
  },
  {
   "cell_type": "markdown",
   "id": "6ad9e80b",
   "metadata": {},
   "source": []
  },
  {
   "cell_type": "markdown",
   "id": "02221179",
   "metadata": {},
   "source": []
  },
  {
   "cell_type": "markdown",
   "id": "a86d3cbb",
   "metadata": {},
   "source": []
  },
  {
   "cell_type": "markdown",
   "id": "a6c63192",
   "metadata": {},
   "source": []
  },
  {
   "cell_type": "markdown",
   "id": "982b7c6f",
   "metadata": {},
   "source": []
  }
 ],
 "metadata": {
  "kernelspec": {
   "display_name": "Python 3 (ipykernel)",
   "language": "python",
   "name": "python3"
  },
  "language_info": {
   "codemirror_mode": {
    "name": "ipython",
    "version": 3
   },
   "file_extension": ".py",
   "mimetype": "text/x-python",
   "name": "python",
   "nbconvert_exporter": "python",
   "pygments_lexer": "ipython3",
   "version": "3.10.9"
  }
 },
 "nbformat": 4,
 "nbformat_minor": 5
}
