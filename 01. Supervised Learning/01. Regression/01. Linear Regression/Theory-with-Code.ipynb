{
 "cells": [
  {
   "cell_type": "code",
   "execution_count": 1,
   "id": "7b5dafe3",
   "metadata": {},
   "outputs": [],
   "source": [
    "# Data Handling\n",
    "import pandas as pd\n",
    "import numpy as np\n",
    "\n",
    "# Visulaization\n",
    "import matplotlib.pyplot as plt\n",
    "import seaborn as sns\n",
    "\n",
    "import warnings\n",
    "warnings.filterwarnings('ignore')"
   ]
  },
  {
   "cell_type": "code",
   "execution_count": 2,
   "id": "a7c82d0a",
   "metadata": {},
   "outputs": [
    {
     "data": {
      "text/html": [
       "<div>\n",
       "<style scoped>\n",
       "    .dataframe tbody tr th:only-of-type {\n",
       "        vertical-align: middle;\n",
       "    }\n",
       "\n",
       "    .dataframe tbody tr th {\n",
       "        vertical-align: top;\n",
       "    }\n",
       "\n",
       "    .dataframe thead th {\n",
       "        text-align: right;\n",
       "    }\n",
       "</style>\n",
       "<table border=\"1\" class=\"dataframe\">\n",
       "  <thead>\n",
       "    <tr style=\"text-align: right;\">\n",
       "      <th></th>\n",
       "      <th>feature1</th>\n",
       "      <th>feature2</th>\n",
       "      <th>feature3</th>\n",
       "      <th>target</th>\n",
       "    </tr>\n",
       "  </thead>\n",
       "  <tbody>\n",
       "    <tr>\n",
       "      <th>0</th>\n",
       "      <td>-0.570563</td>\n",
       "      <td>1.420342</td>\n",
       "      <td>0.495580</td>\n",
       "      <td>-9.763182</td>\n",
       "    </tr>\n",
       "    <tr>\n",
       "      <th>1</th>\n",
       "      <td>-0.990563</td>\n",
       "      <td>0.556965</td>\n",
       "      <td>1.045064</td>\n",
       "      <td>-24.029355</td>\n",
       "    </tr>\n",
       "    <tr>\n",
       "      <th>2</th>\n",
       "      <td>-0.674728</td>\n",
       "      <td>0.150617</td>\n",
       "      <td>1.774645</td>\n",
       "      <td>45.616421</td>\n",
       "    </tr>\n",
       "    <tr>\n",
       "      <th>3</th>\n",
       "      <td>0.388250</td>\n",
       "      <td>-0.387127</td>\n",
       "      <td>-0.110229</td>\n",
       "      <td>34.135737</td>\n",
       "    </tr>\n",
       "    <tr>\n",
       "      <th>4</th>\n",
       "      <td>1.167882</td>\n",
       "      <td>-0.024104</td>\n",
       "      <td>0.145063</td>\n",
       "      <td>86.663647</td>\n",
       "    </tr>\n",
       "    <tr>\n",
       "      <th>...</th>\n",
       "      <td>...</td>\n",
       "      <td>...</td>\n",
       "      <td>...</td>\n",
       "      <td>...</td>\n",
       "    </tr>\n",
       "    <tr>\n",
       "      <th>195</th>\n",
       "      <td>0.255081</td>\n",
       "      <td>-0.231497</td>\n",
       "      <td>-0.239632</td>\n",
       "      <td>38.067836</td>\n",
       "    </tr>\n",
       "    <tr>\n",
       "      <th>196</th>\n",
       "      <td>0.276068</td>\n",
       "      <td>-0.648411</td>\n",
       "      <td>-0.077441</td>\n",
       "      <td>12.812755</td>\n",
       "    </tr>\n",
       "    <tr>\n",
       "      <th>197</th>\n",
       "      <td>0.122250</td>\n",
       "      <td>-1.157383</td>\n",
       "      <td>0.765721</td>\n",
       "      <td>70.454115</td>\n",
       "    </tr>\n",
       "    <tr>\n",
       "      <th>198</th>\n",
       "      <td>-0.914822</td>\n",
       "      <td>-0.897140</td>\n",
       "      <td>-0.784205</td>\n",
       "      <td>-93.235783</td>\n",
       "    </tr>\n",
       "    <tr>\n",
       "      <th>199</th>\n",
       "      <td>0.090717</td>\n",
       "      <td>-2.217418</td>\n",
       "      <td>-0.892406</td>\n",
       "      <td>-42.772129</td>\n",
       "    </tr>\n",
       "  </tbody>\n",
       "</table>\n",
       "<p>200 rows × 4 columns</p>\n",
       "</div>"
      ],
      "text/plain": [
       "     feature1  feature2  feature3     target\n",
       "0   -0.570563  1.420342  0.495580  -9.763182\n",
       "1   -0.990563  0.556965  1.045064 -24.029355\n",
       "2   -0.674728  0.150617  1.774645  45.616421\n",
       "3    0.388250 -0.387127 -0.110229  34.135737\n",
       "4    1.167882 -0.024104  0.145063  86.663647\n",
       "..        ...       ...       ...        ...\n",
       "195  0.255081 -0.231497 -0.239632  38.067836\n",
       "196  0.276068 -0.648411 -0.077441  12.812755\n",
       "197  0.122250 -1.157383  0.765721  70.454115\n",
       "198 -0.914822 -0.897140 -0.784205 -93.235783\n",
       "199  0.090717 -2.217418 -0.892406 -42.772129\n",
       "\n",
       "[200 rows x 4 columns]"
      ]
     },
     "execution_count": 2,
     "metadata": {},
     "output_type": "execute_result"
    }
   ],
   "source": [
    "df = pd.read_csv('datasets/data.csv')\n",
    "df"
   ]
  },
  {
   "cell_type": "markdown",
   "id": "aaf8ed76",
   "metadata": {},
   "source": [
    "# Assumption of Linear Regression"
   ]
  },
  {
   "cell_type": "markdown",
   "id": "d567dd9a",
   "metadata": {},
   "source": [
    "###  Linearity\n",
    "\n",
    "    How Independent and Dependent variable is linearly associated with each other.\n",
    "\n",
    "    Measure:\n",
    "    \n",
    "        Correlation : Pearson'r\n",
    "        Covariance\n",
    "        ScatterPlot\n",
    "        RegPlot"
   ]
  },
  {
   "cell_type": "code",
   "execution_count": 3,
   "id": "5ca704c2",
   "metadata": {},
   "outputs": [
    {
     "name": "stdout",
     "output_type": "stream",
     "text": [
      "    Feature  Correlation       P-Value Significance\n",
      "0  feature1     0.818926  1.225447e-49       Accept\n",
      "1  feature2     0.031267  6.602819e-01       Reject\n",
      "2  feature3     0.578142  3.124074e-19       Accept\n"
     ]
    }
   ],
   "source": [
    "from scipy.stats import pearsonr\n",
    "\n",
    "correlation_df = pd.DataFrame(columns = ['Feature', 'Correlation', 'P-Value', 'Significance'])\n",
    "\n",
    "X = df.drop('target', axis = 1)\n",
    "y = df['target']\n",
    "\n",
    "for feature in X.columns:\n",
    "    # Calculate the Pearson correlation coefficient and its p-value\n",
    "    correlation, p_value = pearsonr(X[feature], df['target'])\n",
    "\n",
    "    # Determine whether to accept or reject the linearity assumption based on correlation and p-value\n",
    "    if p_value < 0.05:#abs(correlation) >= 0.5 and p_value < 0.05\n",
    "        acceptance_status = 'Accept'\n",
    "    else:\n",
    "        acceptance_status = 'Reject'\n",
    "\n",
    "    # Append the results to the correlation DataFrame\n",
    "    correlation_df = correlation_df.append({'Feature': feature, 'Correlation': correlation, 'P-Value': p_value, 'Significance': acceptance_status}, ignore_index=True)\n",
    "\n",
    "# Display the correlation DataFrame\n",
    "print(correlation_df)"
   ]
  },
  {
   "cell_type": "markdown",
   "id": "2905ec92",
   "metadata": {},
   "source": [
    "### Normality\n",
    "    Response variable should be N.D with mean µ and variance σ2\n",
    "\n",
    "    Residual N.D with mean µ = 0 and variance σ2\n",
    "\n",
    "        1. displot\n",
    "        2. kdeplot\n",
    "        3. Andreson darling test\n",
    "        4. Shapiro-Wilk Test"
   ]
  },
  {
   "cell_type": "code",
   "execution_count": 4,
   "id": "9883444f",
   "metadata": {},
   "outputs": [
    {
     "data": {
      "text/plain": [
       "<Figure size 600x500 with 0 Axes>"
      ]
     },
     "metadata": {},
     "output_type": "display_data"
    },
    {
     "data": {
      "image/png": "[encoded data removed]",
      "text/plain": [
       "<Figure size 500x500 with 1 Axes>"
      ]
     },
     "metadata": {},
     "output_type": "display_data"
    }
   ],
   "source": [
    "plt.figure(figsize = (6,5))\n",
    "sns.displot(df['target'])\n",
    "plt.show()"
   ]
  },
  {
   "cell_type": "code",
   "execution_count": 5,
   "id": "aff90b00",
   "metadata": {},
   "outputs": [
    {
     "data": {
      "image/png": "[encoded data removed]",
      "text/plain": [
       "<Figure size 600x500 with 1 Axes>"
      ]
     },
     "metadata": {},
     "output_type": "display_data"
    }
   ],
   "source": [
    "plt.figure(figsize = (6,5))\n",
    "sns.kdeplot(df['target'])\n",
    "plt.show()"
   ]
  },
  {
   "cell_type": "markdown",
   "id": "f3433207",
   "metadata": {},
   "source": [
    "    Anderson-Darling test statistic for normality\n",
    "        Ho: The data follows a normal distribution.\n",
    "        \n",
    "        In this test, \n",
    "            if statistical value > critical value at a given significance level, you reject the null hypothesis (Ho).\n",
    "            meaning : Data is not normally distributed!"
   ]
  },
  {
   "cell_type": "code",
   "execution_count": 6,
   "id": "4329fb95",
   "metadata": {},
   "outputs": [
    {
     "name": "stdout",
     "output_type": "stream",
     "text": [
      "Anderson-Darling Test\n",
      "\n",
      "Statistic: 0.5444064933784034\n",
      "Anderson_Critical_Values : [0.565 0.644 0.772 0.901 1.071]\n",
      "Anderson_Significance_Levels: [15.  10.   5.   2.5  1. ]\n",
      "At 15.0% significance level : Data normally distributed\n",
      "At 10.0% significance level : Data normally distributed\n",
      "At 5.0% significance level : Data normally distributed\n",
      "At 2.5% significance level : Data normally distributed\n",
      "At 1.0% significance level : Data normally distributed\n"
     ]
    }
   ],
   "source": [
    "from scipy.stats import anderson\n",
    "\n",
    "anderson_stat, anderson_critical_values, anderson_significance_levels = anderson(df['target'])\n",
    "print(f\"Anderson-Darling Test\\n\")\n",
    "print(f\"Statistic: {anderson_stat}\")\n",
    "print(f\"Anderson_Critical_Values : {anderson_critical_values}\")\n",
    "print(\"Anderson_Significance_Levels:\", anderson_significance_levels)\n",
    "\n",
    "# Perform the Anderson-Darling test\n",
    "for crit_val, sig_level in zip(anderson_critical_values, anderson_significance_levels):\n",
    "    if anderson_stat > crit_val:\n",
    "        print(f\"At {sig_level}% significance level : Data not normally distributed\")\n",
    "    else:\n",
    "        print(f\"At {sig_level}% significance level : Data normally distributed\")"
   ]
  },
  {
   "cell_type": "markdown",
   "id": "52389b97",
   "metadata": {},
   "source": [
    "    Shapiro-Wilk Test statistic for normality\n",
    "        Ho: The data follows a normal distribution.\n",
    "    \n",
    "    In this test, \n",
    "        if P_VALUE < significance level, you reject the null hypothesis (Ho).\n",
    "        meaning : Data is not normally distributed!"
   ]
  },
  {
   "cell_type": "code",
   "execution_count": 7,
   "id": "23b80021",
   "metadata": {},
   "outputs": [
    {
     "name": "stdout",
     "output_type": "stream",
     "text": [
      "Shapiro-Wilk Test:\n",
      "Statistic: 0.991992175579071\n",
      "P-Value: 0.34119105339050293\n",
      "The data follows a normal distribution (fail to reject null hypothesis).\n"
     ]
    }
   ],
   "source": [
    "from scipy.stats import shapiro\n",
    "\n",
    "# Perform the Shapiro-Wilk test on the 'target' column of your DataFrame\n",
    "shapiro_stat, shapiro_p_value = shapiro(df['target'])\n",
    "\n",
    "# Print the results of the Shapiro-Wilk test\n",
    "print(f\"Shapiro-Wilk Test:\")\n",
    "print(f\"Statistic: {shapiro_stat}\")\n",
    "print(f\"P-Value: {shapiro_p_value}\")\n",
    "\n",
    "# Check if the p-value is less than 0.05 (common significance level)\n",
    "if shapiro_p_value < 0.05:\n",
    "    print(\"The data does not follow a normal distribution (reject null hypothesis).\")\n",
    "else:\n",
    "    print(\"The data follows a normal distribution (fail to reject null hypothesis).\")"
   ]
  },
  {
   "cell_type": "markdown",
   "id": "83cf8564",
   "metadata": {},
   "source": [
    "### Multicollinearity\n",
    "    There should no correlation among independent variable. If we have multicollinearity then we get false significance."
   ]
  },
  {
   "cell_type": "code",
   "execution_count": 8,
   "id": "a71f1adc",
   "metadata": {},
   "outputs": [
    {
     "data": {
      "text/html": [
       "<div>\n",
       "<style scoped>\n",
       "    .dataframe tbody tr th:only-of-type {\n",
       "        vertical-align: middle;\n",
       "    }\n",
       "\n",
       "    .dataframe tbody tr th {\n",
       "        vertical-align: top;\n",
       "    }\n",
       "\n",
       "    .dataframe thead th {\n",
       "        text-align: right;\n",
       "    }\n",
       "</style>\n",
       "<table border=\"1\" class=\"dataframe\">\n",
       "  <thead>\n",
       "    <tr style=\"text-align: right;\">\n",
       "      <th></th>\n",
       "      <th>Variable</th>\n",
       "      <th>VIF</th>\n",
       "    </tr>\n",
       "  </thead>\n",
       "  <tbody>\n",
       "    <tr>\n",
       "      <th>0</th>\n",
       "      <td>feature1</td>\n",
       "      <td>1.002545</td>\n",
       "    </tr>\n",
       "    <tr>\n",
       "      <th>1</th>\n",
       "      <td>feature2</td>\n",
       "      <td>1.003410</td>\n",
       "    </tr>\n",
       "    <tr>\n",
       "      <th>2</th>\n",
       "      <td>feature3</td>\n",
       "      <td>1.005937</td>\n",
       "    </tr>\n",
       "  </tbody>\n",
       "</table>\n",
       "</div>"
      ],
      "text/plain": [
       "   Variable       VIF\n",
       "0  feature1  1.002545\n",
       "1  feature2  1.003410\n",
       "2  feature3  1.005937"
      ]
     },
     "execution_count": 8,
     "metadata": {},
     "output_type": "execute_result"
    }
   ],
   "source": [
    "from statsmodels.stats.outliers_influence import variance_inflation_factor\n",
    "\n",
    "#Independent Variable\n",
    "X = df.drop('target', axis = 1)\n",
    "\n",
    "x1_vif = [variance_inflation_factor(X.values, i) for i in range(len(X.columns))]\n",
    "\n",
    "vif_df = pd.DataFrame({'Variable': (X.columns), 'VIF': x1_vif})\n",
    "vif_df"
   ]
  },
  {
   "cell_type": "markdown",
   "id": "9be62fe5",
   "metadata": {},
   "source": [
    "### Homoscedasticiy"
   ]
  },
  {
   "cell_type": "markdown",
   "id": "bb0415b0",
   "metadata": {},
   "source": [
    "### No Autocorrelation"
   ]
  },
  {
   "cell_type": "markdown",
   "id": "3afdd1f7",
   "metadata": {},
   "source": [
    "# Build a model"
   ]
  },
  {
   "cell_type": "code",
   "execution_count": 9,
   "id": "669da883",
   "metadata": {},
   "outputs": [
    {
     "data": {
      "text/html": [
       "<table class=\"simpletable\">\n",
       "<caption>OLS Regression Results</caption>\n",
       "<tr>\n",
       "  <th>Dep. Variable:</th>         <td>target</td>      <th>  R-squared (uncentered):</th>      <td>   0.961</td> \n",
       "</tr>\n",
       "<tr>\n",
       "  <th>Model:</th>                   <td>OLS</td>       <th>  Adj. R-squared (uncentered):</th> <td>   0.960</td> \n",
       "</tr>\n",
       "<tr>\n",
       "  <th>Method:</th>             <td>Least Squares</td>  <th>  F-statistic:       </th>          <td>   1602.</td> \n",
       "</tr>\n",
       "<tr>\n",
       "  <th>Date:</th>             <td>Fri, 29 Sep 2023</td> <th>  Prob (F-statistic):</th>          <td>4.72e-138</td>\n",
       "</tr>\n",
       "<tr>\n",
       "  <th>Time:</th>                 <td>07:43:18</td>     <th>  Log-Likelihood:    </th>          <td> -875.50</td> \n",
       "</tr>\n",
       "<tr>\n",
       "  <th>No. Observations:</th>      <td>   200</td>      <th>  AIC:               </th>          <td>   1757.</td> \n",
       "</tr>\n",
       "<tr>\n",
       "  <th>Df Residuals:</th>          <td>   197</td>      <th>  BIC:               </th>          <td>   1767.</td> \n",
       "</tr>\n",
       "<tr>\n",
       "  <th>Df Model:</th>              <td>     3</td>      <th>                     </th>              <td> </td>    \n",
       "</tr>\n",
       "<tr>\n",
       "  <th>Covariance Type:</th>      <td>nonrobust</td>    <th>                     </th>              <td> </td>    \n",
       "</tr>\n",
       "</table>\n",
       "<table class=\"simpletable\">\n",
       "<tr>\n",
       "      <td></td>        <th>coef</th>     <th>std err</th>      <th>t</th>      <th>P>|t|</th>  <th>[0.025</th>    <th>0.975]</th>  \n",
       "</tr>\n",
       "<tr>\n",
       "  <th>feature1</th> <td>   73.9983</td> <td>    1.323</td> <td>   55.930</td> <td> 0.000</td> <td>   71.389</td> <td>   76.607</td>\n",
       "</tr>\n",
       "<tr>\n",
       "  <th>feature2</th> <td>   -0.0525</td> <td>    1.302</td> <td>   -0.040</td> <td> 0.968</td> <td>   -2.621</td> <td>    2.516</td>\n",
       "</tr>\n",
       "<tr>\n",
       "  <th>feature3</th> <td>   53.8460</td> <td>    1.416</td> <td>   38.039</td> <td> 0.000</td> <td>   51.054</td> <td>   56.638</td>\n",
       "</tr>\n",
       "</table>\n",
       "<table class=\"simpletable\">\n",
       "<tr>\n",
       "  <th>Omnibus:</th>       <td> 1.799</td> <th>  Durbin-Watson:     </th> <td>   2.004</td>\n",
       "</tr>\n",
       "<tr>\n",
       "  <th>Prob(Omnibus):</th> <td> 0.407</td> <th>  Jarque-Bera (JB):  </th> <td>   1.454</td>\n",
       "</tr>\n",
       "<tr>\n",
       "  <th>Skew:</th>          <td> 0.116</td> <th>  Prob(JB):          </th> <td>   0.483</td>\n",
       "</tr>\n",
       "<tr>\n",
       "  <th>Kurtosis:</th>      <td> 3.348</td> <th>  Cond. No.          </th> <td>    1.12</td>\n",
       "</tr>\n",
       "</table><br/><br/>Notes:<br/>[1] R² is computed without centering (uncentered) since the model does not contain a constant.<br/>[2] Standard Errors assume that the covariance matrix of the errors is correctly specified."
      ],
      "text/plain": [
       "<class 'statsmodels.iolib.summary.Summary'>\n",
       "\"\"\"\n",
       "                                 OLS Regression Results                                \n",
       "=======================================================================================\n",
       "Dep. Variable:                 target   R-squared (uncentered):                   0.961\n",
       "Model:                            OLS   Adj. R-squared (uncentered):              0.960\n",
       "Method:                 Least Squares   F-statistic:                              1602.\n",
       "Date:                Fri, 29 Sep 2023   Prob (F-statistic):                   4.72e-138\n",
       "Time:                        07:43:18   Log-Likelihood:                         -875.50\n",
       "No. Observations:                 200   AIC:                                      1757.\n",
       "Df Residuals:                     197   BIC:                                      1767.\n",
       "Df Model:                           3                                                  \n",
       "Covariance Type:            nonrobust                                                  \n",
       "==============================================================================\n",
       "                 coef    std err          t      P>|t|      [0.025      0.975]\n",
       "------------------------------------------------------------------------------\n",
       "feature1      73.9983      1.323     55.930      0.000      71.389      76.607\n",
       "feature2      -0.0525      1.302     -0.040      0.968      -2.621       2.516\n",
       "feature3      53.8460      1.416     38.039      0.000      51.054      56.638\n",
       "==============================================================================\n",
       "Omnibus:                        1.799   Durbin-Watson:                   2.004\n",
       "Prob(Omnibus):                  0.407   Jarque-Bera (JB):                1.454\n",
       "Skew:                           0.116   Prob(JB):                        0.483\n",
       "Kurtosis:                       3.348   Cond. No.                         1.12\n",
       "==============================================================================\n",
       "\n",
       "Notes:\n",
       "[1] R² is computed without centering (uncentered) since the model does not contain a constant.\n",
       "[2] Standard Errors assume that the covariance matrix of the errors is correctly specified.\n",
       "\"\"\""
      ]
     },
     "execution_count": 9,
     "metadata": {},
     "output_type": "execute_result"
    }
   ],
   "source": [
    "import statsmodels.api as sm\n",
    "\n",
    "vif_col = list(vif_df.Variable)\n",
    "\n",
    "X1 = df[vif_col]\n",
    "y1 = df['target']\n",
    "\n",
    "model1 = sm.OLS(y1,X1).fit()\n",
    "model1.summary()"
   ]
  },
  {
   "cell_type": "code",
   "execution_count": 10,
   "id": "9262e83f",
   "metadata": {},
   "outputs": [
    {
     "data": {
      "text/html": [
       "<table class=\"simpletable\">\n",
       "<caption>OLS Regression Results</caption>\n",
       "<tr>\n",
       "  <th>Dep. Variable:</th>         <td>target</td>      <th>  R-squared (uncentered):</th>      <td>   0.961</td> \n",
       "</tr>\n",
       "<tr>\n",
       "  <th>Model:</th>                   <td>OLS</td>       <th>  Adj. R-squared (uncentered):</th> <td>   0.960</td> \n",
       "</tr>\n",
       "<tr>\n",
       "  <th>Method:</th>             <td>Least Squares</td>  <th>  F-statistic:       </th>          <td>   2415.</td> \n",
       "</tr>\n",
       "<tr>\n",
       "  <th>Date:</th>             <td>Fri, 29 Sep 2023</td> <th>  Prob (F-statistic):</th>          <td>8.50e-140</td>\n",
       "</tr>\n",
       "<tr>\n",
       "  <th>Time:</th>                 <td>07:43:18</td>     <th>  Log-Likelihood:    </th>          <td> -875.50</td> \n",
       "</tr>\n",
       "<tr>\n",
       "  <th>No. Observations:</th>      <td>   200</td>      <th>  AIC:               </th>          <td>   1755.</td> \n",
       "</tr>\n",
       "<tr>\n",
       "  <th>Df Residuals:</th>          <td>   198</td>      <th>  BIC:               </th>          <td>   1762.</td> \n",
       "</tr>\n",
       "<tr>\n",
       "  <th>Df Model:</th>              <td>     2</td>      <th>                     </th>              <td> </td>    \n",
       "</tr>\n",
       "<tr>\n",
       "  <th>Covariance Type:</th>      <td>nonrobust</td>    <th>                     </th>              <td> </td>    \n",
       "</tr>\n",
       "</table>\n",
       "<table class=\"simpletable\">\n",
       "<tr>\n",
       "      <td></td>        <th>coef</th>     <th>std err</th>      <th>t</th>      <th>P>|t|</th>  <th>[0.025</th>    <th>0.975]</th>  \n",
       "</tr>\n",
       "<tr>\n",
       "  <th>feature1</th> <td>   73.9985</td> <td>    1.320</td> <td>   56.073</td> <td> 0.000</td> <td>   71.396</td> <td>   76.601</td>\n",
       "</tr>\n",
       "<tr>\n",
       "  <th>feature3</th> <td>   53.8426</td> <td>    1.410</td> <td>   38.198</td> <td> 0.000</td> <td>   51.063</td> <td>   56.622</td>\n",
       "</tr>\n",
       "</table>\n",
       "<table class=\"simpletable\">\n",
       "<tr>\n",
       "  <th>Omnibus:</th>       <td> 1.788</td> <th>  Durbin-Watson:     </th> <td>   2.004</td>\n",
       "</tr>\n",
       "<tr>\n",
       "  <th>Prob(Omnibus):</th> <td> 0.409</td> <th>  Jarque-Bera (JB):  </th> <td>   1.444</td>\n",
       "</tr>\n",
       "<tr>\n",
       "  <th>Skew:</th>          <td> 0.115</td> <th>  Prob(JB):          </th> <td>   0.486</td>\n",
       "</tr>\n",
       "<tr>\n",
       "  <th>Kurtosis:</th>      <td> 3.347</td> <th>  Cond. No.          </th> <td>    1.09</td>\n",
       "</tr>\n",
       "</table><br/><br/>Notes:<br/>[1] R² is computed without centering (uncentered) since the model does not contain a constant.<br/>[2] Standard Errors assume that the covariance matrix of the errors is correctly specified."
      ],
      "text/plain": [
       "<class 'statsmodels.iolib.summary.Summary'>\n",
       "\"\"\"\n",
       "                                 OLS Regression Results                                \n",
       "=======================================================================================\n",
       "Dep. Variable:                 target   R-squared (uncentered):                   0.961\n",
       "Model:                            OLS   Adj. R-squared (uncentered):              0.960\n",
       "Method:                 Least Squares   F-statistic:                              2415.\n",
       "Date:                Fri, 29 Sep 2023   Prob (F-statistic):                   8.50e-140\n",
       "Time:                        07:43:18   Log-Likelihood:                         -875.50\n",
       "No. Observations:                 200   AIC:                                      1755.\n",
       "Df Residuals:                     198   BIC:                                      1762.\n",
       "Df Model:                           2                                                  \n",
       "Covariance Type:            nonrobust                                                  \n",
       "==============================================================================\n",
       "                 coef    std err          t      P>|t|      [0.025      0.975]\n",
       "------------------------------------------------------------------------------\n",
       "feature1      73.9985      1.320     56.073      0.000      71.396      76.601\n",
       "feature3      53.8426      1.410     38.198      0.000      51.063      56.622\n",
       "==============================================================================\n",
       "Omnibus:                        1.788   Durbin-Watson:                   2.004\n",
       "Prob(Omnibus):                  0.409   Jarque-Bera (JB):                1.444\n",
       "Skew:                           0.115   Prob(JB):                        0.486\n",
       "Kurtosis:                       3.347   Cond. No.                         1.09\n",
       "==============================================================================\n",
       "\n",
       "Notes:\n",
       "[1] R² is computed without centering (uncentered) since the model does not contain a constant.\n",
       "[2] Standard Errors assume that the covariance matrix of the errors is correctly specified.\n",
       "\"\"\""
      ]
     },
     "execution_count": 10,
     "metadata": {},
     "output_type": "execute_result"
    }
   ],
   "source": [
    "X2 = df.drop(['feature2','target'], axis = 1)\n",
    "#Dependent Variable\n",
    "y2 = df['target']\n",
    "\n",
    "model2 = sm.OLS(y2,X2).fit()\n",
    "model2.summary()"
   ]
  },
  {
   "cell_type": "code",
   "execution_count": 11,
   "id": "0105dc5c",
   "metadata": {},
   "outputs": [
    {
     "name": "stdout",
     "output_type": "stream",
     "text": [
      "train_accuracy = 0.9620692189112015\n",
      "test_accuracy = 0.9441316426714628\n"
     ]
    }
   ],
   "source": [
    "X = df.drop('target', axis = 1)\n",
    "y = df['target']\n",
    "\n",
    "from sklearn.model_selection import train_test_split\n",
    "\n",
    "X_train, X_test, y_train, y_test = train_test_split(X, y,test_size = 0.2, random_state = 0)\n",
    "\n",
    "from sklearn.linear_model import LinearRegression\n",
    "\n",
    "linear_model = LinearRegression().fit(X_train, y_train)\n",
    "\n",
    "ytest_predicted = linear_model.predict(X_test)\n",
    "\n",
    "from sklearn.metrics import r2_score\n",
    "\n",
    "ytrain_predicted = linear_model.predict(X_train)\n",
    "train_accuracy = r2_score(y_train, ytrain_predicted)\n",
    "\n",
    "test_accuracy = r2_score(y_test, ytest_predicted)\n",
    "\n",
    "print(f\"train_accuracy = {train_accuracy}\")\n",
    "print(f\"test_accuracy = {test_accuracy}\")"
   ]
  },
  {
   "cell_type": "code",
   "execution_count": null,
   "id": "7c8d7679",
   "metadata": {},
   "outputs": [],
   "source": []
  }
 ],
 "metadata": {
  "kernelspec": {
   "display_name": "Python 3 (ipykernel)",
   "language": "python",
   "name": "python3"
  },
  "language_info": {
   "codemirror_mode": {
    "name": "ipython",
    "version": 3
   },
   "file_extension": ".py",
   "mimetype": "text/x-python",
   "name": "python",
   "nbconvert_exporter": "python",
   "pygments_lexer": "ipython3",
   "version": "3.11.5"
  },
  "toc": {
   "base_numbering": 1,
   "nav_menu": {},
   "number_sections": true,
   "sideBar": true,
   "skip_h1_title": false,
   "title_cell": "Table of Contents",
   "title_sidebar": "Contents",
   "toc_cell": false,
   "toc_position": {},
   "toc_section_display": true,
   "toc_window_display": false
  },
  "varInspector": {
   "cols": {
    "lenName": 16,
    "lenType": 16,
    "lenVar": 40
   },
   "kernels_config": {
    "python": {
     "delete_cmd_postfix": "",
     "delete_cmd_prefix": "del ",
     "library": "var_list.py",
     "varRefreshCmd": "print(var_dic_list())"
    },
    "r": {
     "delete_cmd_postfix": ") ",
     "delete_cmd_prefix": "rm(",
     "library": "var_list.r",
     "varRefreshCmd": "cat(var_dic_list()) "
    }
   },
   "types_to_exclude": [
    "module",
    "function",
    "builtin_function_or_method",
    "instance",
    "_Feature"
   ],
   "window_display": false
  }
 },
 "nbformat": 4,
 "nbformat_minor": 5
}
