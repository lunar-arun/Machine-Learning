{
 "cells": [
  {
   "cell_type": "markdown",
   "id": "98adaaeb",
   "metadata": {},
   "source": [
    "# Travel Review Segmentation"
   ]
  },
  {
   "cell_type": "markdown",
   "id": "ed10a4a4",
   "metadata": {},
   "source": [
    "## Abstract:\n",
    "\n",
    "    Understanding the tastes of each user and the characteristics of each product is necessary to predict how a user will respond to a new product. This latent user and product dimensions can be discovered with the help of user feedback. A numeric rating and its accompanying text review is the most widely available form of user feedback. A measure which encapsulates the contents of such reviews is often necessary as they have been found to significantly influence the shopping behavior of users. A fine-grained form of such measure that could act as perfect feedback about the product is a star rating. The review rating prediction tries to predict a rating corresponding to the given review."
   ]
  },
  {
   "cell_type": "markdown",
   "id": "11e0c3c7",
   "metadata": {},
   "source": [
    "## Problem Statement:\n",
    "    Given the google rating data, use a hierarchical clustering algorithm to cluster reviews"
   ]
  },
  {
   "cell_type": "markdown",
   "id": "c4980c04",
   "metadata": {},
   "source": [
    "## Dataset Information:\n",
    "    \n",
    "    This data set is populated by capturing user ratings from Google reviews. Reviews on attractions from 24 categories across Europe are considered. Google user rating ranges from 1 to 5 and the average user rating per category is calculated."
   ]
  },
  {
   "cell_type": "markdown",
   "id": "adf0c893",
   "metadata": {},
   "source": [
    "## Variable Description:\n",
    "\n",
    "    1) User Unique user id\n",
    "    \n",
    "    2) Attribute 1: Average ratings on churches\n",
    "    \n",
    "    3) Attribute 2: Average ratings on resorts\n",
    "    \n",
    "    4) Attribute 3: Average ratings on beaches\n",
    "    \n",
    "    5) Attribute 4: Average ratings on parks\n",
    "\n",
    "    6) Attribute 5: Average ratings on theatres\n",
    "    \n",
    "    7) Attribute 6: Average ratings on museums\n",
    "    \n",
    "    8) Attribute 7: Average ratings on malls\n",
    "    \n",
    "    9) Attribute 8: Average ratings on zoo\n",
    "    \n",
    "    10) Attribute 9: Average ratings on restaurants\n",
    "    \n",
    "    11) Attribute 10: Average ratings on pubs/bars\n",
    "    \n",
    "    12) Attribute 11: Average ratings on local services\n",
    "    \n",
    "    13) Attribute 12: Average ratings on burger/pizza shops\n",
    "    \n",
    "    14) Attribute 13: Average ratings on hotels/other lodgings\n",
    "    \n",
    "    15) Attribute 14: Average ratings on juice bars\n",
    "    \n",
    "    16) Attribute 15: Average ratings on art galleries\n",
    "    \n",
    "    17) Attribute 16: Average ratings on dance clubs\n",
    "            \n",
    "    18) Attribute 17: Average ratings on swimming pools\n",
    "        \n",
    "    19) Attribute 18: Average ratings on gyms\n",
    "    \n",
    "    20) Attribute 19: Average ratings on bakeries\n",
    "    \n",
    "    21) Attribute 20: Average ratings on beauty & spas\n",
    "    \n",
    "    22) Attribute 21: Average ratings on cafes\n",
    "    \n",
    "    23) Attribute 22: Average ratings on view points\n",
    "    \n",
    "    24) Attribute 23: Average ratings on monuments\n",
    "    \n",
    "    25) Attribute 24: Average ratings on gardens"
   ]
  },
  {
   "cell_type": "markdown",
   "id": "dff5ff68",
   "metadata": {},
   "source": [
    "## Scope:\n",
    "\n",
    "    Analyzing the existing data and getting valuable insights about the review pattern\n",
    "    \n",
    "    Data pre-processing including missing value treatment\n",
    "\n",
    "    Cluster the reviews based on the optimum number of clusters (‘k’) with the help of dendrogram\n"
   ]
  },
  {
   "cell_type": "markdown",
   "id": "1b9c30f6",
   "metadata": {},
   "source": [
    "## Learning Outcome:\n",
    "    The students will get a better understanding of how the variables are linked to each other and will be able to apply hierarchical clustering to determine review types."
   ]
  }
 ],
 "metadata": {
  "kernelspec": {
   "display_name": "Python 3 (ipykernel)",
   "language": "python",
   "name": "python3"
  },
  "language_info": {
   "codemirror_mode": {
    "name": "ipython",
    "version": 3
   },
   "file_extension": ".py",
   "mimetype": "text/x-python",
   "name": "python",
   "nbconvert_exporter": "python",
   "pygments_lexer": "ipython3",
   "version": "3.11.5"
  },
  "toc": {
   "base_numbering": 1,
   "nav_menu": {},
   "number_sections": true,
   "sideBar": true,
   "skip_h1_title": false,
   "title_cell": "Table of Contents",
   "title_sidebar": "Contents",
   "toc_cell": false,
   "toc_position": {},
   "toc_section_display": true,
   "toc_window_display": false
  }
 },
 "nbformat": 4,
 "nbformat_minor": 5
}
