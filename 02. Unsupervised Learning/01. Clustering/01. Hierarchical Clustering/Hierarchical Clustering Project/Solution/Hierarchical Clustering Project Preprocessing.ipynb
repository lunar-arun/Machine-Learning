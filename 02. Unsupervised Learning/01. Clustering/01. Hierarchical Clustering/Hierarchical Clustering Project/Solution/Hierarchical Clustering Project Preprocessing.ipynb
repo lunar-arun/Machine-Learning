{
 "cells": [
  {
   "cell_type": "markdown",
   "id": "1b309ba7",
   "metadata": {},
   "source": [
    "# Import Packages"
   ]
  },
  {
   "cell_type": "code",
   "execution_count": 1,
   "id": "9d22fe31",
   "metadata": {
    "ExecuteTime": {
     "end_time": "2023-12-13T03:22:19.931878Z",
     "start_time": "2023-12-13T03:22:18.452614Z"
    }
   },
   "outputs": [],
   "source": [
    "import pandas as pd\n",
    "import numpy as np\n",
    "import matplotlib.pyplot as plt\n",
    "import seaborn as sns"
   ]
  },
  {
   "cell_type": "markdown",
   "id": "4770e333",
   "metadata": {},
   "source": [
    "#  Read the Data"
   ]
  },
  {
   "cell_type": "code",
   "execution_count": 2,
   "id": "a8f04ff6",
   "metadata": {
    "ExecuteTime": {
     "end_time": "2023-12-13T03:22:19.975518Z",
     "start_time": "2023-12-13T03:22:19.932878Z"
    }
   },
   "outputs": [
    {
     "data": {
      "text/html": [
       "<div>\n",
       "<style scoped>\n",
       "    .dataframe tbody tr th:only-of-type {\n",
       "        vertical-align: middle;\n",
       "    }\n",
       "\n",
       "    .dataframe tbody tr th {\n",
       "        vertical-align: top;\n",
       "    }\n",
       "\n",
       "    .dataframe thead th {\n",
       "        text-align: right;\n",
       "    }\n",
       "</style>\n",
       "<table border=\"1\" class=\"dataframe\">\n",
       "  <thead>\n",
       "    <tr style=\"text-align: right;\">\n",
       "      <th></th>\n",
       "      <th>User</th>\n",
       "      <th>Category 1</th>\n",
       "      <th>Category 2</th>\n",
       "      <th>Category 3</th>\n",
       "      <th>Category 4</th>\n",
       "      <th>Category 5</th>\n",
       "      <th>Category 6</th>\n",
       "      <th>Category 7</th>\n",
       "      <th>Category 8</th>\n",
       "      <th>Category 9</th>\n",
       "      <th>...</th>\n",
       "      <th>Category 16</th>\n",
       "      <th>Category 17</th>\n",
       "      <th>Category 18</th>\n",
       "      <th>Category 19</th>\n",
       "      <th>Category 20</th>\n",
       "      <th>Category 21</th>\n",
       "      <th>Category 22</th>\n",
       "      <th>Category 23</th>\n",
       "      <th>Category 24</th>\n",
       "      <th>Unnamed: 25</th>\n",
       "    </tr>\n",
       "  </thead>\n",
       "  <tbody>\n",
       "    <tr>\n",
       "      <th>0</th>\n",
       "      <td>User 1</td>\n",
       "      <td>0.0</td>\n",
       "      <td>0.0</td>\n",
       "      <td>3.63</td>\n",
       "      <td>3.65</td>\n",
       "      <td>5.0</td>\n",
       "      <td>2.92</td>\n",
       "      <td>5.0</td>\n",
       "      <td>2.35</td>\n",
       "      <td>2.33</td>\n",
       "      <td>...</td>\n",
       "      <td>0.59</td>\n",
       "      <td>0.5</td>\n",
       "      <td>0.0</td>\n",
       "      <td>0.5</td>\n",
       "      <td>0.0</td>\n",
       "      <td>0.0</td>\n",
       "      <td>0.0</td>\n",
       "      <td>0.0</td>\n",
       "      <td>0.0</td>\n",
       "      <td>NaN</td>\n",
       "    </tr>\n",
       "    <tr>\n",
       "      <th>1</th>\n",
       "      <td>User 2</td>\n",
       "      <td>0.0</td>\n",
       "      <td>0.0</td>\n",
       "      <td>3.63</td>\n",
       "      <td>3.65</td>\n",
       "      <td>5.0</td>\n",
       "      <td>2.92</td>\n",
       "      <td>5.0</td>\n",
       "      <td>2.64</td>\n",
       "      <td>2.33</td>\n",
       "      <td>...</td>\n",
       "      <td>0.59</td>\n",
       "      <td>0.5</td>\n",
       "      <td>0.0</td>\n",
       "      <td>0.5</td>\n",
       "      <td>0.0</td>\n",
       "      <td>0.0</td>\n",
       "      <td>0.0</td>\n",
       "      <td>0.0</td>\n",
       "      <td>0.0</td>\n",
       "      <td>NaN</td>\n",
       "    </tr>\n",
       "    <tr>\n",
       "      <th>2</th>\n",
       "      <td>User 3</td>\n",
       "      <td>0.0</td>\n",
       "      <td>0.0</td>\n",
       "      <td>3.63</td>\n",
       "      <td>3.63</td>\n",
       "      <td>5.0</td>\n",
       "      <td>2.92</td>\n",
       "      <td>5.0</td>\n",
       "      <td>2.64</td>\n",
       "      <td>2.33</td>\n",
       "      <td>...</td>\n",
       "      <td>0.59</td>\n",
       "      <td>0.5</td>\n",
       "      <td>0.0</td>\n",
       "      <td>0.5</td>\n",
       "      <td>0.0</td>\n",
       "      <td>0.0</td>\n",
       "      <td>0.0</td>\n",
       "      <td>0.0</td>\n",
       "      <td>0.0</td>\n",
       "      <td>NaN</td>\n",
       "    </tr>\n",
       "    <tr>\n",
       "      <th>3</th>\n",
       "      <td>User 4</td>\n",
       "      <td>0.0</td>\n",
       "      <td>0.5</td>\n",
       "      <td>3.63</td>\n",
       "      <td>3.63</td>\n",
       "      <td>5.0</td>\n",
       "      <td>2.92</td>\n",
       "      <td>5.0</td>\n",
       "      <td>2.35</td>\n",
       "      <td>2.33</td>\n",
       "      <td>...</td>\n",
       "      <td>0.59</td>\n",
       "      <td>0.5</td>\n",
       "      <td>0.0</td>\n",
       "      <td>0.5</td>\n",
       "      <td>0.0</td>\n",
       "      <td>0.0</td>\n",
       "      <td>0.0</td>\n",
       "      <td>0.0</td>\n",
       "      <td>0.0</td>\n",
       "      <td>NaN</td>\n",
       "    </tr>\n",
       "    <tr>\n",
       "      <th>4</th>\n",
       "      <td>User 5</td>\n",
       "      <td>0.0</td>\n",
       "      <td>0.0</td>\n",
       "      <td>3.63</td>\n",
       "      <td>3.63</td>\n",
       "      <td>5.0</td>\n",
       "      <td>2.92</td>\n",
       "      <td>5.0</td>\n",
       "      <td>2.64</td>\n",
       "      <td>2.33</td>\n",
       "      <td>...</td>\n",
       "      <td>0.59</td>\n",
       "      <td>0.5</td>\n",
       "      <td>0.0</td>\n",
       "      <td>0.5</td>\n",
       "      <td>0.0</td>\n",
       "      <td>0.0</td>\n",
       "      <td>0.0</td>\n",
       "      <td>0.0</td>\n",
       "      <td>0.0</td>\n",
       "      <td>NaN</td>\n",
       "    </tr>\n",
       "  </tbody>\n",
       "</table>\n",
       "<p>5 rows × 26 columns</p>\n",
       "</div>"
      ],
      "text/plain": [
       "     User  Category 1  Category 2  Category 3  Category 4  Category 5  \\\n",
       "0  User 1         0.0         0.0        3.63        3.65         5.0   \n",
       "1  User 2         0.0         0.0        3.63        3.65         5.0   \n",
       "2  User 3         0.0         0.0        3.63        3.63         5.0   \n",
       "3  User 4         0.0         0.5        3.63        3.63         5.0   \n",
       "4  User 5         0.0         0.0        3.63        3.63         5.0   \n",
       "\n",
       "   Category 6  Category 7  Category 8  Category 9  ...  Category 16  \\\n",
       "0        2.92         5.0        2.35        2.33  ...         0.59   \n",
       "1        2.92         5.0        2.64        2.33  ...         0.59   \n",
       "2        2.92         5.0        2.64        2.33  ...         0.59   \n",
       "3        2.92         5.0        2.35        2.33  ...         0.59   \n",
       "4        2.92         5.0        2.64        2.33  ...         0.59   \n",
       "\n",
       "  Category 17  Category 18  Category 19  Category 20  Category 21  \\\n",
       "0         0.5          0.0          0.5          0.0          0.0   \n",
       "1         0.5          0.0          0.5          0.0          0.0   \n",
       "2         0.5          0.0          0.5          0.0          0.0   \n",
       "3         0.5          0.0          0.5          0.0          0.0   \n",
       "4         0.5          0.0          0.5          0.0          0.0   \n",
       "\n",
       "   Category 22  Category 23  Category 24  Unnamed: 25  \n",
       "0          0.0          0.0          0.0          NaN  \n",
       "1          0.0          0.0          0.0          NaN  \n",
       "2          0.0          0.0          0.0          NaN  \n",
       "3          0.0          0.0          0.0          NaN  \n",
       "4          0.0          0.0          0.0          NaN  \n",
       "\n",
       "[5 rows x 26 columns]"
      ]
     },
     "execution_count": 2,
     "metadata": {},
     "output_type": "execute_result"
    }
   ],
   "source": [
    "# read the data\n",
    "raw_data = pd.read_csv('../Dataset/google_review_ratings.csv')\n",
    "\n",
    "# print the first five rows of the data\n",
    "raw_data.head()"
   ]
  },
  {
   "cell_type": "markdown",
   "id": "e727a71b",
   "metadata": {},
   "source": [
    "# Data Types and Dimensions"
   ]
  },
  {
   "cell_type": "code",
   "execution_count": 3,
   "id": "c3992c96",
   "metadata": {
    "ExecuteTime": {
     "end_time": "2023-12-13T03:22:19.992020Z",
     "start_time": "2023-12-13T03:22:19.977518Z"
    }
   },
   "outputs": [
    {
     "name": "stdout",
     "output_type": "stream",
     "text": [
      "<class 'pandas.core.frame.DataFrame'>\n",
      "RangeIndex: 5456 entries, 0 to 5455\n",
      "Data columns (total 26 columns):\n",
      " #   Column       Non-Null Count  Dtype  \n",
      "---  ------       --------------  -----  \n",
      " 0   User         5456 non-null   object \n",
      " 1   Category 1   5456 non-null   float64\n",
      " 2   Category 2   5456 non-null   float64\n",
      " 3   Category 3   5456 non-null   float64\n",
      " 4   Category 4   5456 non-null   float64\n",
      " 5   Category 5   5456 non-null   float64\n",
      " 6   Category 6   5456 non-null   float64\n",
      " 7   Category 7   5456 non-null   float64\n",
      " 8   Category 8   5456 non-null   float64\n",
      " 9   Category 9   5456 non-null   float64\n",
      " 10  Category 10  5456 non-null   float64\n",
      " 11  Category 11  5456 non-null   object \n",
      " 12  Category 12  5455 non-null   float64\n",
      " 13  Category 13  5456 non-null   float64\n",
      " 14  Category 14  5456 non-null   float64\n",
      " 15  Category 15  5456 non-null   float64\n",
      " 16  Category 16  5456 non-null   float64\n",
      " 17  Category 17  5456 non-null   float64\n",
      " 18  Category 18  5456 non-null   float64\n",
      " 19  Category 19  5456 non-null   float64\n",
      " 20  Category 20  5456 non-null   float64\n",
      " 21  Category 21  5456 non-null   float64\n",
      " 22  Category 22  5456 non-null   float64\n",
      " 23  Category 23  5456 non-null   float64\n",
      " 24  Category 24  5455 non-null   float64\n",
      " 25  Unnamed: 25  2 non-null      float64\n",
      "dtypes: float64(24), object(2)\n",
      "memory usage: 1.1+ MB\n"
     ]
    }
   ],
   "source": [
    "raw_data.info()"
   ]
  },
  {
   "cell_type": "markdown",
   "id": "817c1215",
   "metadata": {},
   "source": [
    "    Before manipulation of data, let's check dimension of dataset"
   ]
  },
  {
   "cell_type": "code",
   "execution_count": 4,
   "id": "77239087",
   "metadata": {
    "ExecuteTime": {
     "end_time": "2023-12-13T03:22:20.003002Z",
     "start_time": "2023-12-13T03:22:19.996014Z"
    }
   },
   "outputs": [
    {
     "name": "stdout",
     "output_type": "stream",
     "text": [
      "(5456, 26)\n"
     ]
    }
   ],
   "source": [
    "# get the shape\n",
    "print(raw_data.shape)"
   ]
  },
  {
   "cell_type": "markdown",
   "id": "246fa46f",
   "metadata": {},
   "source": [
    "# Data Manipulation"
   ]
  },
  {
   "cell_type": "markdown",
   "id": "b600f5fa",
   "metadata": {},
   "source": [
    "    Here we will change features names and remove redundant feature\n",
    "    \n",
    "    Dropping redundant feature"
   ]
  },
  {
   "cell_type": "code",
   "execution_count": 5,
   "id": "5d07ee48",
   "metadata": {
    "ExecuteTime": {
     "end_time": "2023-12-13T03:22:20.037852Z",
     "start_time": "2023-12-13T03:22:20.005998Z"
    }
   },
   "outputs": [
    {
     "data": {
      "text/html": [
       "<div>\n",
       "<style scoped>\n",
       "    .dataframe tbody tr th:only-of-type {\n",
       "        vertical-align: middle;\n",
       "    }\n",
       "\n",
       "    .dataframe tbody tr th {\n",
       "        vertical-align: top;\n",
       "    }\n",
       "\n",
       "    .dataframe thead th {\n",
       "        text-align: right;\n",
       "    }\n",
       "</style>\n",
       "<table border=\"1\" class=\"dataframe\">\n",
       "  <thead>\n",
       "    <tr style=\"text-align: right;\">\n",
       "      <th></th>\n",
       "      <th>User</th>\n",
       "      <th>Category 1</th>\n",
       "      <th>Category 2</th>\n",
       "      <th>Category 3</th>\n",
       "      <th>Category 4</th>\n",
       "      <th>Category 5</th>\n",
       "      <th>Category 6</th>\n",
       "      <th>Category 7</th>\n",
       "      <th>Category 8</th>\n",
       "      <th>Category 9</th>\n",
       "      <th>...</th>\n",
       "      <th>Category 15</th>\n",
       "      <th>Category 16</th>\n",
       "      <th>Category 17</th>\n",
       "      <th>Category 18</th>\n",
       "      <th>Category 19</th>\n",
       "      <th>Category 20</th>\n",
       "      <th>Category 21</th>\n",
       "      <th>Category 22</th>\n",
       "      <th>Category 23</th>\n",
       "      <th>Category 24</th>\n",
       "    </tr>\n",
       "  </thead>\n",
       "  <tbody>\n",
       "    <tr>\n",
       "      <th>0</th>\n",
       "      <td>User 1</td>\n",
       "      <td>0.0</td>\n",
       "      <td>0.0</td>\n",
       "      <td>3.63</td>\n",
       "      <td>3.65</td>\n",
       "      <td>5.0</td>\n",
       "      <td>2.92</td>\n",
       "      <td>5.0</td>\n",
       "      <td>2.35</td>\n",
       "      <td>2.33</td>\n",
       "      <td>...</td>\n",
       "      <td>1.74</td>\n",
       "      <td>0.59</td>\n",
       "      <td>0.5</td>\n",
       "      <td>0.0</td>\n",
       "      <td>0.5</td>\n",
       "      <td>0.0</td>\n",
       "      <td>0.0</td>\n",
       "      <td>0.0</td>\n",
       "      <td>0.0</td>\n",
       "      <td>0.0</td>\n",
       "    </tr>\n",
       "    <tr>\n",
       "      <th>1</th>\n",
       "      <td>User 2</td>\n",
       "      <td>0.0</td>\n",
       "      <td>0.0</td>\n",
       "      <td>3.63</td>\n",
       "      <td>3.65</td>\n",
       "      <td>5.0</td>\n",
       "      <td>2.92</td>\n",
       "      <td>5.0</td>\n",
       "      <td>2.64</td>\n",
       "      <td>2.33</td>\n",
       "      <td>...</td>\n",
       "      <td>1.74</td>\n",
       "      <td>0.59</td>\n",
       "      <td>0.5</td>\n",
       "      <td>0.0</td>\n",
       "      <td>0.5</td>\n",
       "      <td>0.0</td>\n",
       "      <td>0.0</td>\n",
       "      <td>0.0</td>\n",
       "      <td>0.0</td>\n",
       "      <td>0.0</td>\n",
       "    </tr>\n",
       "    <tr>\n",
       "      <th>2</th>\n",
       "      <td>User 3</td>\n",
       "      <td>0.0</td>\n",
       "      <td>0.0</td>\n",
       "      <td>3.63</td>\n",
       "      <td>3.63</td>\n",
       "      <td>5.0</td>\n",
       "      <td>2.92</td>\n",
       "      <td>5.0</td>\n",
       "      <td>2.64</td>\n",
       "      <td>2.33</td>\n",
       "      <td>...</td>\n",
       "      <td>1.74</td>\n",
       "      <td>0.59</td>\n",
       "      <td>0.5</td>\n",
       "      <td>0.0</td>\n",
       "      <td>0.5</td>\n",
       "      <td>0.0</td>\n",
       "      <td>0.0</td>\n",
       "      <td>0.0</td>\n",
       "      <td>0.0</td>\n",
       "      <td>0.0</td>\n",
       "    </tr>\n",
       "    <tr>\n",
       "      <th>3</th>\n",
       "      <td>User 4</td>\n",
       "      <td>0.0</td>\n",
       "      <td>0.5</td>\n",
       "      <td>3.63</td>\n",
       "      <td>3.63</td>\n",
       "      <td>5.0</td>\n",
       "      <td>2.92</td>\n",
       "      <td>5.0</td>\n",
       "      <td>2.35</td>\n",
       "      <td>2.33</td>\n",
       "      <td>...</td>\n",
       "      <td>1.74</td>\n",
       "      <td>0.59</td>\n",
       "      <td>0.5</td>\n",
       "      <td>0.0</td>\n",
       "      <td>0.5</td>\n",
       "      <td>0.0</td>\n",
       "      <td>0.0</td>\n",
       "      <td>0.0</td>\n",
       "      <td>0.0</td>\n",
       "      <td>0.0</td>\n",
       "    </tr>\n",
       "    <tr>\n",
       "      <th>4</th>\n",
       "      <td>User 5</td>\n",
       "      <td>0.0</td>\n",
       "      <td>0.0</td>\n",
       "      <td>3.63</td>\n",
       "      <td>3.63</td>\n",
       "      <td>5.0</td>\n",
       "      <td>2.92</td>\n",
       "      <td>5.0</td>\n",
       "      <td>2.64</td>\n",
       "      <td>2.33</td>\n",
       "      <td>...</td>\n",
       "      <td>1.74</td>\n",
       "      <td>0.59</td>\n",
       "      <td>0.5</td>\n",
       "      <td>0.0</td>\n",
       "      <td>0.5</td>\n",
       "      <td>0.0</td>\n",
       "      <td>0.0</td>\n",
       "      <td>0.0</td>\n",
       "      <td>0.0</td>\n",
       "      <td>0.0</td>\n",
       "    </tr>\n",
       "  </tbody>\n",
       "</table>\n",
       "<p>5 rows × 25 columns</p>\n",
       "</div>"
      ],
      "text/plain": [
       "     User  Category 1  Category 2  Category 3  Category 4  Category 5  \\\n",
       "0  User 1         0.0         0.0        3.63        3.65         5.0   \n",
       "1  User 2         0.0         0.0        3.63        3.65         5.0   \n",
       "2  User 3         0.0         0.0        3.63        3.63         5.0   \n",
       "3  User 4         0.0         0.5        3.63        3.63         5.0   \n",
       "4  User 5         0.0         0.0        3.63        3.63         5.0   \n",
       "\n",
       "   Category 6  Category 7  Category 8  Category 9  ...  Category 15  \\\n",
       "0        2.92         5.0        2.35        2.33  ...         1.74   \n",
       "1        2.92         5.0        2.64        2.33  ...         1.74   \n",
       "2        2.92         5.0        2.64        2.33  ...         1.74   \n",
       "3        2.92         5.0        2.35        2.33  ...         1.74   \n",
       "4        2.92         5.0        2.64        2.33  ...         1.74   \n",
       "\n",
       "  Category 16  Category 17  Category 18  Category 19  Category 20  \\\n",
       "0        0.59          0.5          0.0          0.5          0.0   \n",
       "1        0.59          0.5          0.0          0.5          0.0   \n",
       "2        0.59          0.5          0.0          0.5          0.0   \n",
       "3        0.59          0.5          0.0          0.5          0.0   \n",
       "4        0.59          0.5          0.0          0.5          0.0   \n",
       "\n",
       "   Category 21  Category 22  Category 23  Category 24  \n",
       "0          0.0          0.0          0.0          0.0  \n",
       "1          0.0          0.0          0.0          0.0  \n",
       "2          0.0          0.0          0.0          0.0  \n",
       "3          0.0          0.0          0.0          0.0  \n",
       "4          0.0          0.0          0.0          0.0  \n",
       "\n",
       "[5 rows x 25 columns]"
      ]
     },
     "execution_count": 5,
     "metadata": {},
     "output_type": "execute_result"
    }
   ],
   "source": [
    "# Using drop() function to remove redundant feature\n",
    "data = raw_data.drop(['Unnamed: 25'] ,axis = 1)\n",
    "data.head()"
   ]
  },
  {
   "cell_type": "markdown",
   "id": "8d6eda3f",
   "metadata": {},
   "source": [
    "    Renaming features\n",
    "        To perform the action we will create list containing actual names of features"
   ]
  },
  {
   "cell_type": "code",
   "execution_count": 6,
   "id": "e1791cdd",
   "metadata": {
    "ExecuteTime": {
     "end_time": "2023-12-13T03:22:20.043537Z",
     "start_time": "2023-12-13T03:22:20.039852Z"
    }
   },
   "outputs": [],
   "source": [
    "column_names = ['user_id', 'churches', 'resorts', 'beaches', 'parks', \n",
    "                'theatres', 'museums', 'malls', 'zoo', 'restaurants', \n",
    "                'pubs_bars', 'local_services', 'burger_pizza_shops', \n",
    "                'hotels_other_lodgings', 'juice_bars', 'art_galleries', \n",
    "                'dance_clubs', 'swimming_pools', 'gyms', 'bakeries', \n",
    "                'beauty_spas', 'cafes', 'view_points', 'monuments', 'gardens']"
   ]
  },
  {
   "cell_type": "markdown",
   "id": "004ebe04",
   "metadata": {},
   "source": [
    "    Applying above columns names to dataframe columns"
   ]
  },
  {
   "cell_type": "code",
   "execution_count": 7,
   "id": "ef258aa7",
   "metadata": {
    "ExecuteTime": {
     "end_time": "2023-12-13T03:22:20.052426Z",
     "start_time": "2023-12-13T03:22:20.044538Z"
    }
   },
   "outputs": [],
   "source": [
    "data.columns = column_names"
   ]
  },
  {
   "cell_type": "markdown",
   "id": "e00cf9dd",
   "metadata": {},
   "source": [
    "    Checking if changes are applied or not"
   ]
  },
  {
   "cell_type": "code",
   "execution_count": 8,
   "id": "29062f21",
   "metadata": {
    "ExecuteTime": {
     "end_time": "2023-12-13T03:22:20.075579Z",
     "start_time": "2023-12-13T03:22:20.055423Z"
    }
   },
   "outputs": [
    {
     "data": {
      "text/html": [
       "<div>\n",
       "<style scoped>\n",
       "    .dataframe tbody tr th:only-of-type {\n",
       "        vertical-align: middle;\n",
       "    }\n",
       "\n",
       "    .dataframe tbody tr th {\n",
       "        vertical-align: top;\n",
       "    }\n",
       "\n",
       "    .dataframe thead th {\n",
       "        text-align: right;\n",
       "    }\n",
       "</style>\n",
       "<table border=\"1\" class=\"dataframe\">\n",
       "  <thead>\n",
       "    <tr style=\"text-align: right;\">\n",
       "      <th></th>\n",
       "      <th>user_id</th>\n",
       "      <th>churches</th>\n",
       "      <th>resorts</th>\n",
       "      <th>beaches</th>\n",
       "      <th>parks</th>\n",
       "      <th>theatres</th>\n",
       "      <th>museums</th>\n",
       "      <th>malls</th>\n",
       "      <th>zoo</th>\n",
       "      <th>restaurants</th>\n",
       "      <th>...</th>\n",
       "      <th>art_galleries</th>\n",
       "      <th>dance_clubs</th>\n",
       "      <th>swimming_pools</th>\n",
       "      <th>gyms</th>\n",
       "      <th>bakeries</th>\n",
       "      <th>beauty_spas</th>\n",
       "      <th>cafes</th>\n",
       "      <th>view_points</th>\n",
       "      <th>monuments</th>\n",
       "      <th>gardens</th>\n",
       "    </tr>\n",
       "  </thead>\n",
       "  <tbody>\n",
       "    <tr>\n",
       "      <th>0</th>\n",
       "      <td>User 1</td>\n",
       "      <td>0.0</td>\n",
       "      <td>0.0</td>\n",
       "      <td>3.63</td>\n",
       "      <td>3.65</td>\n",
       "      <td>5.0</td>\n",
       "      <td>2.92</td>\n",
       "      <td>5.0</td>\n",
       "      <td>2.35</td>\n",
       "      <td>2.33</td>\n",
       "      <td>...</td>\n",
       "      <td>1.74</td>\n",
       "      <td>0.59</td>\n",
       "      <td>0.5</td>\n",
       "      <td>0.0</td>\n",
       "      <td>0.5</td>\n",
       "      <td>0.0</td>\n",
       "      <td>0.0</td>\n",
       "      <td>0.0</td>\n",
       "      <td>0.0</td>\n",
       "      <td>0.0</td>\n",
       "    </tr>\n",
       "    <tr>\n",
       "      <th>1</th>\n",
       "      <td>User 2</td>\n",
       "      <td>0.0</td>\n",
       "      <td>0.0</td>\n",
       "      <td>3.63</td>\n",
       "      <td>3.65</td>\n",
       "      <td>5.0</td>\n",
       "      <td>2.92</td>\n",
       "      <td>5.0</td>\n",
       "      <td>2.64</td>\n",
       "      <td>2.33</td>\n",
       "      <td>...</td>\n",
       "      <td>1.74</td>\n",
       "      <td>0.59</td>\n",
       "      <td>0.5</td>\n",
       "      <td>0.0</td>\n",
       "      <td>0.5</td>\n",
       "      <td>0.0</td>\n",
       "      <td>0.0</td>\n",
       "      <td>0.0</td>\n",
       "      <td>0.0</td>\n",
       "      <td>0.0</td>\n",
       "    </tr>\n",
       "    <tr>\n",
       "      <th>2</th>\n",
       "      <td>User 3</td>\n",
       "      <td>0.0</td>\n",
       "      <td>0.0</td>\n",
       "      <td>3.63</td>\n",
       "      <td>3.63</td>\n",
       "      <td>5.0</td>\n",
       "      <td>2.92</td>\n",
       "      <td>5.0</td>\n",
       "      <td>2.64</td>\n",
       "      <td>2.33</td>\n",
       "      <td>...</td>\n",
       "      <td>1.74</td>\n",
       "      <td>0.59</td>\n",
       "      <td>0.5</td>\n",
       "      <td>0.0</td>\n",
       "      <td>0.5</td>\n",
       "      <td>0.0</td>\n",
       "      <td>0.0</td>\n",
       "      <td>0.0</td>\n",
       "      <td>0.0</td>\n",
       "      <td>0.0</td>\n",
       "    </tr>\n",
       "    <tr>\n",
       "      <th>3</th>\n",
       "      <td>User 4</td>\n",
       "      <td>0.0</td>\n",
       "      <td>0.5</td>\n",
       "      <td>3.63</td>\n",
       "      <td>3.63</td>\n",
       "      <td>5.0</td>\n",
       "      <td>2.92</td>\n",
       "      <td>5.0</td>\n",
       "      <td>2.35</td>\n",
       "      <td>2.33</td>\n",
       "      <td>...</td>\n",
       "      <td>1.74</td>\n",
       "      <td>0.59</td>\n",
       "      <td>0.5</td>\n",
       "      <td>0.0</td>\n",
       "      <td>0.5</td>\n",
       "      <td>0.0</td>\n",
       "      <td>0.0</td>\n",
       "      <td>0.0</td>\n",
       "      <td>0.0</td>\n",
       "      <td>0.0</td>\n",
       "    </tr>\n",
       "    <tr>\n",
       "      <th>4</th>\n",
       "      <td>User 5</td>\n",
       "      <td>0.0</td>\n",
       "      <td>0.0</td>\n",
       "      <td>3.63</td>\n",
       "      <td>3.63</td>\n",
       "      <td>5.0</td>\n",
       "      <td>2.92</td>\n",
       "      <td>5.0</td>\n",
       "      <td>2.64</td>\n",
       "      <td>2.33</td>\n",
       "      <td>...</td>\n",
       "      <td>1.74</td>\n",
       "      <td>0.59</td>\n",
       "      <td>0.5</td>\n",
       "      <td>0.0</td>\n",
       "      <td>0.5</td>\n",
       "      <td>0.0</td>\n",
       "      <td>0.0</td>\n",
       "      <td>0.0</td>\n",
       "      <td>0.0</td>\n",
       "      <td>0.0</td>\n",
       "    </tr>\n",
       "  </tbody>\n",
       "</table>\n",
       "<p>5 rows × 25 columns</p>\n",
       "</div>"
      ],
      "text/plain": [
       "  user_id  churches  resorts  beaches  parks  theatres  museums  malls   zoo  \\\n",
       "0  User 1       0.0      0.0     3.63   3.65       5.0     2.92    5.0  2.35   \n",
       "1  User 2       0.0      0.0     3.63   3.65       5.0     2.92    5.0  2.64   \n",
       "2  User 3       0.0      0.0     3.63   3.63       5.0     2.92    5.0  2.64   \n",
       "3  User 4       0.0      0.5     3.63   3.63       5.0     2.92    5.0  2.35   \n",
       "4  User 5       0.0      0.0     3.63   3.63       5.0     2.92    5.0  2.64   \n",
       "\n",
       "   restaurants  ...  art_galleries dance_clubs  swimming_pools  gyms  \\\n",
       "0         2.33  ...           1.74        0.59             0.5   0.0   \n",
       "1         2.33  ...           1.74        0.59             0.5   0.0   \n",
       "2         2.33  ...           1.74        0.59             0.5   0.0   \n",
       "3         2.33  ...           1.74        0.59             0.5   0.0   \n",
       "4         2.33  ...           1.74        0.59             0.5   0.0   \n",
       "\n",
       "   bakeries  beauty_spas  cafes  view_points  monuments  gardens  \n",
       "0       0.5          0.0    0.0          0.0        0.0      0.0  \n",
       "1       0.5          0.0    0.0          0.0        0.0      0.0  \n",
       "2       0.5          0.0    0.0          0.0        0.0      0.0  \n",
       "3       0.5          0.0    0.0          0.0        0.0      0.0  \n",
       "4       0.5          0.0    0.0          0.0        0.0      0.0  \n",
       "\n",
       "[5 rows x 25 columns]"
      ]
     },
     "execution_count": 8,
     "metadata": {},
     "output_type": "execute_result"
    }
   ],
   "source": [
    "data.head()"
   ]
  },
  {
   "cell_type": "markdown",
   "id": "582e3d4d",
   "metadata": {},
   "source": [
    "    Checking for data types of columns"
   ]
  },
  {
   "cell_type": "code",
   "execution_count": 9,
   "id": "e83336b0",
   "metadata": {
    "ExecuteTime": {
     "end_time": "2023-12-13T03:22:20.085340Z",
     "start_time": "2023-12-13T03:22:20.078577Z"
    }
   },
   "outputs": [
    {
     "data": {
      "text/plain": [
       "user_id                   object\n",
       "churches                 float64\n",
       "resorts                  float64\n",
       "beaches                  float64\n",
       "parks                    float64\n",
       "theatres                 float64\n",
       "museums                  float64\n",
       "malls                    float64\n",
       "zoo                      float64\n",
       "restaurants              float64\n",
       "pubs_bars                float64\n",
       "local_services            object\n",
       "burger_pizza_shops       float64\n",
       "hotels_other_lodgings    float64\n",
       "juice_bars               float64\n",
       "art_galleries            float64\n",
       "dance_clubs              float64\n",
       "swimming_pools           float64\n",
       "gyms                     float64\n",
       "bakeries                 float64\n",
       "beauty_spas              float64\n",
       "cafes                    float64\n",
       "view_points              float64\n",
       "monuments                float64\n",
       "gardens                  float64\n",
       "dtype: object"
      ]
     },
     "execution_count": 9,
     "metadata": {},
     "output_type": "execute_result"
    }
   ],
   "source": [
    "data.dtypes"
   ]
  },
  {
   "cell_type": "markdown",
   "id": "6af8192a",
   "metadata": {},
   "source": [
    "    We need to change data types local_services from categorical to numerical .\n",
    "        so we can perform distance metrics."
   ]
  },
  {
   "cell_type": "markdown",
   "id": "d96c1abe",
   "metadata": {},
   "source": [
    "    Column : local_services also knows as 'Category 11'"
   ]
  },
  {
   "cell_type": "code",
   "execution_count": 10,
   "id": "c3620a15",
   "metadata": {
    "ExecuteTime": {
     "end_time": "2023-12-13T03:22:20.096021Z",
     "start_time": "2023-12-13T03:22:20.086342Z"
    },
    "scrolled": true
   },
   "outputs": [
    {
     "data": {
      "text/plain": [
       "array(['1.7', '1.73', '1.71', '1.69', '1.67', '1.65', '1.66', '1.64',\n",
       "       '1.63', '5', '1.56', '1.55', '1.53', '1.52', '1.51', '1.5', '1.49',\n",
       "       '1.48', '1.46', '2.13', '2.12', '2.1', '2.09', '2.08', '2.07',\n",
       "       '2.06', '2.05', '2.04', '2.03', '2.01', '2', '1.98', '1.97',\n",
       "       '1.95', '1.93', '1.91', '1.9', '1.88', '1.86', '1.84', '1.83',\n",
       "       '1.81', '1.79', '1.77', '1.74', '1.72', '1.68', '1.61', '1.6',\n",
       "       '1.59', '1.58', '1.99', '2.47', '2.35', '2.48', '2.59', '3.39',\n",
       "       '2.31', '2.78', '2.79', '2.77', '2.76', '2.75', '2.74', '2.72',\n",
       "       '2.71', '2.69', '2.68', '2.66', '2.65', '2.63', '2.61', '2.57',\n",
       "       '2.55', '2.53', '2.51', '2.49', '1.94', '1.92', '1.82', '1.76',\n",
       "       '1.62', '4.08', '4.04', '4.02', '4.01', '4', '3.99', '3.98',\n",
       "       '3.96', '3.95', '3.94', '3.93', '3.91', '3.9', '3.88', '3.87',\n",
       "       '3.86', '3.84', '3.85', '2.17', '3', '2.99', '2.82', '2.83',\n",
       "       '2.81', '2.8', '2.73', '2.67', '2.64', '2.62', '2.54', '2.52',\n",
       "       '2.5', '2.02', '1.57', '1.54', '1.47', '1.87', '1.85', '1.78',\n",
       "       '2.6', '1.45', '1.43', '1.41', '1.39', '1.37', '1.36', '1.34',\n",
       "       '1.32', '1.3', '1.28', '1.26', '1.24', '1.22', '1.2', '1.18',\n",
       "       '1.16', '1.14', '1.12', '1.1', '1.08', '1.07', '1.05', '1.03',\n",
       "       '1.01', '0.99', '0.97', '0.96', '0.94', '0.92', '0.9', '0.88',\n",
       "       '0.87', '0.85', '0.83', '0.82', '0.84', '0.86', '3.35', '3.34',\n",
       "       '3.33', '3.32', '3.31', '3.3', '3.29', '3.28', '3.27', '3.26',\n",
       "       '3.25', '3.24', '3.22', '3.21', '3.19', '3.17', '3.16', '3.14',\n",
       "       '3.08', '3.06', '3.04', '3.02', '2.98', '2.97', '2.94', '2.92',\n",
       "       '2.91', '2.89', '2.87', '2.85', '2.7', '2.28', '2.26', '2.25',\n",
       "       '2.45', '2.43', '2.41', '2.39', '2.37', '2.34', '2.32', '2.3',\n",
       "       '2.24', '2.23', '2.21', '2.19', '2.18', '2.15', '2.14', '2.11',\n",
       "       '1.89', '1.75', '1.8', '1.44', '1.42', '1.17', '1.19', '1.35',\n",
       "       '1.38', '1.33', '1.31', '1.29', '1.27', '1.25', '1.23', '1.21',\n",
       "       '1.06', '1.04', '1.02', '1', '0.98', '0.95', '0.93', '0.91',\n",
       "       '4.95', '4.96', '3.07', '2.9', '2.88', '2.84', '2.22', '2.29',\n",
       "       '2.27', '2.2', '1.96', '3.82', '3.11', '2.93', '2.16', '3.74',\n",
       "       '3.72', '2.58', '2.44', '2.42', '2.4', '2.33', '1.4', '1.09',\n",
       "       '3.15', '3.13', '3.12', '3.1', '3.09', '2.96', '2.95', '2.86',\n",
       "       '2.38', '2.36', '3.56', '0.89', '0.81', '4.98', '3.4', '4.06',\n",
       "       '4.05', '4.03', '3.97', '3.03', '3.01', '3.18', '1.15', '1.13',\n",
       "       '1.11', '3.23', '2.46', '2\\t2.', '0.8', '4.94', '3.92', '3.2',\n",
       "       '3.05', '0.79', '0.78', '4.09', '4.97', '2.56', '3.54'],\n",
       "      dtype=object)"
      ]
     },
     "execution_count": 10,
     "metadata": {},
     "output_type": "execute_result"
    }
   ],
   "source": [
    "raw_data['Category 11'].unique()"
   ]
  },
  {
   "cell_type": "code",
   "execution_count": 11,
   "id": "632c96c8",
   "metadata": {
    "ExecuteTime": {
     "end_time": "2023-12-13T03:22:20.105344Z",
     "start_time": "2023-12-13T03:22:20.098020Z"
    }
   },
   "outputs": [
    {
     "data": {
      "text/plain": [
       "local_services\n",
       "2\\t2.    1\n",
       "Name: count, dtype: int64"
      ]
     },
     "execution_count": 11,
     "metadata": {},
     "output_type": "execute_result"
    }
   ],
   "source": [
    "# Get how many local services is invalid as '2\\t2.'\n",
    "data[data['local_services'] == '2\\t2.']['local_services'].value_counts()"
   ]
  },
  {
   "cell_type": "code",
   "execution_count": 12,
   "id": "6b42431f",
   "metadata": {
    "ExecuteTime": {
     "end_time": "2023-12-13T03:22:20.115499Z",
     "start_time": "2023-12-13T03:22:20.106344Z"
    },
    "scrolled": true
   },
   "outputs": [
    {
     "data": {
      "text/plain": [
       "2712    2\\t2.\n",
       "Name: local_services, dtype: object"
      ]
     },
     "execution_count": 12,
     "metadata": {},
     "output_type": "execute_result"
    }
   ],
   "source": [
    "# Get row number where local services is invalid\n",
    "data[data['local_services'] == '2\\t2.']['local_services']"
   ]
  },
  {
   "cell_type": "code",
   "execution_count": 13,
   "id": "28ef3f60",
   "metadata": {
    "ExecuteTime": {
     "end_time": "2023-12-13T03:22:20.124847Z",
     "start_time": "2023-12-13T03:22:20.116499Z"
    }
   },
   "outputs": [],
   "source": [
    "data = data.drop(data[data['local_services'] == '2\\t2.'].index)"
   ]
  },
  {
   "cell_type": "code",
   "execution_count": 14,
   "id": "581b170b",
   "metadata": {
    "ExecuteTime": {
     "end_time": "2023-12-13T03:22:20.134073Z",
     "start_time": "2023-12-13T03:22:20.125847Z"
    }
   },
   "outputs": [],
   "source": [
    "data['local_services'] = pd.to_numeric(data['local_services'],errors = 'coerce')"
   ]
  },
  {
   "cell_type": "markdown",
   "id": "0aa15a83",
   "metadata": {},
   "source": [
    "    All the features are numeric except the user_id as it is categorical in nature."
   ]
  },
  {
   "cell_type": "code",
   "execution_count": 15,
   "id": "4373dd0d",
   "metadata": {
    "ExecuteTime": {
     "end_time": "2023-12-13T03:22:20.144794Z",
     "start_time": "2023-12-13T03:22:20.136072Z"
    }
   },
   "outputs": [],
   "source": [
    "data_manipulated = data.copy(deep =True ) # Creating a copy of dataframe"
   ]
  },
  {
   "cell_type": "markdown",
   "id": "1d4ce074",
   "metadata": {},
   "source": [
    "# Statistical Summary"
   ]
  },
  {
   "cell_type": "code",
   "execution_count": 16,
   "id": "62c6566d",
   "metadata": {
    "ExecuteTime": {
     "end_time": "2023-12-13T03:22:20.192589Z",
     "start_time": "2023-12-13T03:22:20.145795Z"
    }
   },
   "outputs": [
    {
     "data": {
      "text/html": [
       "<div>\n",
       "<style scoped>\n",
       "    .dataframe tbody tr th:only-of-type {\n",
       "        vertical-align: middle;\n",
       "    }\n",
       "\n",
       "    .dataframe tbody tr th {\n",
       "        vertical-align: top;\n",
       "    }\n",
       "\n",
       "    .dataframe thead th {\n",
       "        text-align: right;\n",
       "    }\n",
       "</style>\n",
       "<table border=\"1\" class=\"dataframe\">\n",
       "  <thead>\n",
       "    <tr style=\"text-align: right;\">\n",
       "      <th></th>\n",
       "      <th>churches</th>\n",
       "      <th>resorts</th>\n",
       "      <th>beaches</th>\n",
       "      <th>parks</th>\n",
       "      <th>theatres</th>\n",
       "      <th>museums</th>\n",
       "      <th>malls</th>\n",
       "      <th>zoo</th>\n",
       "      <th>restaurants</th>\n",
       "      <th>pubs_bars</th>\n",
       "      <th>...</th>\n",
       "      <th>art_galleries</th>\n",
       "      <th>dance_clubs</th>\n",
       "      <th>swimming_pools</th>\n",
       "      <th>gyms</th>\n",
       "      <th>bakeries</th>\n",
       "      <th>beauty_spas</th>\n",
       "      <th>cafes</th>\n",
       "      <th>view_points</th>\n",
       "      <th>monuments</th>\n",
       "      <th>gardens</th>\n",
       "    </tr>\n",
       "  </thead>\n",
       "  <tbody>\n",
       "    <tr>\n",
       "      <th>count</th>\n",
       "      <td>5455.000000</td>\n",
       "      <td>5455.000000</td>\n",
       "      <td>5455.000000</td>\n",
       "      <td>5455.000000</td>\n",
       "      <td>5455.000000</td>\n",
       "      <td>5455.000000</td>\n",
       "      <td>5455.000000</td>\n",
       "      <td>5455.000000</td>\n",
       "      <td>5455.000000</td>\n",
       "      <td>5455.000000</td>\n",
       "      <td>...</td>\n",
       "      <td>5455.000000</td>\n",
       "      <td>5455.000000</td>\n",
       "      <td>5455.000000</td>\n",
       "      <td>5455.000000</td>\n",
       "      <td>5455.000000</td>\n",
       "      <td>5455.000000</td>\n",
       "      <td>5455.000000</td>\n",
       "      <td>5455.000000</td>\n",
       "      <td>5455.000000</td>\n",
       "      <td>5454.000000</td>\n",
       "    </tr>\n",
       "    <tr>\n",
       "      <th>mean</th>\n",
       "      <td>1.455674</td>\n",
       "      <td>2.319824</td>\n",
       "      <td>2.489520</td>\n",
       "      <td>2.797192</td>\n",
       "      <td>2.959278</td>\n",
       "      <td>2.893809</td>\n",
       "      <td>3.351778</td>\n",
       "      <td>2.541047</td>\n",
       "      <td>3.126301</td>\n",
       "      <td>2.833093</td>\n",
       "      <td>...</td>\n",
       "      <td>2.206060</td>\n",
       "      <td>1.192821</td>\n",
       "      <td>0.949175</td>\n",
       "      <td>0.822374</td>\n",
       "      <td>0.969072</td>\n",
       "      <td>0.999443</td>\n",
       "      <td>0.965098</td>\n",
       "      <td>1.749941</td>\n",
       "      <td>1.530818</td>\n",
       "      <td>1.560570</td>\n",
       "    </tr>\n",
       "    <tr>\n",
       "      <th>std</th>\n",
       "      <td>0.827673</td>\n",
       "      <td>1.421542</td>\n",
       "      <td>1.247852</td>\n",
       "      <td>1.309084</td>\n",
       "      <td>1.338948</td>\n",
       "      <td>1.282301</td>\n",
       "      <td>1.413338</td>\n",
       "      <td>1.111338</td>\n",
       "      <td>1.356767</td>\n",
       "      <td>1.307509</td>\n",
       "      <td>...</td>\n",
       "      <td>1.715701</td>\n",
       "      <td>1.107105</td>\n",
       "      <td>0.973623</td>\n",
       "      <td>0.947993</td>\n",
       "      <td>1.202844</td>\n",
       "      <td>1.193097</td>\n",
       "      <td>0.928332</td>\n",
       "      <td>1.598275</td>\n",
       "      <td>1.316172</td>\n",
       "      <td>1.171784</td>\n",
       "    </tr>\n",
       "    <tr>\n",
       "      <th>min</th>\n",
       "      <td>0.000000</td>\n",
       "      <td>0.000000</td>\n",
       "      <td>0.000000</td>\n",
       "      <td>0.830000</td>\n",
       "      <td>1.120000</td>\n",
       "      <td>1.110000</td>\n",
       "      <td>1.120000</td>\n",
       "      <td>0.860000</td>\n",
       "      <td>0.840000</td>\n",
       "      <td>0.810000</td>\n",
       "      <td>...</td>\n",
       "      <td>0.000000</td>\n",
       "      <td>0.000000</td>\n",
       "      <td>0.000000</td>\n",
       "      <td>0.000000</td>\n",
       "      <td>0.000000</td>\n",
       "      <td>0.000000</td>\n",
       "      <td>0.000000</td>\n",
       "      <td>0.000000</td>\n",
       "      <td>0.000000</td>\n",
       "      <td>0.000000</td>\n",
       "    </tr>\n",
       "    <tr>\n",
       "      <th>25%</th>\n",
       "      <td>0.920000</td>\n",
       "      <td>1.360000</td>\n",
       "      <td>1.540000</td>\n",
       "      <td>1.730000</td>\n",
       "      <td>1.770000</td>\n",
       "      <td>1.790000</td>\n",
       "      <td>1.930000</td>\n",
       "      <td>1.620000</td>\n",
       "      <td>1.800000</td>\n",
       "      <td>1.640000</td>\n",
       "      <td>...</td>\n",
       "      <td>0.860000</td>\n",
       "      <td>0.690000</td>\n",
       "      <td>0.580000</td>\n",
       "      <td>0.530000</td>\n",
       "      <td>0.520000</td>\n",
       "      <td>0.540000</td>\n",
       "      <td>0.570000</td>\n",
       "      <td>0.740000</td>\n",
       "      <td>0.790000</td>\n",
       "      <td>0.880000</td>\n",
       "    </tr>\n",
       "    <tr>\n",
       "      <th>50%</th>\n",
       "      <td>1.340000</td>\n",
       "      <td>1.910000</td>\n",
       "      <td>2.060000</td>\n",
       "      <td>2.460000</td>\n",
       "      <td>2.670000</td>\n",
       "      <td>2.680000</td>\n",
       "      <td>3.230000</td>\n",
       "      <td>2.170000</td>\n",
       "      <td>2.800000</td>\n",
       "      <td>2.680000</td>\n",
       "      <td>...</td>\n",
       "      <td>1.330000</td>\n",
       "      <td>0.800000</td>\n",
       "      <td>0.740000</td>\n",
       "      <td>0.690000</td>\n",
       "      <td>0.690000</td>\n",
       "      <td>0.690000</td>\n",
       "      <td>0.760000</td>\n",
       "      <td>1.030000</td>\n",
       "      <td>1.070000</td>\n",
       "      <td>1.290000</td>\n",
       "    </tr>\n",
       "    <tr>\n",
       "      <th>75%</th>\n",
       "      <td>1.810000</td>\n",
       "      <td>2.685000</td>\n",
       "      <td>2.740000</td>\n",
       "      <td>4.095000</td>\n",
       "      <td>4.315000</td>\n",
       "      <td>3.840000</td>\n",
       "      <td>5.000000</td>\n",
       "      <td>3.190000</td>\n",
       "      <td>5.000000</td>\n",
       "      <td>3.530000</td>\n",
       "      <td>...</td>\n",
       "      <td>4.440000</td>\n",
       "      <td>1.160000</td>\n",
       "      <td>0.910000</td>\n",
       "      <td>0.840000</td>\n",
       "      <td>0.860000</td>\n",
       "      <td>0.860000</td>\n",
       "      <td>1.000000</td>\n",
       "      <td>2.070000</td>\n",
       "      <td>1.560000</td>\n",
       "      <td>1.660000</td>\n",
       "    </tr>\n",
       "    <tr>\n",
       "      <th>max</th>\n",
       "      <td>5.000000</td>\n",
       "      <td>5.000000</td>\n",
       "      <td>5.000000</td>\n",
       "      <td>5.000000</td>\n",
       "      <td>5.000000</td>\n",
       "      <td>5.000000</td>\n",
       "      <td>5.000000</td>\n",
       "      <td>5.000000</td>\n",
       "      <td>5.000000</td>\n",
       "      <td>5.000000</td>\n",
       "      <td>...</td>\n",
       "      <td>5.000000</td>\n",
       "      <td>5.000000</td>\n",
       "      <td>5.000000</td>\n",
       "      <td>5.000000</td>\n",
       "      <td>5.000000</td>\n",
       "      <td>5.000000</td>\n",
       "      <td>5.000000</td>\n",
       "      <td>5.000000</td>\n",
       "      <td>5.000000</td>\n",
       "      <td>5.000000</td>\n",
       "    </tr>\n",
       "  </tbody>\n",
       "</table>\n",
       "<p>8 rows × 24 columns</p>\n",
       "</div>"
      ],
      "text/plain": [
       "          churches      resorts      beaches        parks     theatres  \\\n",
       "count  5455.000000  5455.000000  5455.000000  5455.000000  5455.000000   \n",
       "mean      1.455674     2.319824     2.489520     2.797192     2.959278   \n",
       "std       0.827673     1.421542     1.247852     1.309084     1.338948   \n",
       "min       0.000000     0.000000     0.000000     0.830000     1.120000   \n",
       "25%       0.920000     1.360000     1.540000     1.730000     1.770000   \n",
       "50%       1.340000     1.910000     2.060000     2.460000     2.670000   \n",
       "75%       1.810000     2.685000     2.740000     4.095000     4.315000   \n",
       "max       5.000000     5.000000     5.000000     5.000000     5.000000   \n",
       "\n",
       "           museums        malls          zoo  restaurants    pubs_bars  ...  \\\n",
       "count  5455.000000  5455.000000  5455.000000  5455.000000  5455.000000  ...   \n",
       "mean      2.893809     3.351778     2.541047     3.126301     2.833093  ...   \n",
       "std       1.282301     1.413338     1.111338     1.356767     1.307509  ...   \n",
       "min       1.110000     1.120000     0.860000     0.840000     0.810000  ...   \n",
       "25%       1.790000     1.930000     1.620000     1.800000     1.640000  ...   \n",
       "50%       2.680000     3.230000     2.170000     2.800000     2.680000  ...   \n",
       "75%       3.840000     5.000000     3.190000     5.000000     3.530000  ...   \n",
       "max       5.000000     5.000000     5.000000     5.000000     5.000000  ...   \n",
       "\n",
       "       art_galleries  dance_clubs  swimming_pools         gyms     bakeries  \\\n",
       "count    5455.000000  5455.000000     5455.000000  5455.000000  5455.000000   \n",
       "mean        2.206060     1.192821        0.949175     0.822374     0.969072   \n",
       "std         1.715701     1.107105        0.973623     0.947993     1.202844   \n",
       "min         0.000000     0.000000        0.000000     0.000000     0.000000   \n",
       "25%         0.860000     0.690000        0.580000     0.530000     0.520000   \n",
       "50%         1.330000     0.800000        0.740000     0.690000     0.690000   \n",
       "75%         4.440000     1.160000        0.910000     0.840000     0.860000   \n",
       "max         5.000000     5.000000        5.000000     5.000000     5.000000   \n",
       "\n",
       "       beauty_spas        cafes  view_points    monuments      gardens  \n",
       "count  5455.000000  5455.000000  5455.000000  5455.000000  5454.000000  \n",
       "mean      0.999443     0.965098     1.749941     1.530818     1.560570  \n",
       "std       1.193097     0.928332     1.598275     1.316172     1.171784  \n",
       "min       0.000000     0.000000     0.000000     0.000000     0.000000  \n",
       "25%       0.540000     0.570000     0.740000     0.790000     0.880000  \n",
       "50%       0.690000     0.760000     1.030000     1.070000     1.290000  \n",
       "75%       0.860000     1.000000     2.070000     1.560000     1.660000  \n",
       "max       5.000000     5.000000     5.000000     5.000000     5.000000  \n",
       "\n",
       "[8 rows x 24 columns]"
      ]
     },
     "execution_count": 16,
     "metadata": {},
     "output_type": "execute_result"
    }
   ],
   "source": [
    "# data frame with numerical features\n",
    "data_manipulated.describe()"
   ]
  },
  {
   "cell_type": "code",
   "execution_count": 17,
   "id": "1c93d0cf",
   "metadata": {
    "ExecuteTime": {
     "end_time": "2023-12-13T03:22:20.202224Z",
     "start_time": "2023-12-13T03:22:20.193590Z"
    }
   },
   "outputs": [
    {
     "data": {
      "text/html": [
       "<div>\n",
       "<style scoped>\n",
       "    .dataframe tbody tr th:only-of-type {\n",
       "        vertical-align: middle;\n",
       "    }\n",
       "\n",
       "    .dataframe tbody tr th {\n",
       "        vertical-align: top;\n",
       "    }\n",
       "\n",
       "    .dataframe thead th {\n",
       "        text-align: right;\n",
       "    }\n",
       "</style>\n",
       "<table border=\"1\" class=\"dataframe\">\n",
       "  <thead>\n",
       "    <tr style=\"text-align: right;\">\n",
       "      <th></th>\n",
       "      <th>user_id</th>\n",
       "    </tr>\n",
       "  </thead>\n",
       "  <tbody>\n",
       "    <tr>\n",
       "      <th>count</th>\n",
       "      <td>5455</td>\n",
       "    </tr>\n",
       "    <tr>\n",
       "      <th>unique</th>\n",
       "      <td>5455</td>\n",
       "    </tr>\n",
       "    <tr>\n",
       "      <th>top</th>\n",
       "      <td>User 1</td>\n",
       "    </tr>\n",
       "    <tr>\n",
       "      <th>freq</th>\n",
       "      <td>1</td>\n",
       "    </tr>\n",
       "  </tbody>\n",
       "</table>\n",
       "</div>"
      ],
      "text/plain": [
       "       user_id\n",
       "count     5455\n",
       "unique    5455\n",
       "top     User 1\n",
       "freq         1"
      ]
     },
     "execution_count": 17,
     "metadata": {},
     "output_type": "execute_result"
    }
   ],
   "source": [
    "# data frame with categorical features\n",
    "data.describe(include='object')"
   ]
  },
  {
   "cell_type": "markdown",
   "id": "32a71d6b",
   "metadata": {},
   "source": [
    "# Handling Missing Values"
   ]
  },
  {
   "cell_type": "markdown",
   "id": "d5afed95",
   "metadata": {},
   "source": [
    "    If the missing values are not handled properly we may end up drawing an inaccurate inference about the data. Due to improper handling, the result obtained will differ from the ones where the missing values are present."
   ]
  },
  {
   "cell_type": "code",
   "execution_count": 18,
   "id": "25dd652c",
   "metadata": {
    "ExecuteTime": {
     "end_time": "2023-12-13T03:22:20.209189Z",
     "start_time": "2023-12-13T03:22:20.203224Z"
    }
   },
   "outputs": [
    {
     "name": "stdout",
     "output_type": "stream",
     "text": [
      "user_id                  0\n",
      "churches                 0\n",
      "resorts                  0\n",
      "beaches                  0\n",
      "parks                    0\n",
      "theatres                 0\n",
      "museums                  0\n",
      "malls                    0\n",
      "zoo                      0\n",
      "restaurants              0\n",
      "pubs_bars                0\n",
      "local_services           0\n",
      "burger_pizza_shops       0\n",
      "hotels_other_lodgings    0\n",
      "juice_bars               0\n",
      "art_galleries            0\n",
      "dance_clubs              0\n",
      "swimming_pools           0\n",
      "gyms                     0\n",
      "bakeries                 0\n",
      "beauty_spas              0\n",
      "cafes                    0\n",
      "view_points              0\n",
      "monuments                0\n",
      "gardens                  1\n",
      "dtype: int64\n"
     ]
    }
   ],
   "source": [
    "# get the count of missing values\n",
    "missing_values = data_manipulated.isnull().sum()\n",
    "\n",
    "# print the count of missing values\n",
    "print(missing_values)"
   ]
  },
  {
   "cell_type": "markdown",
   "id": "f388ba21",
   "metadata": {},
   "source": [
    "    There is only one missing value, so replacing it with mean"
   ]
  },
  {
   "cell_type": "code",
   "execution_count": 19,
   "id": "7af7c638",
   "metadata": {
    "ExecuteTime": {
     "end_time": "2023-12-13T03:22:20.232341Z",
     "start_time": "2023-12-13T03:22:20.211188Z"
    },
    "scrolled": false
   },
   "outputs": [
    {
     "data": {
      "text/html": [
       "<div>\n",
       "<style scoped>\n",
       "    .dataframe tbody tr th:only-of-type {\n",
       "        vertical-align: middle;\n",
       "    }\n",
       "\n",
       "    .dataframe tbody tr th {\n",
       "        vertical-align: top;\n",
       "    }\n",
       "\n",
       "    .dataframe thead th {\n",
       "        text-align: right;\n",
       "    }\n",
       "</style>\n",
       "<table border=\"1\" class=\"dataframe\">\n",
       "  <thead>\n",
       "    <tr style=\"text-align: right;\">\n",
       "      <th></th>\n",
       "      <th>user_id</th>\n",
       "      <th>churches</th>\n",
       "      <th>resorts</th>\n",
       "      <th>beaches</th>\n",
       "      <th>parks</th>\n",
       "      <th>theatres</th>\n",
       "      <th>museums</th>\n",
       "      <th>malls</th>\n",
       "      <th>zoo</th>\n",
       "      <th>restaurants</th>\n",
       "      <th>...</th>\n",
       "      <th>art_galleries</th>\n",
       "      <th>dance_clubs</th>\n",
       "      <th>swimming_pools</th>\n",
       "      <th>gyms</th>\n",
       "      <th>bakeries</th>\n",
       "      <th>beauty_spas</th>\n",
       "      <th>cafes</th>\n",
       "      <th>view_points</th>\n",
       "      <th>monuments</th>\n",
       "      <th>gardens</th>\n",
       "    </tr>\n",
       "  </thead>\n",
       "  <tbody>\n",
       "    <tr>\n",
       "      <th>1347</th>\n",
       "      <td>User 1348</td>\n",
       "      <td>1.06</td>\n",
       "      <td>1.1</td>\n",
       "      <td>5.0</td>\n",
       "      <td>3.28</td>\n",
       "      <td>5.0</td>\n",
       "      <td>5.0</td>\n",
       "      <td>5.0</td>\n",
       "      <td>1.83</td>\n",
       "      <td>1.81</td>\n",
       "      <td>...</td>\n",
       "      <td>1.77</td>\n",
       "      <td>1.8</td>\n",
       "      <td>0.0</td>\n",
       "      <td>0.0</td>\n",
       "      <td>0.0</td>\n",
       "      <td>0.0</td>\n",
       "      <td>0.0</td>\n",
       "      <td>5.0</td>\n",
       "      <td>0.26</td>\n",
       "      <td>NaN</td>\n",
       "    </tr>\n",
       "  </tbody>\n",
       "</table>\n",
       "<p>1 rows × 25 columns</p>\n",
       "</div>"
      ],
      "text/plain": [
       "        user_id  churches  resorts  beaches  parks  theatres  museums  malls  \\\n",
       "1347  User 1348      1.06      1.1      5.0   3.28       5.0      5.0    5.0   \n",
       "\n",
       "       zoo  restaurants  ...  art_galleries  dance_clubs  swimming_pools  \\\n",
       "1347  1.83         1.81  ...           1.77          1.8             0.0   \n",
       "\n",
       "      gyms  bakeries  beauty_spas  cafes  view_points  monuments  gardens  \n",
       "1347   0.0       0.0          0.0    0.0          5.0       0.26      NaN  \n",
       "\n",
       "[1 rows x 25 columns]"
      ]
     },
     "execution_count": 19,
     "metadata": {},
     "output_type": "execute_result"
    }
   ],
   "source": [
    "data_manipulated[data_manipulated['gardens'].isna()]"
   ]
  },
  {
   "cell_type": "code",
   "execution_count": 20,
   "id": "5a65b350",
   "metadata": {
    "ExecuteTime": {
     "end_time": "2023-12-13T03:22:20.241652Z",
     "start_time": "2023-12-13T03:22:20.233342Z"
    }
   },
   "outputs": [],
   "source": [
    "data_no_missing = data_manipulated.drop(index=1347)"
   ]
  },
  {
   "cell_type": "code",
   "execution_count": 21,
   "id": "dce6aff8",
   "metadata": {
    "ExecuteTime": {
     "end_time": "2023-12-13T03:22:20.250674Z",
     "start_time": "2023-12-13T03:22:20.242652Z"
    }
   },
   "outputs": [
    {
     "name": "stdout",
     "output_type": "stream",
     "text": [
      "user_id                  0\n",
      "churches                 0\n",
      "resorts                  0\n",
      "beaches                  0\n",
      "parks                    0\n",
      "theatres                 0\n",
      "museums                  0\n",
      "malls                    0\n",
      "zoo                      0\n",
      "restaurants              0\n",
      "pubs_bars                0\n",
      "local_services           0\n",
      "burger_pizza_shops       0\n",
      "hotels_other_lodgings    0\n",
      "juice_bars               0\n",
      "art_galleries            0\n",
      "dance_clubs              0\n",
      "swimming_pools           0\n",
      "gyms                     0\n",
      "bakeries                 0\n",
      "beauty_spas              0\n",
      "cafes                    0\n",
      "view_points              0\n",
      "monuments                0\n",
      "gardens                  0\n",
      "dtype: int64\n"
     ]
    }
   ],
   "source": [
    "# Rechecking missing values\n",
    "missing_values = data_no_missing.isnull().sum()\n",
    "\n",
    "# print the count of missing values\n",
    "print(missing_values)"
   ]
  },
  {
   "cell_type": "markdown",
   "id": "f8b73d28",
   "metadata": {},
   "source": [
    "# Exploratory Data Analysis"
   ]
  },
  {
   "cell_type": "code",
   "execution_count": 22,
   "id": "ecda1ac5",
   "metadata": {
    "ExecuteTime": {
     "end_time": "2023-12-13T03:22:23.494218Z",
     "start_time": "2023-12-13T03:22:20.251676Z"
    }
   },
   "outputs": [
    {
     "data": {
      "image/png": "[encoded data removed]",
      "text/plain": [
       "<Figure size 1800x1800 with 25 Axes>"
      ]
     },
     "metadata": {},
     "output_type": "display_data"
    }
   ],
   "source": [
    "fig = data_no_missing.hist(figsize = (18,18))"
   ]
  },
  {
   "cell_type": "markdown",
   "id": "6af9489d",
   "metadata": {},
   "source": [
    "    Lets check if users have rated all the features"
   ]
  },
  {
   "cell_type": "code",
   "execution_count": 23,
   "id": "c67f9d54",
   "metadata": {
    "ExecuteTime": {
     "end_time": "2023-12-13T03:22:23.532868Z",
     "start_time": "2023-12-13T03:22:23.496215Z"
    }
   },
   "outputs": [
    {
     "data": {
      "text/plain": [
       "parks                    True\n",
       "theatres                 True\n",
       "museums                  True\n",
       "malls                    True\n",
       "zoo                      True\n",
       "restaurants              True\n",
       "pubs_bars                True\n",
       "local_services           True\n",
       "burger_pizza_shops       True\n",
       "hotels_other_lodgings    True\n",
       "juice_bars               True\n",
       "Name: min, dtype: bool"
      ]
     },
     "execution_count": 23,
     "metadata": {},
     "output_type": "execute_result"
    }
   ],
   "source": [
    "data_description = data_no_missing.describe() \n",
    "rated = data_description.loc['min'] > 0\n",
    "rated[rated]"
   ]
  },
  {
   "cell_type": "markdown",
   "id": "a0e48b5a",
   "metadata": {},
   "source": [
    "    The above 11 features have been given a rating by all the users as the minimum value is greater than 0"
   ]
  },
  {
   "cell_type": "markdown",
   "id": "c55d5b22",
   "metadata": {},
   "source": [
    "    Visualizing number of reviews for each category"
   ]
  },
  {
   "cell_type": "code",
   "execution_count": 24,
   "id": "018143f3",
   "metadata": {
    "ExecuteTime": {
     "end_time": "2023-12-13T03:22:23.541816Z",
     "start_time": "2023-12-13T03:22:23.533882Z"
    }
   },
   "outputs": [
    {
     "data": {
      "text/plain": [
       "bakeries                 4409\n",
       "gyms                     4438\n",
       "beauty_spas              4559\n",
       "cafes                    4851\n",
       "swimming_pools           4976\n",
       "view_points              5109\n",
       "monuments                5152\n",
       "gardens                  5229\n",
       "churches                 5259\n",
       "dance_clubs              5342\n",
       "resorts                  5364\n",
       "art_galleries            5450\n",
       "beaches                  5450\n",
       "pubs_bars                5454\n",
       "local_services           5454\n",
       "zoo                      5454\n",
       "hotels_other_lodgings    5454\n",
       "juice_bars               5454\n",
       "malls                    5454\n",
       "museums                  5454\n",
       "theatres                 5454\n",
       "parks                    5454\n",
       "restaurants              5454\n",
       "burger_pizza_shops       5454\n",
       "dtype: int64"
      ]
     },
     "execution_count": 24,
     "metadata": {},
     "output_type": "execute_result"
    }
   ],
   "source": [
    "# Creating the dataframe containg number of review for each feature\n",
    "reviews = data_no_missing[column_names[1:]].astype(bool).sum(axis=0).sort_values()\n",
    "reviews"
   ]
  },
  {
   "cell_type": "code",
   "execution_count": 25,
   "id": "51c5e460",
   "metadata": {
    "ExecuteTime": {
     "end_time": "2023-12-13T03:22:23.549059Z",
     "start_time": "2023-12-13T03:22:23.542816Z"
    }
   },
   "outputs": [
    {
     "data": {
      "text/plain": [
       "array(['user_id', 'churches', 'resorts', 'beaches', 'parks', 'theatres',\n",
       "       'museums', 'malls', 'zoo', 'restaurants', 'pubs_bars',\n",
       "       'local_services', 'burger_pizza_shops', 'hotels_other_lodgings',\n",
       "       'juice_bars', 'art_galleries', 'dance_clubs', 'swimming_pools',\n",
       "       'gyms', 'bakeries', 'beauty_spas', 'cafes', 'view_points',\n",
       "       'monuments', 'gardens'], dtype=object)"
      ]
     },
     "execution_count": 25,
     "metadata": {},
     "output_type": "execute_result"
    }
   ],
   "source": [
    "column_names = data_no_missing.columns.values\n",
    "column_names"
   ]
  },
  {
   "cell_type": "code",
   "execution_count": 26,
   "id": "e62c7104",
   "metadata": {
    "ExecuteTime": {
     "end_time": "2023-12-13T03:22:23.854226Z",
     "start_time": "2023-12-13T03:22:23.551065Z"
    }
   },
   "outputs": [
    {
     "data": {
      "text/plain": [
       "Text(0.5, 1.0, 'No of reviews under each category')"
      ]
     },
     "execution_count": 26,
     "metadata": {},
     "output_type": "execute_result"
    },
    {
     "data": {
      "image/png": "[encoded data removed]",
      "text/plain": [
       "<Figure size 1000x700 with 1 Axes>"
      ]
     },
     "metadata": {},
     "output_type": "display_data"
    }
   ],
   "source": [
    "plt.figure(figsize=(10,7))\n",
    "plt.barh(np.arange(len(column_names[1:])), reviews.values, align='center', alpha=0.5)\n",
    "plt.yticks(np.arange(len(column_names[1:])), reviews.index)\n",
    "plt.xlabel('No of reviews')\n",
    "plt.ylabel('Categories')\n",
    "plt.title('No of reviews under each category')"
   ]
  },
  {
   "cell_type": "markdown",
   "id": "9bea1521",
   "metadata": {},
   "source": [
    "    Now let's check how many users have given reviews to the features"
   ]
  },
  {
   "cell_type": "code",
   "execution_count": 27,
   "id": "c69800c9",
   "metadata": {
    "ExecuteTime": {
     "end_time": "2023-12-13T03:22:23.866576Z",
     "start_time": "2023-12-13T03:22:23.858250Z"
    }
   },
   "outputs": [
    {
     "data": {
      "text/plain": [
       "24    3724\n",
       "23     505\n",
       "21     457\n",
       "20     243\n",
       "22     167\n",
       "19     147\n",
       "18     114\n",
       "17      69\n",
       "16      22\n",
       "15       6\n",
       "Name: count, dtype: int64"
      ]
     },
     "execution_count": 27,
     "metadata": {},
     "output_type": "execute_result"
    }
   ],
   "source": [
    "# Creating a dataframe to store number of reviews by users\n",
    "no_of_reviews = data_no_missing[column_names[1:]].astype(bool).sum(axis=1).value_counts()\n",
    "no_of_reviews"
   ]
  },
  {
   "cell_type": "code",
   "execution_count": 28,
   "id": "957a1e9e",
   "metadata": {
    "ExecuteTime": {
     "end_time": "2023-12-13T03:22:24.055891Z",
     "start_time": "2023-12-13T03:22:23.868575Z"
    }
   },
   "outputs": [
    {
     "data": {
      "text/plain": [
       "Text(0.5, 1.0, 'No of Categories vs No of reviews')"
      ]
     },
     "execution_count": 28,
     "metadata": {},
     "output_type": "execute_result"
    },
    {
     "data": {
      "image/png": "[encoded data removed]",
      "text/plain": [
       "<Figure size 1000x700 with 1 Axes>"
      ]
     },
     "metadata": {},
     "output_type": "display_data"
    }
   ],
   "source": [
    "# Plotting the number of customers vs numbe of review\n",
    "plt.figure(figsize=(10,7))\n",
    "plt.bar(np.arange(len(no_of_reviews)), no_of_reviews.values, align='center', alpha=0.5)\n",
    "plt.xticks(np.arange(len(no_of_reviews)), no_of_reviews.index)\n",
    "plt.ylabel('No of reviews')\n",
    "plt.xlabel('No of categories')\n",
    "plt.title('No of Categories vs No of reviews')"
   ]
  },
  {
   "cell_type": "markdown",
   "id": "34435042",
   "metadata": {},
   "source": [
    "    Conclusion\n",
    "\n",
    "    Around 3500 users have given a rating for all the 24 categories and the least no of rating given by a user is 15. So for users with lesser number of ratings a recommender system can be built"
   ]
  },
  {
   "cell_type": "markdown",
   "id": "fc470ed6",
   "metadata": {},
   "source": [
    "    Now let's check Average rating per feature"
   ]
  },
  {
   "cell_type": "code",
   "execution_count": 29,
   "id": "0c478eda",
   "metadata": {
    "ExecuteTime": {
     "end_time": "2023-12-13T03:22:24.064224Z",
     "start_time": "2023-12-13T03:22:24.056891Z"
    }
   },
   "outputs": [
    {
     "data": {
      "text/plain": [
       "gyms                     0.822525\n",
       "swimming_pools           0.949349\n",
       "cafes                    0.965275\n",
       "bakeries                 0.969250\n",
       "beauty_spas              0.999626\n",
       "dance_clubs              1.192710\n",
       "churches                 1.455746\n",
       "monuments                1.531051\n",
       "gardens                  1.560570\n",
       "view_points              1.749345\n",
       "burger_pizza_shops       2.078401\n",
       "hotels_other_lodgings    2.125820\n",
       "juice_bars               2.190429\n",
       "art_galleries            2.206140\n",
       "resorts                  2.320048\n",
       "beaches                  2.489059\n",
       "zoo                      2.541177\n",
       "local_services           2.549622\n",
       "parks                    2.797103\n",
       "pubs_bars                2.832695\n",
       "museums                  2.893423\n",
       "theatres                 2.958904\n",
       "restaurants              3.126542\n",
       "malls                    3.351476\n",
       "dtype: float64"
      ]
     },
     "execution_count": 29,
     "metadata": {},
     "output_type": "execute_result"
    }
   ],
   "source": [
    "# Creating a dataframe to store average rating for each feature\n",
    "avg_rating = data_no_missing[column_names[1:]].mean() # average rating is calculated by dividing count by it's mean\n",
    "avg_rating = avg_rating.sort_values() # sorting the rating in increasing order\n",
    "avg_rating"
   ]
  },
  {
   "cell_type": "code",
   "execution_count": 30,
   "id": "f1b986cc",
   "metadata": {
    "ExecuteTime": {
     "end_time": "2023-12-13T03:22:24.361742Z",
     "start_time": "2023-12-13T03:22:24.065225Z"
    }
   },
   "outputs": [
    {
     "data": {
      "text/plain": [
       "Text(0.5, 1.0, 'Average rating per Category')"
      ]
     },
     "execution_count": 30,
     "metadata": {},
     "output_type": "execute_result"
    },
    {
     "data": {
      "image/png": "[encoded data removed]",
      "text/plain": [
       "<Figure size 1000x700 with 1 Axes>"
      ]
     },
     "metadata": {},
     "output_type": "display_data"
    }
   ],
   "source": [
    "# Plotting average rating plots\n",
    "plt.figure(figsize=(10,7))\n",
    "plt.barh(np.arange(len(column_names[1:])), avg_rating.values, align='center', alpha=0.5)\n",
    "plt.yticks(np.arange(len(column_names[1:])), avg_rating.index)\n",
    "plt.xlabel('Average Rating')\n",
    "plt.title('Average rating per Category')"
   ]
  },
  {
   "cell_type": "markdown",
   "id": "a67e2d70",
   "metadata": {},
   "source": [
    "    Creating a id column"
   ]
  },
  {
   "cell_type": "code",
   "execution_count": 31,
   "id": "9f4eb5e1",
   "metadata": {
    "ExecuteTime": {
     "end_time": "2023-12-13T03:22:24.388931Z",
     "start_time": "2023-12-13T03:22:24.362741Z"
    }
   },
   "outputs": [
    {
     "data": {
      "text/html": [
       "<div>\n",
       "<style scoped>\n",
       "    .dataframe tbody tr th:only-of-type {\n",
       "        vertical-align: middle;\n",
       "    }\n",
       "\n",
       "    .dataframe tbody tr th {\n",
       "        vertical-align: top;\n",
       "    }\n",
       "\n",
       "    .dataframe thead th {\n",
       "        text-align: right;\n",
       "    }\n",
       "</style>\n",
       "<table border=\"1\" class=\"dataframe\">\n",
       "  <thead>\n",
       "    <tr style=\"text-align: right;\">\n",
       "      <th></th>\n",
       "      <th>churches</th>\n",
       "      <th>resorts</th>\n",
       "      <th>beaches</th>\n",
       "      <th>parks</th>\n",
       "      <th>theatres</th>\n",
       "      <th>museums</th>\n",
       "      <th>malls</th>\n",
       "      <th>zoo</th>\n",
       "      <th>restaurants</th>\n",
       "      <th>pubs_bars</th>\n",
       "      <th>...</th>\n",
       "      <th>dance_clubs</th>\n",
       "      <th>swimming_pools</th>\n",
       "      <th>gyms</th>\n",
       "      <th>bakeries</th>\n",
       "      <th>beauty_spas</th>\n",
       "      <th>cafes</th>\n",
       "      <th>view_points</th>\n",
       "      <th>monuments</th>\n",
       "      <th>gardens</th>\n",
       "      <th>id</th>\n",
       "    </tr>\n",
       "  </thead>\n",
       "  <tbody>\n",
       "    <tr>\n",
       "      <th>0</th>\n",
       "      <td>0.0</td>\n",
       "      <td>0.0</td>\n",
       "      <td>3.63</td>\n",
       "      <td>3.65</td>\n",
       "      <td>5.0</td>\n",
       "      <td>2.92</td>\n",
       "      <td>5.0</td>\n",
       "      <td>2.35</td>\n",
       "      <td>2.33</td>\n",
       "      <td>2.64</td>\n",
       "      <td>...</td>\n",
       "      <td>0.59</td>\n",
       "      <td>0.5</td>\n",
       "      <td>0.0</td>\n",
       "      <td>0.5</td>\n",
       "      <td>0.0</td>\n",
       "      <td>0.0</td>\n",
       "      <td>0.0</td>\n",
       "      <td>0.0</td>\n",
       "      <td>0.0</td>\n",
       "      <td>1</td>\n",
       "    </tr>\n",
       "    <tr>\n",
       "      <th>1</th>\n",
       "      <td>0.0</td>\n",
       "      <td>0.0</td>\n",
       "      <td>3.63</td>\n",
       "      <td>3.65</td>\n",
       "      <td>5.0</td>\n",
       "      <td>2.92</td>\n",
       "      <td>5.0</td>\n",
       "      <td>2.64</td>\n",
       "      <td>2.33</td>\n",
       "      <td>2.65</td>\n",
       "      <td>...</td>\n",
       "      <td>0.59</td>\n",
       "      <td>0.5</td>\n",
       "      <td>0.0</td>\n",
       "      <td>0.5</td>\n",
       "      <td>0.0</td>\n",
       "      <td>0.0</td>\n",
       "      <td>0.0</td>\n",
       "      <td>0.0</td>\n",
       "      <td>0.0</td>\n",
       "      <td>2</td>\n",
       "    </tr>\n",
       "    <tr>\n",
       "      <th>2</th>\n",
       "      <td>0.0</td>\n",
       "      <td>0.0</td>\n",
       "      <td>3.63</td>\n",
       "      <td>3.63</td>\n",
       "      <td>5.0</td>\n",
       "      <td>2.92</td>\n",
       "      <td>5.0</td>\n",
       "      <td>2.64</td>\n",
       "      <td>2.33</td>\n",
       "      <td>2.64</td>\n",
       "      <td>...</td>\n",
       "      <td>0.59</td>\n",
       "      <td>0.5</td>\n",
       "      <td>0.0</td>\n",
       "      <td>0.5</td>\n",
       "      <td>0.0</td>\n",
       "      <td>0.0</td>\n",
       "      <td>0.0</td>\n",
       "      <td>0.0</td>\n",
       "      <td>0.0</td>\n",
       "      <td>3</td>\n",
       "    </tr>\n",
       "    <tr>\n",
       "      <th>3</th>\n",
       "      <td>0.0</td>\n",
       "      <td>0.5</td>\n",
       "      <td>3.63</td>\n",
       "      <td>3.63</td>\n",
       "      <td>5.0</td>\n",
       "      <td>2.92</td>\n",
       "      <td>5.0</td>\n",
       "      <td>2.35</td>\n",
       "      <td>2.33</td>\n",
       "      <td>2.64</td>\n",
       "      <td>...</td>\n",
       "      <td>0.59</td>\n",
       "      <td>0.5</td>\n",
       "      <td>0.0</td>\n",
       "      <td>0.5</td>\n",
       "      <td>0.0</td>\n",
       "      <td>0.0</td>\n",
       "      <td>0.0</td>\n",
       "      <td>0.0</td>\n",
       "      <td>0.0</td>\n",
       "      <td>4</td>\n",
       "    </tr>\n",
       "    <tr>\n",
       "      <th>4</th>\n",
       "      <td>0.0</td>\n",
       "      <td>0.0</td>\n",
       "      <td>3.63</td>\n",
       "      <td>3.63</td>\n",
       "      <td>5.0</td>\n",
       "      <td>2.92</td>\n",
       "      <td>5.0</td>\n",
       "      <td>2.64</td>\n",
       "      <td>2.33</td>\n",
       "      <td>2.64</td>\n",
       "      <td>...</td>\n",
       "      <td>0.59</td>\n",
       "      <td>0.5</td>\n",
       "      <td>0.0</td>\n",
       "      <td>0.5</td>\n",
       "      <td>0.0</td>\n",
       "      <td>0.0</td>\n",
       "      <td>0.0</td>\n",
       "      <td>0.0</td>\n",
       "      <td>0.0</td>\n",
       "      <td>5</td>\n",
       "    </tr>\n",
       "  </tbody>\n",
       "</table>\n",
       "<p>5 rows × 25 columns</p>\n",
       "</div>"
      ],
      "text/plain": [
       "   churches  resorts  beaches  parks  theatres  museums  malls   zoo  \\\n",
       "0       0.0      0.0     3.63   3.65       5.0     2.92    5.0  2.35   \n",
       "1       0.0      0.0     3.63   3.65       5.0     2.92    5.0  2.64   \n",
       "2       0.0      0.0     3.63   3.63       5.0     2.92    5.0  2.64   \n",
       "3       0.0      0.5     3.63   3.63       5.0     2.92    5.0  2.35   \n",
       "4       0.0      0.0     3.63   3.63       5.0     2.92    5.0  2.64   \n",
       "\n",
       "   restaurants  pubs_bars  ...  dance_clubs  swimming_pools  gyms  bakeries  \\\n",
       "0         2.33       2.64  ...         0.59             0.5   0.0       0.5   \n",
       "1         2.33       2.65  ...         0.59             0.5   0.0       0.5   \n",
       "2         2.33       2.64  ...         0.59             0.5   0.0       0.5   \n",
       "3         2.33       2.64  ...         0.59             0.5   0.0       0.5   \n",
       "4         2.33       2.64  ...         0.59             0.5   0.0       0.5   \n",
       "\n",
       "   beauty_spas  cafes  view_points  monuments  gardens  id  \n",
       "0          0.0    0.0          0.0        0.0      0.0   1  \n",
       "1          0.0    0.0          0.0        0.0      0.0   2  \n",
       "2          0.0    0.0          0.0        0.0      0.0   3  \n",
       "3          0.0    0.0          0.0        0.0      0.0   4  \n",
       "4          0.0    0.0          0.0        0.0      0.0   5  \n",
       "\n",
       "[5 rows x 25 columns]"
      ]
     },
     "execution_count": 31,
     "metadata": {},
     "output_type": "execute_result"
    }
   ],
   "source": [
    "data_1 = data_no_missing.copy()\n",
    "\n",
    "new = data_1['user_id'].str.split(' ',n=2,expand=True)\n",
    "data_1['user'] = new[0]\n",
    "data_1['id'] = new[1]\n",
    "data_1 = data_1.drop(['user_id','user'],axis=1)\n",
    "data_1.head()"
   ]
  },
  {
   "cell_type": "code",
   "execution_count": 32,
   "id": "7ed8f5a2",
   "metadata": {
    "ExecuteTime": {
     "end_time": "2023-12-13T03:22:24.410006Z",
     "start_time": "2023-12-13T03:22:24.389930Z"
    }
   },
   "outputs": [
    {
     "data": {
      "text/html": [
       "<div>\n",
       "<style scoped>\n",
       "    .dataframe tbody tr th:only-of-type {\n",
       "        vertical-align: middle;\n",
       "    }\n",
       "\n",
       "    .dataframe tbody tr th {\n",
       "        vertical-align: top;\n",
       "    }\n",
       "\n",
       "    .dataframe thead th {\n",
       "        text-align: right;\n",
       "    }\n",
       "</style>\n",
       "<table border=\"1\" class=\"dataframe\">\n",
       "  <thead>\n",
       "    <tr style=\"text-align: right;\">\n",
       "      <th></th>\n",
       "      <th>churches</th>\n",
       "      <th>resorts</th>\n",
       "      <th>beaches</th>\n",
       "      <th>parks</th>\n",
       "      <th>theatres</th>\n",
       "      <th>museums</th>\n",
       "      <th>malls</th>\n",
       "      <th>zoo</th>\n",
       "      <th>restaurants</th>\n",
       "      <th>pubs_bars</th>\n",
       "      <th>...</th>\n",
       "      <th>dance_clubs</th>\n",
       "      <th>swimming_pools</th>\n",
       "      <th>gyms</th>\n",
       "      <th>bakeries</th>\n",
       "      <th>beauty_spas</th>\n",
       "      <th>cafes</th>\n",
       "      <th>view_points</th>\n",
       "      <th>monuments</th>\n",
       "      <th>gardens</th>\n",
       "      <th>id</th>\n",
       "    </tr>\n",
       "  </thead>\n",
       "  <tbody>\n",
       "    <tr>\n",
       "      <th>0</th>\n",
       "      <td>0.0</td>\n",
       "      <td>0.0</td>\n",
       "      <td>3.63</td>\n",
       "      <td>3.65</td>\n",
       "      <td>5.0</td>\n",
       "      <td>2.92</td>\n",
       "      <td>5.0</td>\n",
       "      <td>2.35</td>\n",
       "      <td>2.33</td>\n",
       "      <td>2.64</td>\n",
       "      <td>...</td>\n",
       "      <td>0.59</td>\n",
       "      <td>0.5</td>\n",
       "      <td>0.0</td>\n",
       "      <td>0.5</td>\n",
       "      <td>0.0</td>\n",
       "      <td>0.0</td>\n",
       "      <td>0.0</td>\n",
       "      <td>0.0</td>\n",
       "      <td>0.0</td>\n",
       "      <td>1</td>\n",
       "    </tr>\n",
       "    <tr>\n",
       "      <th>1</th>\n",
       "      <td>0.0</td>\n",
       "      <td>0.0</td>\n",
       "      <td>3.63</td>\n",
       "      <td>3.65</td>\n",
       "      <td>5.0</td>\n",
       "      <td>2.92</td>\n",
       "      <td>5.0</td>\n",
       "      <td>2.64</td>\n",
       "      <td>2.33</td>\n",
       "      <td>2.65</td>\n",
       "      <td>...</td>\n",
       "      <td>0.59</td>\n",
       "      <td>0.5</td>\n",
       "      <td>0.0</td>\n",
       "      <td>0.5</td>\n",
       "      <td>0.0</td>\n",
       "      <td>0.0</td>\n",
       "      <td>0.0</td>\n",
       "      <td>0.0</td>\n",
       "      <td>0.0</td>\n",
       "      <td>2</td>\n",
       "    </tr>\n",
       "    <tr>\n",
       "      <th>2</th>\n",
       "      <td>0.0</td>\n",
       "      <td>0.0</td>\n",
       "      <td>3.63</td>\n",
       "      <td>3.63</td>\n",
       "      <td>5.0</td>\n",
       "      <td>2.92</td>\n",
       "      <td>5.0</td>\n",
       "      <td>2.64</td>\n",
       "      <td>2.33</td>\n",
       "      <td>2.64</td>\n",
       "      <td>...</td>\n",
       "      <td>0.59</td>\n",
       "      <td>0.5</td>\n",
       "      <td>0.0</td>\n",
       "      <td>0.5</td>\n",
       "      <td>0.0</td>\n",
       "      <td>0.0</td>\n",
       "      <td>0.0</td>\n",
       "      <td>0.0</td>\n",
       "      <td>0.0</td>\n",
       "      <td>3</td>\n",
       "    </tr>\n",
       "    <tr>\n",
       "      <th>3</th>\n",
       "      <td>0.0</td>\n",
       "      <td>0.5</td>\n",
       "      <td>3.63</td>\n",
       "      <td>3.63</td>\n",
       "      <td>5.0</td>\n",
       "      <td>2.92</td>\n",
       "      <td>5.0</td>\n",
       "      <td>2.35</td>\n",
       "      <td>2.33</td>\n",
       "      <td>2.64</td>\n",
       "      <td>...</td>\n",
       "      <td>0.59</td>\n",
       "      <td>0.5</td>\n",
       "      <td>0.0</td>\n",
       "      <td>0.5</td>\n",
       "      <td>0.0</td>\n",
       "      <td>0.0</td>\n",
       "      <td>0.0</td>\n",
       "      <td>0.0</td>\n",
       "      <td>0.0</td>\n",
       "      <td>4</td>\n",
       "    </tr>\n",
       "    <tr>\n",
       "      <th>4</th>\n",
       "      <td>0.0</td>\n",
       "      <td>0.0</td>\n",
       "      <td>3.63</td>\n",
       "      <td>3.63</td>\n",
       "      <td>5.0</td>\n",
       "      <td>2.92</td>\n",
       "      <td>5.0</td>\n",
       "      <td>2.64</td>\n",
       "      <td>2.33</td>\n",
       "      <td>2.64</td>\n",
       "      <td>...</td>\n",
       "      <td>0.59</td>\n",
       "      <td>0.5</td>\n",
       "      <td>0.0</td>\n",
       "      <td>0.5</td>\n",
       "      <td>0.0</td>\n",
       "      <td>0.0</td>\n",
       "      <td>0.0</td>\n",
       "      <td>0.0</td>\n",
       "      <td>0.0</td>\n",
       "      <td>5</td>\n",
       "    </tr>\n",
       "  </tbody>\n",
       "</table>\n",
       "<p>5 rows × 25 columns</p>\n",
       "</div>"
      ],
      "text/plain": [
       "   churches  resorts  beaches  parks  theatres  museums  malls   zoo  \\\n",
       "0       0.0      0.0     3.63   3.65       5.0     2.92    5.0  2.35   \n",
       "1       0.0      0.0     3.63   3.65       5.0     2.92    5.0  2.64   \n",
       "2       0.0      0.0     3.63   3.63       5.0     2.92    5.0  2.64   \n",
       "3       0.0      0.5     3.63   3.63       5.0     2.92    5.0  2.35   \n",
       "4       0.0      0.0     3.63   3.63       5.0     2.92    5.0  2.64   \n",
       "\n",
       "   restaurants  pubs_bars  ...  dance_clubs  swimming_pools  gyms  bakeries  \\\n",
       "0         2.33       2.64  ...         0.59             0.5   0.0       0.5   \n",
       "1         2.33       2.65  ...         0.59             0.5   0.0       0.5   \n",
       "2         2.33       2.64  ...         0.59             0.5   0.0       0.5   \n",
       "3         2.33       2.64  ...         0.59             0.5   0.0       0.5   \n",
       "4         2.33       2.64  ...         0.59             0.5   0.0       0.5   \n",
       "\n",
       "   beauty_spas  cafes  view_points  monuments  gardens  id  \n",
       "0          0.0    0.0          0.0        0.0      0.0   1  \n",
       "1          0.0    0.0          0.0        0.0      0.0   2  \n",
       "2          0.0    0.0          0.0        0.0      0.0   3  \n",
       "3          0.0    0.0          0.0        0.0      0.0   4  \n",
       "4          0.0    0.0          0.0        0.0      0.0   5  \n",
       "\n",
       "[5 rows x 25 columns]"
      ]
     },
     "execution_count": 32,
     "metadata": {},
     "output_type": "execute_result"
    }
   ],
   "source": [
    "data_final = data_1.copy(deep = True)\n",
    "data_final.head()"
   ]
  },
  {
   "cell_type": "code",
   "execution_count": 33,
   "id": "0b84a3f7",
   "metadata": {
    "ExecuteTime": {
     "end_time": "2023-12-13T03:22:24.494058Z",
     "start_time": "2023-12-13T03:22:24.411006Z"
    }
   },
   "outputs": [],
   "source": [
    "data_final.to_csv('data_final')"
   ]
  }
 ],
 "metadata": {
  "kernelspec": {
   "display_name": "Python 3 (ipykernel)",
   "language": "python",
   "name": "python3"
  },
  "language_info": {
   "codemirror_mode": {
    "name": "ipython",
    "version": 3
   },
   "file_extension": ".py",
   "mimetype": "text/x-python",
   "name": "python",
   "nbconvert_exporter": "python",
   "pygments_lexer": "ipython3",
   "version": "3.11.5"
  },
  "toc": {
   "base_numbering": 1,
   "nav_menu": {},
   "number_sections": true,
   "sideBar": true,
   "skip_h1_title": false,
   "title_cell": "Table of Contents",
   "title_sidebar": "Contents",
   "toc_cell": false,
   "toc_position": {},
   "toc_section_display": true,
   "toc_window_display": false
  }
 },
 "nbformat": 4,
 "nbformat_minor": 5
}
