{
 "cells": [
  {
   "cell_type": "markdown",
   "id": "cd4827e6",
   "metadata": {},
   "source": [
    "# import relevant packages"
   ]
  },
  {
   "cell_type": "code",
   "execution_count": 1,
   "id": "cc98807f",
   "metadata": {
    "ExecuteTime": {
     "end_time": "2023-12-13T03:35:58.018104Z",
     "start_time": "2023-12-13T03:35:56.376832Z"
    }
   },
   "outputs": [],
   "source": [
    "import pandas as pd\n",
    "import numpy as np\n",
    "import matplotlib.pyplot as plt\n",
    "import seaborn as sns\n",
    "\n",
    "import scipy.cluster.hierarchy as sch\n",
    "from sklearn.preprocessing import scale as s\n",
    "from scipy.cluster.hierarchy import dendrogram, linkage\n",
    "\n",
    "import warnings\n",
    "warnings.filterwarnings('ignore')"
   ]
  },
  {
   "cell_type": "code",
   "execution_count": 2,
   "id": "c4dc7e11",
   "metadata": {
    "ExecuteTime": {
     "end_time": "2023-12-13T03:35:58.056047Z",
     "start_time": "2023-12-13T03:35:58.019634Z"
    }
   },
   "outputs": [],
   "source": [
    "data_final = pd.read_csv('data_final')"
   ]
  },
  {
   "cell_type": "code",
   "execution_count": 3,
   "id": "c4d7c794",
   "metadata": {
    "ExecuteTime": {
     "end_time": "2023-12-13T03:35:58.657504Z",
     "start_time": "2023-12-13T03:35:58.058046Z"
    }
   },
   "outputs": [
    {
     "data": {
      "text/plain": [
       "array([[2.99000000e+02, 3.00000000e+02, 1.41424892e+00, 2.00000000e+00],\n",
       "       [6.72000000e+02, 6.73000000e+02, 1.41424892e+00, 2.00000000e+00],\n",
       "       [2.15900000e+03, 2.16000000e+03, 1.41424892e+00, 2.00000000e+00],\n",
       "       ...,\n",
       "       [1.09000000e+04, 1.09010000e+04, 5.96907284e+04, 2.42900000e+03],\n",
       "       [1.09020000e+04, 1.09030000e+04, 8.31128774e+04, 3.02500000e+03],\n",
       "       [1.09040000e+04, 1.09050000e+04, 2.00293424e+05, 5.45400000e+03]])"
      ]
     },
     "execution_count": 3,
     "metadata": {},
     "output_type": "execute_result"
    }
   ],
   "source": [
    "Z = sch.linkage(data_final,method='ward')\n",
    "Z"
   ]
  },
  {
   "cell_type": "code",
   "execution_count": 4,
   "id": "903e3b6f",
   "metadata": {
    "ExecuteTime": {
     "end_time": "2023-12-13T03:36:09.791723Z",
     "start_time": "2023-12-13T03:35:58.659512Z"
    }
   },
   "outputs": [
    {
     "data": {
      "text/plain": [
       "Text(0.5, 1.0, 'Hierarchical Clustering')"
      ]
     },
     "execution_count": 4,
     "metadata": {},
     "output_type": "execute_result"
    },
    {
     "data": {
      "image/png": "[encoded data removed]",
      "text/plain": [
       "<Figure size 640x480 with 1 Axes>"
      ]
     },
     "metadata": {},
     "output_type": "display_data"
    }
   ],
   "source": [
    "# Creating and plotting a dendogram\n",
    "den = sch.dendrogram(Z)\n",
    "plt.tick_params(\n",
    "    axis='x',          \n",
    "    which='both',      \n",
    "    bottom=False,     \n",
    "    top=False,         \n",
    "    labelbottom=False) \n",
    "plt.title('Hierarchical Clustering')"
   ]
  },
  {
   "cell_type": "code",
   "execution_count": 5,
   "id": "1d58e72a",
   "metadata": {
    "ExecuteTime": {
     "end_time": "2023-12-13T03:36:09.979205Z",
     "start_time": "2023-12-13T03:36:09.793756Z"
    }
   },
   "outputs": [],
   "source": [
    "# Importing packages\n",
    "from sklearn.cluster import AgglomerativeClustering "
   ]
  },
  {
   "cell_type": "code",
   "execution_count": 6,
   "id": "262924e9",
   "metadata": {
    "ExecuteTime": {
     "end_time": "2023-12-13T03:36:09.983259Z",
     "start_time": "2023-12-13T03:36:09.980207Z"
    }
   },
   "outputs": [],
   "source": [
    "# Creating a Agglomerative Clustering\n",
    "hc_model = AgglomerativeClustering(n_clusters = 2, affinity = 'euclidean', linkage ='ward')"
   ]
  },
  {
   "cell_type": "code",
   "execution_count": 7,
   "id": "8c7fcb10",
   "metadata": {
    "ExecuteTime": {
     "end_time": "2023-12-13T03:36:10.605076Z",
     "start_time": "2023-12-13T03:36:09.985258Z"
    }
   },
   "outputs": [],
   "source": [
    "# Fitting the model\n",
    "y_cluster = hc_model.fit_predict(data_final)"
   ]
  },
  {
   "cell_type": "code",
   "execution_count": 8,
   "id": "84fbf6ca",
   "metadata": {
    "ExecuteTime": {
     "end_time": "2023-12-13T03:36:10.610436Z",
     "start_time": "2023-12-13T03:36:10.606088Z"
    }
   },
   "outputs": [],
   "source": [
    "data_clustered = data_final.copy()"
   ]
  },
  {
   "cell_type": "code",
   "execution_count": 9,
   "id": "d523251e",
   "metadata": {
    "ExecuteTime": {
     "end_time": "2023-12-13T03:36:10.620467Z",
     "start_time": "2023-12-13T03:36:10.613432Z"
    }
   },
   "outputs": [],
   "source": [
    "data_clustered[\"Cluster\"] = y_cluster.astype('object')"
   ]
  },
  {
   "cell_type": "code",
   "execution_count": 10,
   "id": "01755504",
   "metadata": {
    "ExecuteTime": {
     "end_time": "2023-12-13T03:36:10.647825Z",
     "start_time": "2023-12-13T03:36:10.621476Z"
    }
   },
   "outputs": [
    {
     "data": {
      "text/html": [
       "<div>\n",
       "<style scoped>\n",
       "    .dataframe tbody tr th:only-of-type {\n",
       "        vertical-align: middle;\n",
       "    }\n",
       "\n",
       "    .dataframe tbody tr th {\n",
       "        vertical-align: top;\n",
       "    }\n",
       "\n",
       "    .dataframe thead th {\n",
       "        text-align: right;\n",
       "    }\n",
       "</style>\n",
       "<table border=\"1\" class=\"dataframe\">\n",
       "  <thead>\n",
       "    <tr style=\"text-align: right;\">\n",
       "      <th></th>\n",
       "      <th>Unnamed: 0</th>\n",
       "      <th>churches</th>\n",
       "      <th>resorts</th>\n",
       "      <th>beaches</th>\n",
       "      <th>parks</th>\n",
       "      <th>theatres</th>\n",
       "      <th>museums</th>\n",
       "      <th>malls</th>\n",
       "      <th>zoo</th>\n",
       "      <th>restaurants</th>\n",
       "      <th>...</th>\n",
       "      <th>swimming_pools</th>\n",
       "      <th>gyms</th>\n",
       "      <th>bakeries</th>\n",
       "      <th>beauty_spas</th>\n",
       "      <th>cafes</th>\n",
       "      <th>view_points</th>\n",
       "      <th>monuments</th>\n",
       "      <th>gardens</th>\n",
       "      <th>id</th>\n",
       "      <th>Cluster</th>\n",
       "    </tr>\n",
       "  </thead>\n",
       "  <tbody>\n",
       "    <tr>\n",
       "      <th>0</th>\n",
       "      <td>0</td>\n",
       "      <td>0.0</td>\n",
       "      <td>0.0</td>\n",
       "      <td>3.63</td>\n",
       "      <td>3.65</td>\n",
       "      <td>5.0</td>\n",
       "      <td>2.92</td>\n",
       "      <td>5.0</td>\n",
       "      <td>2.35</td>\n",
       "      <td>2.33</td>\n",
       "      <td>...</td>\n",
       "      <td>0.5</td>\n",
       "      <td>0.0</td>\n",
       "      <td>0.5</td>\n",
       "      <td>0.0</td>\n",
       "      <td>0.0</td>\n",
       "      <td>0.0</td>\n",
       "      <td>0.0</td>\n",
       "      <td>0.0</td>\n",
       "      <td>1</td>\n",
       "      <td>1</td>\n",
       "    </tr>\n",
       "    <tr>\n",
       "      <th>1</th>\n",
       "      <td>1</td>\n",
       "      <td>0.0</td>\n",
       "      <td>0.0</td>\n",
       "      <td>3.63</td>\n",
       "      <td>3.65</td>\n",
       "      <td>5.0</td>\n",
       "      <td>2.92</td>\n",
       "      <td>5.0</td>\n",
       "      <td>2.64</td>\n",
       "      <td>2.33</td>\n",
       "      <td>...</td>\n",
       "      <td>0.5</td>\n",
       "      <td>0.0</td>\n",
       "      <td>0.5</td>\n",
       "      <td>0.0</td>\n",
       "      <td>0.0</td>\n",
       "      <td>0.0</td>\n",
       "      <td>0.0</td>\n",
       "      <td>0.0</td>\n",
       "      <td>2</td>\n",
       "      <td>1</td>\n",
       "    </tr>\n",
       "    <tr>\n",
       "      <th>2</th>\n",
       "      <td>2</td>\n",
       "      <td>0.0</td>\n",
       "      <td>0.0</td>\n",
       "      <td>3.63</td>\n",
       "      <td>3.63</td>\n",
       "      <td>5.0</td>\n",
       "      <td>2.92</td>\n",
       "      <td>5.0</td>\n",
       "      <td>2.64</td>\n",
       "      <td>2.33</td>\n",
       "      <td>...</td>\n",
       "      <td>0.5</td>\n",
       "      <td>0.0</td>\n",
       "      <td>0.5</td>\n",
       "      <td>0.0</td>\n",
       "      <td>0.0</td>\n",
       "      <td>0.0</td>\n",
       "      <td>0.0</td>\n",
       "      <td>0.0</td>\n",
       "      <td>3</td>\n",
       "      <td>1</td>\n",
       "    </tr>\n",
       "    <tr>\n",
       "      <th>3</th>\n",
       "      <td>3</td>\n",
       "      <td>0.0</td>\n",
       "      <td>0.5</td>\n",
       "      <td>3.63</td>\n",
       "      <td>3.63</td>\n",
       "      <td>5.0</td>\n",
       "      <td>2.92</td>\n",
       "      <td>5.0</td>\n",
       "      <td>2.35</td>\n",
       "      <td>2.33</td>\n",
       "      <td>...</td>\n",
       "      <td>0.5</td>\n",
       "      <td>0.0</td>\n",
       "      <td>0.5</td>\n",
       "      <td>0.0</td>\n",
       "      <td>0.0</td>\n",
       "      <td>0.0</td>\n",
       "      <td>0.0</td>\n",
       "      <td>0.0</td>\n",
       "      <td>4</td>\n",
       "      <td>1</td>\n",
       "    </tr>\n",
       "    <tr>\n",
       "      <th>4</th>\n",
       "      <td>4</td>\n",
       "      <td>0.0</td>\n",
       "      <td>0.0</td>\n",
       "      <td>3.63</td>\n",
       "      <td>3.63</td>\n",
       "      <td>5.0</td>\n",
       "      <td>2.92</td>\n",
       "      <td>5.0</td>\n",
       "      <td>2.64</td>\n",
       "      <td>2.33</td>\n",
       "      <td>...</td>\n",
       "      <td>0.5</td>\n",
       "      <td>0.0</td>\n",
       "      <td>0.5</td>\n",
       "      <td>0.0</td>\n",
       "      <td>0.0</td>\n",
       "      <td>0.0</td>\n",
       "      <td>0.0</td>\n",
       "      <td>0.0</td>\n",
       "      <td>5</td>\n",
       "      <td>1</td>\n",
       "    </tr>\n",
       "  </tbody>\n",
       "</table>\n",
       "<p>5 rows × 27 columns</p>\n",
       "</div>"
      ],
      "text/plain": [
       "   Unnamed: 0  churches  resorts  beaches  parks  theatres  museums  malls  \\\n",
       "0           0       0.0      0.0     3.63   3.65       5.0     2.92    5.0   \n",
       "1           1       0.0      0.0     3.63   3.65       5.0     2.92    5.0   \n",
       "2           2       0.0      0.0     3.63   3.63       5.0     2.92    5.0   \n",
       "3           3       0.0      0.5     3.63   3.63       5.0     2.92    5.0   \n",
       "4           4       0.0      0.0     3.63   3.63       5.0     2.92    5.0   \n",
       "\n",
       "    zoo  restaurants  ...  swimming_pools  gyms  bakeries  beauty_spas  cafes  \\\n",
       "0  2.35         2.33  ...             0.5   0.0       0.5          0.0    0.0   \n",
       "1  2.64         2.33  ...             0.5   0.0       0.5          0.0    0.0   \n",
       "2  2.64         2.33  ...             0.5   0.0       0.5          0.0    0.0   \n",
       "3  2.35         2.33  ...             0.5   0.0       0.5          0.0    0.0   \n",
       "4  2.64         2.33  ...             0.5   0.0       0.5          0.0    0.0   \n",
       "\n",
       "   view_points  monuments  gardens  id  Cluster  \n",
       "0          0.0        0.0      0.0   1        1  \n",
       "1          0.0        0.0      0.0   2        1  \n",
       "2          0.0        0.0      0.0   3        1  \n",
       "3          0.0        0.0      0.0   4        1  \n",
       "4          0.0        0.0      0.0   5        1  \n",
       "\n",
       "[5 rows x 27 columns]"
      ]
     },
     "execution_count": 10,
     "metadata": {},
     "output_type": "execute_result"
    }
   ],
   "source": [
    "data_clustered.head()"
   ]
  },
  {
   "cell_type": "code",
   "execution_count": 11,
   "id": "ff782244",
   "metadata": {
    "ExecuteTime": {
     "end_time": "2023-12-13T03:36:10.653315Z",
     "start_time": "2023-12-13T03:36:10.648825Z"
    }
   },
   "outputs": [],
   "source": [
    "result = data_clustered.copy()"
   ]
  },
  {
   "cell_type": "code",
   "execution_count": 12,
   "id": "92bea631",
   "metadata": {
    "ExecuteTime": {
     "end_time": "2023-12-13T03:36:10.663087Z",
     "start_time": "2023-12-13T03:36:10.655313Z"
    }
   },
   "outputs": [],
   "source": [
    "result.replace({'Cluster' : 1} , 'Positive' , inplace=True)\n",
    "result.replace({'Cluster' : 0} , 'Negeative' , inplace= True)"
   ]
  },
  {
   "cell_type": "code",
   "execution_count": 13,
   "id": "2afc2400",
   "metadata": {
    "ExecuteTime": {
     "end_time": "2023-12-13T03:36:10.756994Z",
     "start_time": "2023-12-13T03:36:10.665085Z"
    }
   },
   "outputs": [
    {
     "data": {
      "image/png": "[encoded data removed]",
      "text/plain": [
       "<Figure size 640x480 with 1 Axes>"
      ]
     },
     "metadata": {},
     "output_type": "display_data"
    }
   ],
   "source": [
    "sns.countplot(x='Cluster', data=result)\n",
    "plt.show()"
   ]
  }
 ],
 "metadata": {
  "kernelspec": {
   "display_name": "Python 3 (ipykernel)",
   "language": "python",
   "name": "python3"
  },
  "language_info": {
   "codemirror_mode": {
    "name": "ipython",
    "version": 3
   },
   "file_extension": ".py",
   "mimetype": "text/x-python",
   "name": "python",
   "nbconvert_exporter": "python",
   "pygments_lexer": "ipython3",
   "version": "3.11.5"
  },
  "toc": {
   "base_numbering": 1,
   "nav_menu": {},
   "number_sections": true,
   "sideBar": true,
   "skip_h1_title": false,
   "title_cell": "Table of Contents",
   "title_sidebar": "Contents",
   "toc_cell": false,
   "toc_position": {},
   "toc_section_display": true,
   "toc_window_display": false
  }
 },
 "nbformat": 4,
 "nbformat_minor": 5
}
