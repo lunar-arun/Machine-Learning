{
 "cells": [
  {
   "cell_type": "markdown",
   "id": "7d5f1c7a",
   "metadata": {},
   "source": [
    "    What is K-Means clustering?\n",
    "        Unsupervised machine learning algorithm used for grouping data points into clusters or groups based on their similarity."
   ]
  },
  {
   "cell_type": "markdown",
   "id": "1238e931",
   "metadata": {},
   "source": [
    "    what is cluster tendency?\n",
    "        Assessing whether formation of  natural clustering structure in the data.\n",
    "        \n",
    "        Hopkins Statistic:\n",
    "            quantitative measure of cluster tendency. \n",
    "            A higher Hopkins statistic value (usually above 0.5) suggests a higher likelihood of clusters in your data."
   ]
  },
  {
   "cell_type": "markdown",
   "id": "8d1f81c4",
   "metadata": {},
   "source": [
    "    what is with and without ground truths?\n",
    "        With Ground Truths :\n",
    "            Data with dependent variable.\n",
    "            Use performance metrics like confusion matrix to check the accuracy.\n",
    "            \n",
    "        Without Ground Truths :\n",
    "            Data without dependent variable.\n",
    "            Here we use silhouette score to find the optimal number of cluster."
   ]
  },
  {
   "cell_type": "markdown",
   "id": "0f4345ce",
   "metadata": {},
   "source": [
    "    how do you determine the optimal number of clusters (K)?\n",
    "        Elbow Method :\n",
    "            K value range from 1 to max value.\n",
    "            calculating the sum of squared distances (SSD) of data points to their assigned centroids for each K.\n",
    "            Plot the SSD against the number of clusters (K).\n",
    "            rate at which SSD starts to slow down --> that optimal cluster\n",
    "            \n",
    "        Silhouette Score :\n",
    "            measures how similar an object is to its own cluster compared to other clusters.\n",
    "            range from -1 0 1\n",
    "                -1 (a poor clustering) \n",
    "                 0 indicating overlapping clusters.\n",
    "                 +1 (a perfect clustering)\n",
    "             Compute the Silhouette Score for different values of K and choose the K with the highest score."
   ]
  },
  {
   "cell_type": "markdown",
   "id": "c372dd63",
   "metadata": {},
   "source": [
    "    what is inertia?\n",
    "        It's known as within-cluster sum of squares (WCSS)."
   ]
  },
  {
   "cell_type": "markdown",
   "id": "aafc37db",
   "metadata": {},
   "source": [
    "    What are centroids in the context of K-Means clustering?\n",
    "        Used to define the center of each cluster and play a critical role in the K-Means algorithm.\n",
    "        \n",
    "        Each centroid represents the mean (average) of all data points within its corresponding cluster."
   ]
  },
  {
   "cell_type": "markdown",
   "id": "4a127f10",
   "metadata": {},
   "source": []
  },
  {
   "cell_type": "markdown",
   "id": "6ed5f00a",
   "metadata": {},
   "source": []
  },
  {
   "cell_type": "markdown",
   "id": "c3c1e494",
   "metadata": {},
   "source": []
  },
  {
   "cell_type": "markdown",
   "id": "6167aeda",
   "metadata": {},
   "source": []
  },
  {
   "cell_type": "markdown",
   "id": "4a54ada4",
   "metadata": {},
   "source": []
  },
  {
   "cell_type": "markdown",
   "id": "57aa03bf",
   "metadata": {},
   "source": []
  },
  {
   "cell_type": "markdown",
   "id": "73e5d817",
   "metadata": {},
   "source": []
  },
  {
   "cell_type": "markdown",
   "id": "70821745",
   "metadata": {},
   "source": []
  },
  {
   "cell_type": "markdown",
   "id": "9edaff7e",
   "metadata": {},
   "source": []
  },
  {
   "cell_type": "markdown",
   "id": "a46c61b7",
   "metadata": {},
   "source": []
  }
 ],
 "metadata": {
  "kernelspec": {
   "display_name": "Python 3 (ipykernel)",
   "language": "python",
   "name": "python3"
  },
  "language_info": {
   "codemirror_mode": {
    "name": "ipython",
    "version": 3
   },
   "file_extension": ".py",
   "mimetype": "text/x-python",
   "name": "python",
   "nbconvert_exporter": "python",
   "pygments_lexer": "ipython3",
   "version": "3.10.9"
  }
 },
 "nbformat": 4,
 "nbformat_minor": 5
}
