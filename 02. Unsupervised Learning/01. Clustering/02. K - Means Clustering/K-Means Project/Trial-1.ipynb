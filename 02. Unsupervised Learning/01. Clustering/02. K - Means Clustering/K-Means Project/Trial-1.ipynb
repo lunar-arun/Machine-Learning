{
 "cells": [
  {
   "cell_type": "code",
   "execution_count": 1,
   "id": "262063d5",
   "metadata": {},
   "outputs": [],
   "source": [
    "# Data Handling\n",
    "import pandas as pd\n",
    "import numpy as np\n",
    "\n",
    "# Visualization\n",
    "import matplotlib.pyplot as plt\n",
    "import seaborn as sns\n",
    "\n",
    "import warnings\n",
    "warnings.filterwarnings('ignore')"
   ]
  },
  {
   "cell_type": "code",
   "execution_count": 2,
   "id": "3b549771",
   "metadata": {},
   "outputs": [
    {
     "data": {
      "text/html": [
       "<div>\n",
       "<style scoped>\n",
       "    .dataframe tbody tr th:only-of-type {\n",
       "        vertical-align: middle;\n",
       "    }\n",
       "\n",
       "    .dataframe tbody tr th {\n",
       "        vertical-align: top;\n",
       "    }\n",
       "\n",
       "    .dataframe thead th {\n",
       "        text-align: right;\n",
       "    }\n",
       "</style>\n",
       "<table border=\"1\" class=\"dataframe\">\n",
       "  <thead>\n",
       "    <tr style=\"text-align: right;\">\n",
       "      <th></th>\n",
       "      <th>Cust_ID</th>\n",
       "      <th>Gender</th>\n",
       "      <th>Orders</th>\n",
       "      <th>Jordan</th>\n",
       "      <th>Gatorade</th>\n",
       "      <th>Samsung</th>\n",
       "      <th>Asus</th>\n",
       "      <th>Udis</th>\n",
       "      <th>Mondelez International</th>\n",
       "      <th>Wrangler</th>\n",
       "      <th>...</th>\n",
       "      <th>LG</th>\n",
       "      <th>Dior</th>\n",
       "      <th>Scabal</th>\n",
       "      <th>Tommy Hilfiger</th>\n",
       "      <th>Hollister</th>\n",
       "      <th>Forever 21</th>\n",
       "      <th>Colavita</th>\n",
       "      <th>Microsoft</th>\n",
       "      <th>Jiffy mix</th>\n",
       "      <th>Kraft</th>\n",
       "    </tr>\n",
       "  </thead>\n",
       "  <tbody>\n",
       "    <tr>\n",
       "      <th>0</th>\n",
       "      <td>1</td>\n",
       "      <td>M</td>\n",
       "      <td>7</td>\n",
       "      <td>0</td>\n",
       "      <td>0</td>\n",
       "      <td>0</td>\n",
       "      <td>0</td>\n",
       "      <td>0</td>\n",
       "      <td>0</td>\n",
       "      <td>0</td>\n",
       "      <td>...</td>\n",
       "      <td>0</td>\n",
       "      <td>0</td>\n",
       "      <td>0</td>\n",
       "      <td>0</td>\n",
       "      <td>0</td>\n",
       "      <td>0</td>\n",
       "      <td>0</td>\n",
       "      <td>0</td>\n",
       "      <td>0</td>\n",
       "      <td>0</td>\n",
       "    </tr>\n",
       "    <tr>\n",
       "      <th>1</th>\n",
       "      <td>2</td>\n",
       "      <td>F</td>\n",
       "      <td>0</td>\n",
       "      <td>0</td>\n",
       "      <td>1</td>\n",
       "      <td>0</td>\n",
       "      <td>0</td>\n",
       "      <td>0</td>\n",
       "      <td>0</td>\n",
       "      <td>0</td>\n",
       "      <td>...</td>\n",
       "      <td>0</td>\n",
       "      <td>1</td>\n",
       "      <td>0</td>\n",
       "      <td>0</td>\n",
       "      <td>0</td>\n",
       "      <td>0</td>\n",
       "      <td>0</td>\n",
       "      <td>0</td>\n",
       "      <td>0</td>\n",
       "      <td>0</td>\n",
       "    </tr>\n",
       "    <tr>\n",
       "      <th>2</th>\n",
       "      <td>3</td>\n",
       "      <td>M</td>\n",
       "      <td>7</td>\n",
       "      <td>0</td>\n",
       "      <td>1</td>\n",
       "      <td>0</td>\n",
       "      <td>0</td>\n",
       "      <td>0</td>\n",
       "      <td>0</td>\n",
       "      <td>0</td>\n",
       "      <td>...</td>\n",
       "      <td>0</td>\n",
       "      <td>0</td>\n",
       "      <td>0</td>\n",
       "      <td>0</td>\n",
       "      <td>0</td>\n",
       "      <td>0</td>\n",
       "      <td>0</td>\n",
       "      <td>1</td>\n",
       "      <td>0</td>\n",
       "      <td>0</td>\n",
       "    </tr>\n",
       "    <tr>\n",
       "      <th>3</th>\n",
       "      <td>4</td>\n",
       "      <td>F</td>\n",
       "      <td>0</td>\n",
       "      <td>0</td>\n",
       "      <td>0</td>\n",
       "      <td>0</td>\n",
       "      <td>0</td>\n",
       "      <td>0</td>\n",
       "      <td>0</td>\n",
       "      <td>0</td>\n",
       "      <td>...</td>\n",
       "      <td>0</td>\n",
       "      <td>0</td>\n",
       "      <td>0</td>\n",
       "      <td>0</td>\n",
       "      <td>0</td>\n",
       "      <td>0</td>\n",
       "      <td>0</td>\n",
       "      <td>0</td>\n",
       "      <td>0</td>\n",
       "      <td>0</td>\n",
       "    </tr>\n",
       "    <tr>\n",
       "      <th>4</th>\n",
       "      <td>5</td>\n",
       "      <td>NaN</td>\n",
       "      <td>10</td>\n",
       "      <td>0</td>\n",
       "      <td>0</td>\n",
       "      <td>0</td>\n",
       "      <td>0</td>\n",
       "      <td>0</td>\n",
       "      <td>0</td>\n",
       "      <td>0</td>\n",
       "      <td>...</td>\n",
       "      <td>0</td>\n",
       "      <td>0</td>\n",
       "      <td>2</td>\n",
       "      <td>0</td>\n",
       "      <td>0</td>\n",
       "      <td>0</td>\n",
       "      <td>0</td>\n",
       "      <td>0</td>\n",
       "      <td>1</td>\n",
       "      <td>1</td>\n",
       "    </tr>\n",
       "  </tbody>\n",
       "</table>\n",
       "<p>5 rows × 38 columns</p>\n",
       "</div>"
      ],
      "text/plain": [
       "   Cust_ID Gender  Orders  Jordan  Gatorade  Samsung  Asus  Udis  \\\n",
       "0        1      M       7       0         0        0     0     0   \n",
       "1        2      F       0       0         1        0     0     0   \n",
       "2        3      M       7       0         1        0     0     0   \n",
       "3        4      F       0       0         0        0     0     0   \n",
       "4        5    NaN      10       0         0        0     0     0   \n",
       "\n",
       "   Mondelez International  Wrangler  ...  LG  Dior  Scabal  Tommy Hilfiger  \\\n",
       "0                       0         0  ...   0     0       0               0   \n",
       "1                       0         0  ...   0     1       0               0   \n",
       "2                       0         0  ...   0     0       0               0   \n",
       "3                       0         0  ...   0     0       0               0   \n",
       "4                       0         0  ...   0     0       2               0   \n",
       "\n",
       "   Hollister  Forever 21  Colavita  Microsoft  Jiffy mix  Kraft  \n",
       "0          0           0         0          0          0      0  \n",
       "1          0           0         0          0          0      0  \n",
       "2          0           0         0          1          0      0  \n",
       "3          0           0         0          0          0      0  \n",
       "4          0           0         0          0          1      1  \n",
       "\n",
       "[5 rows x 38 columns]"
      ]
     },
     "execution_count": 2,
     "metadata": {},
     "output_type": "execute_result"
    }
   ],
   "source": [
    "# Read excel file from Dataset folder\n",
    "\n",
    "df = pd.read_excel('Dataset/cust_data.xlsx')\n",
    "\n",
    "df.head()"
   ]
  },
  {
   "cell_type": "code",
   "execution_count": 3,
   "id": "0084b67a",
   "metadata": {},
   "outputs": [
    {
     "data": {
      "text/plain": [
       "(30000, 38)"
      ]
     },
     "execution_count": 3,
     "metadata": {},
     "output_type": "execute_result"
    }
   ],
   "source": [
    "df.shape"
   ]
  },
  {
   "cell_type": "code",
   "execution_count": 4,
   "id": "9f37c03f",
   "metadata": {},
   "outputs": [
    {
     "name": "stdout",
     "output_type": "stream",
     "text": [
      "<class 'pandas.core.frame.DataFrame'>\n",
      "RangeIndex: 30000 entries, 0 to 29999\n",
      "Data columns (total 38 columns):\n",
      " #   Column                  Non-Null Count  Dtype \n",
      "---  ------                  --------------  ----- \n",
      " 0   Cust_ID                 30000 non-null  int64 \n",
      " 1   Gender                  27276 non-null  object\n",
      " 2   Orders                  30000 non-null  int64 \n",
      " 3   Jordan                  30000 non-null  int64 \n",
      " 4   Gatorade                30000 non-null  int64 \n",
      " 5   Samsung                 30000 non-null  int64 \n",
      " 6   Asus                    30000 non-null  int64 \n",
      " 7   Udis                    30000 non-null  int64 \n",
      " 8   Mondelez International  30000 non-null  int64 \n",
      " 9   Wrangler                30000 non-null  int64 \n",
      " 10  Vans                    30000 non-null  int64 \n",
      " 11  Fila                    30000 non-null  int64 \n",
      " 12  Brooks                  30000 non-null  int64 \n",
      " 13  H&M                     30000 non-null  int64 \n",
      " 14  Dairy Queen             30000 non-null  int64 \n",
      " 15  Fendi                   30000 non-null  int64 \n",
      " 16  Hewlett Packard         30000 non-null  int64 \n",
      " 17  Pladis                  30000 non-null  int64 \n",
      " 18  Asics                   30000 non-null  int64 \n",
      " 19  Siemens                 30000 non-null  int64 \n",
      " 20  J.M. Smucker            30000 non-null  int64 \n",
      " 21  Pop Chips               30000 non-null  int64 \n",
      " 22  Juniper                 30000 non-null  int64 \n",
      " 23  Huawei                  30000 non-null  int64 \n",
      " 24  Compaq                  30000 non-null  int64 \n",
      " 25  IBM                     30000 non-null  int64 \n",
      " 26  Burberry                30000 non-null  int64 \n",
      " 27  Mi                      30000 non-null  int64 \n",
      " 28  LG                      30000 non-null  int64 \n",
      " 29  Dior                    30000 non-null  int64 \n",
      " 30  Scabal                  30000 non-null  int64 \n",
      " 31  Tommy Hilfiger          30000 non-null  int64 \n",
      " 32  Hollister               30000 non-null  int64 \n",
      " 33  Forever 21              30000 non-null  int64 \n",
      " 34  Colavita                30000 non-null  int64 \n",
      " 35  Microsoft               30000 non-null  int64 \n",
      " 36  Jiffy mix               30000 non-null  int64 \n",
      " 37  Kraft                   30000 non-null  int64 \n",
      "dtypes: int64(37), object(1)\n",
      "memory usage: 8.7+ MB\n"
     ]
    }
   ],
   "source": [
    "df.info()"
   ]
  },
  {
   "cell_type": "code",
   "execution_count": 5,
   "id": "fb58b2d3",
   "metadata": {},
   "outputs": [],
   "source": [
    "# Data Modeling\n",
    "\n",
    "from sklearn.cluster import KMeans\n",
    "from sklearn.model_selection import GridSearchCV, ParameterGrid\n",
    "from sklearn.metrics import silhouette_score"
   ]
  },
  {
   "cell_type": "code",
   "execution_count": 6,
   "id": "29621b63",
   "metadata": {},
   "outputs": [
    {
     "data": {
      "text/plain": [
       "Index(['Cust_ID', 'Gender', 'Orders', 'Jordan', 'Gatorade', 'Samsung', 'Asus',\n",
       "       'Udis', 'Mondelez International', 'Wrangler', 'Vans', 'Fila', 'Brooks',\n",
       "       'H&M', 'Dairy Queen', 'Fendi', 'Hewlett Packard', 'Pladis', 'Asics',\n",
       "       'Siemens', 'J.M. Smucker', 'Pop Chips', 'Juniper', 'Huawei', 'Compaq',\n",
       "       'IBM', 'Burberry', 'Mi', 'LG', 'Dior', 'Scabal', 'Tommy Hilfiger',\n",
       "       'Hollister', 'Forever 21', 'Colavita', 'Microsoft', 'Jiffy mix',\n",
       "       'Kraft'],\n",
       "      dtype='object')"
      ]
     },
     "execution_count": 6,
     "metadata": {},
     "output_type": "execute_result"
    }
   ],
   "source": [
    "df.columns"
   ]
  },
  {
   "cell_type": "code",
   "execution_count": 7,
   "id": "738457fe",
   "metadata": {},
   "outputs": [],
   "source": [
    "# Data Cleaning, Feature selection\n",
    "\n",
    "X1 = df.drop(['Cust_ID', 'Gender', 'Orders'], axis = 1)"
   ]
  },
  {
   "cell_type": "code",
   "execution_count": 8,
   "id": "d6fe40ed",
   "metadata": {},
   "outputs": [
    {
     "name": "stdout",
     "output_type": "stream",
     "text": [
      "Best Parameters: {'init': 'random', 'max_iter': 100, 'n_clusters': 2, 'random_state': 42, 'tol': 0.01}\n",
      "Best Silhouette Score: 0.43049895814989647\n"
     ]
    }
   ],
   "source": [
    "param_grid = {\n",
    "    'n_clusters': range(2, 5),\n",
    "    'init': ['k-means++', 'random'],\n",
    "    'max_iter': [100, 300, 500],\n",
    "    'tol': [1e-4, 1e-3, 1e-2],\n",
    "    'random_state': [42]\n",
    "}\n",
    "\n",
    "best_score = -1\n",
    "best_params = None\n",
    "\n",
    "for params in ParameterGrid(param_grid):\n",
    "    kmeans = KMeans(**params)\n",
    "    kmeans.fit(X1)\n",
    "    labels = kmeans.labels_\n",
    "    silhouette_avg = silhouette_score(X1, labels)\n",
    "    \n",
    "    if silhouette_avg > best_score:\n",
    "        best_score = silhouette_avg\n",
    "        best_params = params\n",
    "\n",
    "print(\"Best Parameters:\", best_params)\n",
    "print(\"Best Silhouette Score:\", best_score)"
   ]
  },
  {
   "cell_type": "code",
   "execution_count": 9,
   "id": "12df3ecc",
   "metadata": {},
   "outputs": [
    {
     "name": "stdout",
     "output_type": "stream",
     "text": [
      "Silhouette Score: 0.43049895814989647\n"
     ]
    }
   ],
   "source": [
    "final_kmeans_model = KMeans(init = 'random', max_iter = 100, random_state = 42, tol = 0.01, n_clusters = 2).fit(X1)\n",
    "\n",
    "labels = final_kmeans_model.labels_\n",
    "silhouette_avg = silhouette_score(X1, labels)\n",
    "print(\"Silhouette Score:\", silhouette_avg)"
   ]
  },
  {
   "cell_type": "code",
   "execution_count": 10,
   "id": "3331a496",
   "metadata": {},
   "outputs": [
    {
     "data": {
      "text/plain": [
       "array([1, 0, 1, ..., 1, 1, 1])"
      ]
     },
     "execution_count": 10,
     "metadata": {},
     "output_type": "execute_result"
    }
   ],
   "source": [
    "labels"
   ]
  },
  {
   "cell_type": "code",
   "execution_count": 11,
   "id": "92024d33",
   "metadata": {},
   "outputs": [],
   "source": [
    "from sklearn.decomposition import PCA\n",
    "principal=PCA(n_components=1)\n",
    "principal.fit(X1)\n",
    "x=principal.transform(X1)"
   ]
  },
  {
   "cell_type": "code",
   "execution_count": 12,
   "id": "54c6ab06",
   "metadata": {},
   "outputs": [
    {
     "data": {
      "text/plain": [
       "array([-1.23099579,  3.67880105, -0.16810096, ..., -1.18256249,\n",
       "       -1.12933071, -0.00537772])"
      ]
     },
     "execution_count": 12,
     "metadata": {},
     "output_type": "execute_result"
    }
   ],
   "source": [
    "x.ravel()"
   ]
  },
  {
   "cell_type": "code",
   "execution_count": 13,
   "id": "61b0d934",
   "metadata": {},
   "outputs": [
    {
     "data": {
      "text/html": [
       "<div>\n",
       "<style scoped>\n",
       "    .dataframe tbody tr th:only-of-type {\n",
       "        vertical-align: middle;\n",
       "    }\n",
       "\n",
       "    .dataframe tbody tr th {\n",
       "        vertical-align: top;\n",
       "    }\n",
       "\n",
       "    .dataframe thead th {\n",
       "        text-align: right;\n",
       "    }\n",
       "</style>\n",
       "<table border=\"1\" class=\"dataframe\">\n",
       "  <thead>\n",
       "    <tr style=\"text-align: right;\">\n",
       "      <th></th>\n",
       "      <th>Cust_ID</th>\n",
       "      <th>PCA1</th>\n",
       "      <th>cluster</th>\n",
       "    </tr>\n",
       "  </thead>\n",
       "  <tbody>\n",
       "    <tr>\n",
       "      <th>0</th>\n",
       "      <td>1</td>\n",
       "      <td>-1.230996</td>\n",
       "      <td>1</td>\n",
       "    </tr>\n",
       "    <tr>\n",
       "      <th>1</th>\n",
       "      <td>2</td>\n",
       "      <td>3.678801</td>\n",
       "      <td>0</td>\n",
       "    </tr>\n",
       "    <tr>\n",
       "      <th>2</th>\n",
       "      <td>3</td>\n",
       "      <td>-0.168101</td>\n",
       "      <td>1</td>\n",
       "    </tr>\n",
       "    <tr>\n",
       "      <th>3</th>\n",
       "      <td>4</td>\n",
       "      <td>-0.998450</td>\n",
       "      <td>1</td>\n",
       "    </tr>\n",
       "    <tr>\n",
       "      <th>4</th>\n",
       "      <td>5</td>\n",
       "      <td>2.719362</td>\n",
       "      <td>0</td>\n",
       "    </tr>\n",
       "    <tr>\n",
       "      <th>...</th>\n",
       "      <td>...</td>\n",
       "      <td>...</td>\n",
       "      <td>...</td>\n",
       "    </tr>\n",
       "    <tr>\n",
       "      <th>29995</th>\n",
       "      <td>29996</td>\n",
       "      <td>-1.224980</td>\n",
       "      <td>1</td>\n",
       "    </tr>\n",
       "    <tr>\n",
       "      <th>29996</th>\n",
       "      <td>29997</td>\n",
       "      <td>-1.212499</td>\n",
       "      <td>1</td>\n",
       "    </tr>\n",
       "    <tr>\n",
       "      <th>29997</th>\n",
       "      <td>29998</td>\n",
       "      <td>-1.182562</td>\n",
       "      <td>1</td>\n",
       "    </tr>\n",
       "    <tr>\n",
       "      <th>29998</th>\n",
       "      <td>29999</td>\n",
       "      <td>-1.129331</td>\n",
       "      <td>1</td>\n",
       "    </tr>\n",
       "    <tr>\n",
       "      <th>29999</th>\n",
       "      <td>30000</td>\n",
       "      <td>-0.005378</td>\n",
       "      <td>1</td>\n",
       "    </tr>\n",
       "  </tbody>\n",
       "</table>\n",
       "<p>30000 rows × 3 columns</p>\n",
       "</div>"
      ],
      "text/plain": [
       "       Cust_ID      PCA1  cluster\n",
       "0            1 -1.230996        1\n",
       "1            2  3.678801        0\n",
       "2            3 -0.168101        1\n",
       "3            4 -0.998450        1\n",
       "4            5  2.719362        0\n",
       "...        ...       ...      ...\n",
       "29995    29996 -1.224980        1\n",
       "29996    29997 -1.212499        1\n",
       "29997    29998 -1.182562        1\n",
       "29998    29999 -1.129331        1\n",
       "29999    30000 -0.005378        1\n",
       "\n",
       "[30000 rows x 3 columns]"
      ]
     },
     "execution_count": 13,
     "metadata": {},
     "output_type": "execute_result"
    }
   ],
   "source": [
    "cluster_df = pd.DataFrame({'Cust_ID' : df.Cust_ID,'PCA1' : x.ravel(), 'cluster' : labels})\n",
    "\n",
    "cluster_df"
   ]
  },
  {
   "cell_type": "code",
   "execution_count": 14,
   "id": "b23a2d22",
   "metadata": {},
   "outputs": [
    {
     "data": {
      "text/plain": [
       "Index(['Cust_ID', 'PCA1', 'cluster'], dtype='object')"
      ]
     },
     "execution_count": 14,
     "metadata": {},
     "output_type": "execute_result"
    }
   ],
   "source": [
    "cluster_df.columns"
   ]
  },
  {
   "cell_type": "code",
   "execution_count": 15,
   "id": "d548361e",
   "metadata": {},
   "outputs": [
    {
     "data": {
      "image/png": "[encoded data removed]",
      "text/plain": [
       "<Figure size 1000x600 with 1 Axes>"
      ]
     },
     "metadata": {},
     "output_type": "display_data"
    }
   ],
   "source": [
    "plt.figure(figsize=(10, 6))  # Set the figure size\n",
    "sns.scatterplot(data=cluster_df, x=df['Orders'], y='PCA1', palette='Set1')\n",
    "\n",
    "plt.title('Cluster Visualization')  # Set the title\n",
    "plt.xlabel('Customer ID')  # Label for the x-axis\n",
    "plt.ylabel('Cluster')  # Label for the y-axis\n",
    "\n",
    "plt.show()"
   ]
  },
  {
   "cell_type": "code",
   "execution_count": 16,
   "id": "00e2b2fd",
   "metadata": {},
   "outputs": [
    {
     "data": {
      "text/plain": [
       "<Axes: xlabel='cluster', ylabel='count'>"
      ]
     },
     "execution_count": 16,
     "metadata": {},
     "output_type": "execute_result"
    },
    {
     "data": {
      "image/png": "[encoded data removed]",
      "text/plain": [
       "<Figure size 1200x600 with 1 Axes>"
      ]
     },
     "metadata": {},
     "output_type": "display_data"
    }
   ],
   "source": [
    "plt.figure(figsize = (12,6))\n",
    "sns.countplot(cluster_df['cluster'])"
   ]
  },
  {
   "cell_type": "code",
   "execution_count": 17,
   "id": "5c9daa7a",
   "metadata": {},
   "outputs": [],
   "source": [
    "from sklearn.decomposition import PCA\n",
    "\n",
    "principal=PCA(n_components=2)\n",
    "principal.fit(X1)\n",
    "pca=principal.transform(X1)"
   ]
  },
  {
   "cell_type": "code",
   "execution_count": 18,
   "id": "5a6f2db5",
   "metadata": {},
   "outputs": [
    {
     "data": {
      "text/plain": [
       "array([[-1.23099528e+00,  1.42004304e-02],\n",
       "       [ 3.67880235e+00, -1.24391217e+00],\n",
       "       [-1.68099631e-01, -5.26826175e-01],\n",
       "       ...,\n",
       "       [-1.18256078e+00,  2.70212310e-05],\n",
       "       [-1.12933095e+00, -3.54999913e-02],\n",
       "       [-5.37872812e-03, -6.01518233e-01]])"
      ]
     },
     "execution_count": 18,
     "metadata": {},
     "output_type": "execute_result"
    }
   ],
   "source": [
    "pca"
   ]
  },
  {
   "cell_type": "code",
   "execution_count": 19,
   "id": "c5eeec4d",
   "metadata": {},
   "outputs": [
    {
     "data": {
      "text/html": [
       "<div>\n",
       "<style scoped>\n",
       "    .dataframe tbody tr th:only-of-type {\n",
       "        vertical-align: middle;\n",
       "    }\n",
       "\n",
       "    .dataframe tbody tr th {\n",
       "        vertical-align: top;\n",
       "    }\n",
       "\n",
       "    .dataframe thead th {\n",
       "        text-align: right;\n",
       "    }\n",
       "</style>\n",
       "<table border=\"1\" class=\"dataframe\">\n",
       "  <thead>\n",
       "    <tr style=\"text-align: right;\">\n",
       "      <th></th>\n",
       "      <th>PC1</th>\n",
       "      <th>PC2</th>\n",
       "    </tr>\n",
       "  </thead>\n",
       "  <tbody>\n",
       "    <tr>\n",
       "      <th>0</th>\n",
       "      <td>-1.230995</td>\n",
       "      <td>0.014200</td>\n",
       "    </tr>\n",
       "    <tr>\n",
       "      <th>1</th>\n",
       "      <td>3.678802</td>\n",
       "      <td>-1.243912</td>\n",
       "    </tr>\n",
       "    <tr>\n",
       "      <th>2</th>\n",
       "      <td>-0.168100</td>\n",
       "      <td>-0.526826</td>\n",
       "    </tr>\n",
       "    <tr>\n",
       "      <th>3</th>\n",
       "      <td>-0.998450</td>\n",
       "      <td>-0.082488</td>\n",
       "    </tr>\n",
       "    <tr>\n",
       "      <th>4</th>\n",
       "      <td>2.719361</td>\n",
       "      <td>-0.882505</td>\n",
       "    </tr>\n",
       "    <tr>\n",
       "      <th>...</th>\n",
       "      <td>...</td>\n",
       "      <td>...</td>\n",
       "    </tr>\n",
       "    <tr>\n",
       "      <th>29995</th>\n",
       "      <td>-1.224980</td>\n",
       "      <td>0.012892</td>\n",
       "    </tr>\n",
       "    <tr>\n",
       "      <th>29996</th>\n",
       "      <td>-1.212498</td>\n",
       "      <td>0.011559</td>\n",
       "    </tr>\n",
       "    <tr>\n",
       "      <th>29997</th>\n",
       "      <td>-1.182561</td>\n",
       "      <td>0.000027</td>\n",
       "    </tr>\n",
       "    <tr>\n",
       "      <th>29998</th>\n",
       "      <td>-1.129331</td>\n",
       "      <td>-0.035500</td>\n",
       "    </tr>\n",
       "    <tr>\n",
       "      <th>29999</th>\n",
       "      <td>-0.005379</td>\n",
       "      <td>-0.601518</td>\n",
       "    </tr>\n",
       "  </tbody>\n",
       "</table>\n",
       "<p>30000 rows × 2 columns</p>\n",
       "</div>"
      ],
      "text/plain": [
       "            PC1       PC2\n",
       "0     -1.230995  0.014200\n",
       "1      3.678802 -1.243912\n",
       "2     -0.168100 -0.526826\n",
       "3     -0.998450 -0.082488\n",
       "4      2.719361 -0.882505\n",
       "...         ...       ...\n",
       "29995 -1.224980  0.012892\n",
       "29996 -1.212498  0.011559\n",
       "29997 -1.182561  0.000027\n",
       "29998 -1.129331 -0.035500\n",
       "29999 -0.005379 -0.601518\n",
       "\n",
       "[30000 rows x 2 columns]"
      ]
     },
     "execution_count": 19,
     "metadata": {},
     "output_type": "execute_result"
    }
   ],
   "source": [
    "pca_df = pd.DataFrame(pca, columns=['PC1', 'PC2'])\n",
    "pca_df"
   ]
  },
  {
   "cell_type": "code",
   "execution_count": 21,
   "id": "4c1797c6",
   "metadata": {},
   "outputs": [
    {
     "data": {
      "image/png": "[encoded data removed]",
      "text/plain": [
       "<Figure size 1000x600 with 1 Axes>"
      ]
     },
     "metadata": {},
     "output_type": "display_data"
    }
   ],
   "source": [
    "plt.figure(figsize=(10, 6))  # Set the figure size\n",
    "sns.scatterplot(data=pca_df, x='PC1', y='PC2', palette='Set1')\n",
    "\n",
    "plt.title('Cluster Visualization')  # Set the title\n",
    "plt.xlabel('PC1')  # Label for the x-axis\n",
    "plt.ylabel('PC2')  # Label for the y-axis\n",
    "\n",
    "plt.show()"
   ]
  },
  {
   "cell_type": "code",
   "execution_count": null,
   "id": "1554c777",
   "metadata": {},
   "outputs": [],
   "source": []
  }
 ],
 "metadata": {
  "kernelspec": {
   "display_name": "Python 3 (ipykernel)",
   "language": "python",
   "name": "python3"
  },
  "language_info": {
   "codemirror_mode": {
    "name": "ipython",
    "version": 3
   },
   "file_extension": ".py",
   "mimetype": "text/x-python",
   "name": "python",
   "nbconvert_exporter": "python",
   "pygments_lexer": "ipython3",
   "version": "3.10.9"
  }
 },
 "nbformat": 4,
 "nbformat_minor": 5
}
