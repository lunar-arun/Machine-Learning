{
 "cells": [
  {
   "cell_type": "markdown",
   "id": "39456f42",
   "metadata": {},
   "source": [
    "    Hinge Loss:\n",
    "        Used in SVMs and related models for binary classification tasks.\n",
    "        Penalizes incorrect predictions proportional to the distance from the decision boundary.\n",
    "        Does not produce probabilistic outputs.\n",
    "        \n",
    "    Cross Entropy Loss:\n",
    "    \n",
    "        Used in neural networks and other models for multi-class classification tasks.\n",
    "        Measures the difference between the predicted probability distribution and the true distribution.\n",
    "        Produces probabilistic outputs.\n",
    "        \n",
    "    Logistic Loss (Sigmoid Loss):\n",
    "    \n",
    "        Used in logistic regression and related models for binary classification tasks.\n",
    "        Measures the difference between the predicted probability and the true label.\n",
    "        Produces probabilistic outputs.\n",
    "        \n",
    "    Log Loss (Binary Cross Entropy Loss):\n",
    "    \n",
    "        Similar to the Cross Entropy Loss, but used for binary classification tasks.\n",
    "        Measures the difference between the predicted probability and the true label.\n",
    "        Produces probabilistic outputs."
   ]
  }
 ],
 "metadata": {
  "kernelspec": {
   "display_name": "Python 3 (ipykernel)",
   "language": "python",
   "name": "python3"
  },
  "language_info": {
   "codemirror_mode": {
    "name": "ipython",
    "version": 3
   },
   "file_extension": ".py",
   "mimetype": "text/x-python",
   "name": "python",
   "nbconvert_exporter": "python",
   "pygments_lexer": "ipython3",
   "version": "3.10.9"
  }
 },
 "nbformat": 4,
 "nbformat_minor": 5
}
