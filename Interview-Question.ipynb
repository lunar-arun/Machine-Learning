{
 "cells": [
  {
   "cell_type": "markdown",
   "id": "39456f42",
   "metadata": {},
   "source": [
    "    Hinge Loss:\n",
    "        Used in SVMs and related models for binary classification tasks.\n",
    "        Penalizes incorrect predictions proportional to the distance from the decision boundary.\n",
    "        Does not produce probabilistic outputs.\n",
    "        \n",
    "    Cross Entropy Loss:\n",
    "    \n",
    "        Used in neural networks and other models for multi-class classification tasks.\n",
    "        Measures the difference between the predicted probability distribution and the true distribution.\n",
    "        Produces probabilistic outputs.\n",
    "        \n",
    "    Logistic Loss (Sigmoid Loss):\n",
    "    \n",
    "        Used in logistic regression and related models for binary classification tasks.\n",
    "        Measures the difference between the predicted probability and the true label.\n",
    "        Produces probabilistic outputs.\n",
    "        \n",
    "    Log Loss (Binary Cross Entropy Loss):\n",
    "    \n",
    "        Similar to the Cross Entropy Loss, but used for binary classification tasks.\n",
    "        Measures the difference between the predicted probability and the true label.\n",
    "        Produces probabilistic outputs."
   ]
  },
  {
   "cell_type": "markdown",
   "id": "77716acb",
   "metadata": {},
   "source": [
    "    Difference between Naive Bayes and Logistic Regression?\n",
    "        \n",
    "        Naive Bayes : \n",
    "            features are conditionally independent given the class label\n",
    "        Logistic Regression : "
   ]
  },
  {
   "cell_type": "markdown",
   "id": "249210b2",
   "metadata": {},
   "source": [
    "     Difference between Randomized Search CV Grid Search CV?\n",
    "         Grid Search CV:\n",
    "             searches through all possible combinations of hyperparameters that you specify in a predefined grid.\n",
    "             computationally expensive\n",
    "             Grid Search is deterministic, meaning it will always search the same set of hyperparameter combinations.\n",
    "             \n",
    "         Randomized Search CV:\n",
    "              samples a specified number of random combinations of hyperparameters from a predefined distribution for each hyperparameter.\n",
    "              computationally more efficient \n",
    "              It's stochastic process, which means different runs of Randomized Search may yield different results."
   ]
  },
  {
   "cell_type": "markdown",
   "id": "f7a14719",
   "metadata": {},
   "source": [
    "    what is difference between Standard Scalar and Min-Max Scalar?\n",
    "        Standard Scaler (Z-score normalization):\n",
    "            scales the data such that it has a mean (average) of 0 and a standard deviation of 1.\n",
    "            very sensitive to outliers\n",
    "            range : -∞ to +∞\n",
    "        Min-Max Scaler (Min-Max normalization):\n",
    "            scales the data to a specific range, typically between 0 and 1\n",
    "            less sensitive to outliers\n",
    "            range : [0, 1] or any specified range"
   ]
  },
  {
   "cell_type": "markdown",
   "id": "032d781f",
   "metadata": {},
   "source": [
    "    what is High Bias and Low variance and difference?\n",
    "        High Bias (Underfitting):\n",
    "            occurs when a model fails to capture the underlying patterns in the data.\n",
    "            poor performance on both the training and test datasets\n",
    "        Low Variance (Good Generalization):\n",
    "            good understanding the patterns in the data.\n",
    "            perform well on the test dataset"
   ]
  },
  {
   "cell_type": "markdown",
   "id": "a8981051",
   "metadata": {},
   "source": [
    "    what is difference between Parametric and Non- Parametric Model\n",
    "        Parametric Model :\n",
    "            Based on assumption\n",
    "                Linear Regression\n",
    "                Logistic Regression\n",
    "                Linear Discriminant Analysis\n",
    "                Navie Bayes\n",
    "                \n",
    "        Non-Parametric Model : \n",
    "            Not based assumption\n",
    "                K-NN\n",
    "                Decision Tree\n",
    "                Random Forest\n",
    "                Support Vector Machine\n",
    "                Kernel Density Estimation\n",
    "                Principal Component Analysis"
   ]
  },
  {
   "cell_type": "markdown",
   "id": "6566bf13",
   "metadata": {},
   "source": [
    "    Different types of imputation techniques?\n",
    "        Mean/Median Imputation:\n",
    "        Mode Imputation:\n",
    "        Forward Fill (or Last Observation Carried Forward - LOCF):\n",
    "        Backward Fill (or Next Observation Carried Backward - NOCB):\n",
    "        Linear Interpolation:\n",
    "        K-Nearest Neighbors (KNN) Imputation:"
   ]
  },
  {
   "cell_type": "markdown",
   "id": "651673c8",
   "metadata": {},
   "source": [
    "    Difference between Cross-Validation and Bootstrap technique?\n",
    "        Cross-Validation:\n",
    "            dividing the dataset into multiple subsets\n",
    "            provides an estimate of both bias and variance in model performance by testing on different subsets of data.\n",
    "            partitioned into non-overlapping subsets,\n",
    "        Bootstrapping:\n",
    "             repeatedly sampling data points from the original dataset with replacement\n",
    "             provides an estimate of the sampling distribution and can be used to assess the variability and confidence intervals of statistics.\n",
    "             Data points are sampled with replacement."
   ]
  }
 ],
 "metadata": {
  "kernelspec": {
   "display_name": "Python 3 (ipykernel)",
   "language": "python",
   "name": "python3"
  },
  "language_info": {
   "codemirror_mode": {
    "name": "ipython",
    "version": 3
   },
   "file_extension": ".py",
   "mimetype": "text/x-python",
   "name": "python",
   "nbconvert_exporter": "python",
   "pygments_lexer": "ipython3",
   "version": "3.11.5"
  },
  "toc": {
   "base_numbering": 1,
   "nav_menu": {},
   "number_sections": true,
   "sideBar": true,
   "skip_h1_title": false,
   "title_cell": "Table of Contents",
   "title_sidebar": "Contents",
   "toc_cell": false,
   "toc_position": {},
   "toc_section_display": true,
   "toc_window_display": false
  },
  "varInspector": {
   "cols": {
    "lenName": 16,
    "lenType": 16,
    "lenVar": 40
   },
   "kernels_config": {
    "python": {
     "delete_cmd_postfix": "",
     "delete_cmd_prefix": "del ",
     "library": "var_list.py",
     "varRefreshCmd": "print(var_dic_list())"
    },
    "r": {
     "delete_cmd_postfix": ") ",
     "delete_cmd_prefix": "rm(",
     "library": "var_list.r",
     "varRefreshCmd": "cat(var_dic_list()) "
    }
   },
   "types_to_exclude": [
    "module",
    "function",
    "builtin_function_or_method",
    "instance",
    "_Feature"
   ],
   "window_display": false
  }
 },
 "nbformat": 4,
 "nbformat_minor": 5
}
